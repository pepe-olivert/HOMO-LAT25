{
 "cells": [
  {
   "cell_type": "markdown",
   "metadata": {},
   "source": [
    "# IberLEF - HOMO-LAT25\n",
    "---"
   ]
  },
  {
   "cell_type": "code",
   "execution_count": 144,
   "metadata": {},
   "outputs": [],
   "source": [
    "import torch\n",
    "import torch.nn as nn\n",
    "\n",
    "from transformers import AutoModelForSequenceClassification, AutoTokenizer, DataCollatorWithPadding, AutoModel, AutoConfig\n",
    "from sklearn.metrics import classification_report, f1_score, confusion_matrix, ConfusionMatrixDisplay\n",
    "\n",
    "import numpy as np\n",
    "import pandas as pd\n",
    "import matplotlib.pyplot as plt\n",
    "\n",
    "import ast"
   ]
  },
  {
   "cell_type": "code",
   "execution_count": 145,
   "metadata": {},
   "outputs": [
    {
     "name": "stdout",
     "output_type": "stream",
     "text": [
      "Device count: 1\n",
      "Current device: 0\n",
      "NVIDIA GeForce RTX 3090\n"
     ]
    }
   ],
   "source": [
    "import os\n",
    "os.environ[\"CUDA_VISIBLE_DEVICES\"] = \"0\"\n",
    "\n",
    "device = torch.device(\"cuda:0\" if torch.cuda.is_available() else \"cpu\")\n",
    "\n",
    "if torch.cuda.is_available():\n",
    "    print(\"Device count:\", torch.cuda.device_count())\n",
    "    print(\"Current device:\", torch.cuda.current_device())\n",
    "    for i in range(torch.cuda.device_count()):\n",
    "        print(torch.cuda.get_device_name(i))"
   ]
  },
  {
   "cell_type": "code",
   "execution_count": 146,
   "metadata": {},
   "outputs": [],
   "source": [
    "# Set random seeds for reproducibility\n",
    "RANDOM_SEED = 42\n",
    "torch.manual_seed(RANDOM_SEED)\n",
    "torch.cuda.manual_seed_all(RANDOM_SEED)\n",
    "np.random.seed(RANDOM_SEED)"
   ]
  },
  {
   "cell_type": "code",
   "execution_count": 147,
   "metadata": {},
   "outputs": [],
   "source": [
    "# Parameters\n",
    "NUM_CLASSES = 3\n",
    "MODELS_PATH = \"../checkpoints/\"\n",
    "\n",
    "# Model Hyperparameters\n",
    "MAX_LEN = 256\n",
    "BATCH_SIZE = 16\n",
    "EPOCHS = 10\n",
    "LEARNING_RATE = 1e-5\n",
    "WARMUP_STEPS = 0\n",
    "WEIGHT_DECAY = 0.01"
   ]
  },
  {
   "cell_type": "code",
   "execution_count": 148,
   "metadata": {},
   "outputs": [],
   "source": [
    "# ENG\n",
    "paraphrase_col = \"paraphrase\"\n",
    "text_col = \"translation\"\n",
    "\n",
    "# ESP\n",
    "# paraphrase_col = \"paraphrase_esp\"\n",
    "# text_col = \"post content\""
   ]
  },
  {
   "cell_type": "code",
   "execution_count": 149,
   "metadata": {},
   "outputs": [
    {
     "name": "stderr",
     "output_type": "stream",
     "text": [
      "Some weights of the model checkpoint at cardiffnlp/twitter-roberta-base-sentiment-latest were not used when initializing RobertaForSequenceClassification: ['roberta.pooler.dense.bias', 'roberta.pooler.dense.weight']\n",
      "- This IS expected if you are initializing RobertaForSequenceClassification from the checkpoint of a model trained on another task or with another architecture (e.g. initializing a BertForSequenceClassification model from a BertForPreTraining model).\n",
      "- This IS NOT expected if you are initializing RobertaForSequenceClassification from the checkpoint of a model that you expect to be exactly identical (initializing a BertForSequenceClassification model from a BertForSequenceClassification model).\n"
     ]
    },
    {
     "data": {
      "text/plain": [
       "RobertaForSequenceClassification(\n",
       "  (roberta): RobertaModel(\n",
       "    (embeddings): RobertaEmbeddings(\n",
       "      (word_embeddings): Embedding(50265, 768, padding_idx=1)\n",
       "      (position_embeddings): Embedding(514, 768, padding_idx=1)\n",
       "      (token_type_embeddings): Embedding(1, 768)\n",
       "      (LayerNorm): LayerNorm((768,), eps=1e-05, elementwise_affine=True)\n",
       "      (dropout): Dropout(p=0.1, inplace=False)\n",
       "    )\n",
       "    (encoder): RobertaEncoder(\n",
       "      (layer): ModuleList(\n",
       "        (0-11): 12 x RobertaLayer(\n",
       "          (attention): RobertaAttention(\n",
       "            (self): RobertaSdpaSelfAttention(\n",
       "              (query): Linear(in_features=768, out_features=768, bias=True)\n",
       "              (key): Linear(in_features=768, out_features=768, bias=True)\n",
       "              (value): Linear(in_features=768, out_features=768, bias=True)\n",
       "              (dropout): Dropout(p=0.1, inplace=False)\n",
       "            )\n",
       "            (output): RobertaSelfOutput(\n",
       "              (dense): Linear(in_features=768, out_features=768, bias=True)\n",
       "              (LayerNorm): LayerNorm((768,), eps=1e-05, elementwise_affine=True)\n",
       "              (dropout): Dropout(p=0.1, inplace=False)\n",
       "            )\n",
       "          )\n",
       "          (intermediate): RobertaIntermediate(\n",
       "            (dense): Linear(in_features=768, out_features=3072, bias=True)\n",
       "            (intermediate_act_fn): GELUActivation()\n",
       "          )\n",
       "          (output): RobertaOutput(\n",
       "            (dense): Linear(in_features=3072, out_features=768, bias=True)\n",
       "            (LayerNorm): LayerNorm((768,), eps=1e-05, elementwise_affine=True)\n",
       "            (dropout): Dropout(p=0.1, inplace=False)\n",
       "          )\n",
       "        )\n",
       "      )\n",
       "    )\n",
       "  )\n",
       "  (classifier): RobertaClassificationHead(\n",
       "    (dense): Linear(in_features=768, out_features=768, bias=True)\n",
       "    (dropout): Dropout(p=0.1, inplace=False)\n",
       "    (out_proj): Linear(in_features=768, out_features=3, bias=True)\n",
       "  )\n",
       ")"
      ]
     },
     "execution_count": 149,
     "metadata": {},
     "output_type": "execute_result"
    }
   ],
   "source": [
    "# MODEL_NAME = \"google-bert/bert-base-uncased\"\n",
    "MODEL_NAME = \"cardiffnlp/twitter-roberta-base-sentiment-latest\"\n",
    "# MODEL_NAME = \"FacebookAI/roberta-base\"\n",
    "# MODEL_NAME = \"tabularisai/multilingual-sentiment-analysis\"\n",
    "# MODEL_NAME = \"nlptown/bert-base-multilingual-uncased-sentiment\"\n",
    "# MODEL_NAME = \"google-bert/bert-base-multilingual-uncased\"\n",
    "# MODEL_NAME = \"JonatanGk/roberta-base-bne-finetuned-hate-speech-offensive-spanish\"\n",
    "# MODEL_NAME = \"pysentimiento/robertuito-sentiment-analysis\"\n",
    "\n",
    "id2label = {0: 'NEG', 1: 'NEU', 2: 'POS'}\n",
    "\n",
    "label2id = {'NEG': 0, 'NEU': 1, 'POS': 2}\n",
    "\n",
    "model = AutoModelForSequenceClassification.from_pretrained(MODEL_NAME, num_labels=NUM_CLASSES, id2label=id2label, label2id=label2id)\n",
    "tokenizer = AutoTokenizer.from_pretrained(MODEL_NAME)\n",
    "data_collator = DataCollatorWithPadding(tokenizer=tokenizer)\n",
    "\n",
    "model.to(device)"
   ]
  },
  {
   "cell_type": "code",
   "execution_count": 150,
   "metadata": {},
   "outputs": [
    {
     "data": {
      "text/plain": [
       "RobertaConfig {\n",
       "  \"_attn_implementation_autoset\": true,\n",
       "  \"_name_or_path\": \"cardiffnlp/twitter-roberta-base-sentiment-latest\",\n",
       "  \"architectures\": [\n",
       "    \"RobertaForSequenceClassification\"\n",
       "  ],\n",
       "  \"attention_probs_dropout_prob\": 0.1,\n",
       "  \"bos_token_id\": 0,\n",
       "  \"classifier_dropout\": null,\n",
       "  \"eos_token_id\": 2,\n",
       "  \"gradient_checkpointing\": false,\n",
       "  \"hidden_act\": \"gelu\",\n",
       "  \"hidden_dropout_prob\": 0.1,\n",
       "  \"hidden_size\": 768,\n",
       "  \"id2label\": {\n",
       "    \"0\": \"NEG\",\n",
       "    \"1\": \"NEU\",\n",
       "    \"2\": \"POS\"\n",
       "  },\n",
       "  \"initializer_range\": 0.02,\n",
       "  \"intermediate_size\": 3072,\n",
       "  \"label2id\": {\n",
       "    \"NEG\": 0,\n",
       "    \"NEU\": 1,\n",
       "    \"POS\": 2\n",
       "  },\n",
       "  \"layer_norm_eps\": 1e-05,\n",
       "  \"max_position_embeddings\": 514,\n",
       "  \"model_type\": \"roberta\",\n",
       "  \"num_attention_heads\": 12,\n",
       "  \"num_hidden_layers\": 12,\n",
       "  \"pad_token_id\": 1,\n",
       "  \"position_embedding_type\": \"absolute\",\n",
       "  \"torch_dtype\": \"float32\",\n",
       "  \"transformers_version\": \"4.49.0\",\n",
       "  \"type_vocab_size\": 1,\n",
       "  \"use_cache\": true,\n",
       "  \"vocab_size\": 50265\n",
       "}"
      ]
     },
     "execution_count": 150,
     "metadata": {},
     "output_type": "execute_result"
    }
   ],
   "source": [
    "model.config"
   ]
  },
  {
   "cell_type": "code",
   "execution_count": 151,
   "metadata": {},
   "outputs": [],
   "source": [
    "class CustomBERTModel(nn.Module):\n",
    "    def __init__(self, pretrained_model_name, num_labels):\n",
    "        super(CustomBERTModel, self).__init__()\n",
    "        self.bert = AutoModel.from_pretrained(pretrained_model_name, num_labels=num_labels)\n",
    "        self.feedforward = nn.Sequential(\n",
    "            nn.Linear(self.bert.config.hidden_size, self.bert.config.hidden_size // 2),\n",
    "            nn.ReLU(),\n",
    "            nn.Dropout(0.3),\n",
    "            nn.Linear(self.bert.config.hidden_size // 2, self.bert.config.hidden_size // 4),\n",
    "            nn.ReLU(),\n",
    "            nn.Dropout(0.3)\n",
    "        )\n",
    "        self.fc = nn.Linear(self.bert.config.hidden_size // 4, num_labels)\n",
    "\n",
    "    def forward(self, input_ids, attention_mask, labels=None, token_type_ids=None):\n",
    "        output = self.bert(input_ids=input_ids, attention_mask=attention_mask)\n",
    "        # Get the last hidden state\n",
    "        last_hidden_state = output.last_hidden_state\n",
    "        # Use the CLS token representation (first token)\n",
    "        cls_token = last_hidden_state[:, 0, :]\n",
    "        # Pass through feedforward layers\n",
    "        x = self.feedforward(cls_token)\n",
    "        # Final classification layer\n",
    "        logits = self.fc(x)\n",
    "        return logits"
   ]
  },
  {
   "cell_type": "code",
   "execution_count": 152,
   "metadata": {},
   "outputs": [],
   "source": [
    "# model = CustomBERTModel(MODEL_NAME, NUM_CLASSES)\n",
    "# model.to(device)"
   ]
  },
  {
   "cell_type": "markdown",
   "metadata": {},
   "source": [
    "### Tokenizer"
   ]
  },
  {
   "cell_type": "code",
   "execution_count": 153,
   "metadata": {},
   "outputs": [
    {
     "name": "stdout",
     "output_type": "stream",
     "text": [
      "Max sequence length: 1000000000000000019884624838656\n",
      "Max sequence length: 256\n"
     ]
    }
   ],
   "source": [
    "print(\"Max sequence length:\", tokenizer.model_max_length)\n",
    "tokenizer.model_max_length = MAX_LEN\n",
    "print(\"Max sequence length:\", tokenizer.model_max_length)"
   ]
  },
  {
   "cell_type": "code",
   "execution_count": 154,
   "metadata": {},
   "outputs": [
    {
     "name": "stdout",
     "output_type": "stream",
     "text": [
      "['<s>', '<pad>', '</s>', '<unk>', '.', 'Ġthe', ',', 'Ġto', 'Ġand', 'Ġof']\n"
     ]
    }
   ],
   "source": [
    "# Print first 10 ids of tokenizer\n",
    "print(tokenizer.convert_ids_to_tokens(range(10)))"
   ]
  },
  {
   "cell_type": "markdown",
   "metadata": {},
   "source": [
    "### Load datasets"
   ]
  },
  {
   "cell_type": "code",
   "execution_count": 155,
   "metadata": {},
   "outputs": [],
   "source": [
    "data_path = \"../data/\"\n",
    "train_path = data_path + \"train_paraphrased.csv\"\n",
    "val_path = data_path + \"val_paraphrased.csv\"\n",
    "test_path = data_path + \"test_paraphrased.csv\"\n",
    "dev_path = data_path + \"dev_paraphrased.csv\""
   ]
  },
  {
   "cell_type": "code",
   "execution_count": 156,
   "metadata": {},
   "outputs": [],
   "source": [
    "data = pd.read_csv(data_path + \"data.csv\", index_col=0)"
   ]
  },
  {
   "cell_type": "code",
   "execution_count": 157,
   "metadata": {},
   "outputs": [],
   "source": [
    "# train_df = pd.read_csv(train_path)\n",
    "# val_df = pd.read_csv(val_path)\n",
    "# test_df = pd.read_csv(test_path)\n",
    "# dev_df = pd.read_csv(dev_path)\n",
    "\n",
    "\n",
    "# columns = ['country', 'keyword', 'post content', 'label', 'embeddings',\n",
    "#        'translation', 'embeddings_ingles', 'absa', 'absa_esp', 'paraphrase',\n",
    "#        'paraphrase_esp', 'embedding_paraphrase1', 'embedding_paraphrase2',\n",
    "#        'embedding_paraphrase_esp1', 'embedding_paraphrase_esp2']\n",
    "\n",
    "# # Create columns if they don't exist\n",
    "# for col in columns:\n",
    "#     if col not in train_df.columns:\n",
    "#         train_df[col] = None\n",
    "#     if col not in val_df.columns:\n",
    "#         val_df[col] = None\n",
    "#     if col not in test_df.columns:\n",
    "#         test_df[col] = None\n",
    "#     if col not in dev_df.columns:\n",
    "#         dev_df[col] = None\n",
    "\n",
    "# # Order dataframe columns\n",
    "# train_df = train_df[columns]\n",
    "# val_df = val_df[columns]\n",
    "# test_df = test_df[columns]\n",
    "# dev_df = dev_df[columns]\n",
    "\n",
    "# print(train_df.columns)\n",
    "# print(val_df.columns)\n",
    "# print(test_df.columns)\n",
    "# print(dev_df.columns)"
   ]
  },
  {
   "cell_type": "code",
   "execution_count": 158,
   "metadata": {},
   "outputs": [],
   "source": [
    "# # Join all dataframes\n",
    "# data = pd.concat([train_df, val_df, test_df, dev_df], ignore_index=True)\n",
    "# data.shape"
   ]
  },
  {
   "cell_type": "code",
   "execution_count": 159,
   "metadata": {},
   "outputs": [
    {
     "data": {
      "text/html": [
       "<div>\n",
       "<style scoped>\n",
       "    .dataframe tbody tr th:only-of-type {\n",
       "        vertical-align: middle;\n",
       "    }\n",
       "\n",
       "    .dataframe tbody tr th {\n",
       "        vertical-align: top;\n",
       "    }\n",
       "\n",
       "    .dataframe thead th {\n",
       "        text-align: right;\n",
       "    }\n",
       "</style>\n",
       "<table border=\"1\" class=\"dataframe\">\n",
       "  <thead>\n",
       "    <tr style=\"text-align: right;\">\n",
       "      <th></th>\n",
       "      <th>keyword</th>\n",
       "      <th>post content</th>\n",
       "      <th>label</th>\n",
       "      <th>embeddings</th>\n",
       "      <th>translation</th>\n",
       "      <th>embeddings_ingles</th>\n",
       "      <th>absa</th>\n",
       "      <th>absa_esp</th>\n",
       "      <th>paraphrase</th>\n",
       "      <th>paraphrase_esp</th>\n",
       "      <th>embedding_paraphrase1</th>\n",
       "      <th>embedding_paraphrase2</th>\n",
       "      <th>embedding_paraphrase_esp1</th>\n",
       "      <th>embedding_paraphrase_esp2</th>\n",
       "      <th>country</th>\n",
       "    </tr>\n",
       "  </thead>\n",
       "  <tbody>\n",
       "    <tr>\n",
       "      <th>Argentina</th>\n",
       "      <td>trans</td>\n",
       "      <td>ni idea quin es yo conozco a elon muse que es ...</td>\n",
       "      <td>1</td>\n",
       "      <td>[ 1.03526646e-02 -3.98133248e-02  4.34677452e-...</td>\n",
       "      <td>no idea who that is i know elon muse who is a ...</td>\n",
       "      <td>[-6.73531964e-02 -7.03806058e-02  3.57527845e-...</td>\n",
       "      <td>[CLS] no idea who that is i know elon muse who...</td>\n",
       "      <td>[CLS] ni idea quin es yo conozco a elon muse q...</td>\n",
       "      <td>['I have no clue who that is, but I know Elon ...</td>\n",
       "      <td>['No tengo ni la menor idea de quién es, pero ...</td>\n",
       "      <td>[-9.28104371e-02  2.67270450e-02  2.41023470e-...</td>\n",
       "      <td>[-6.51732311e-02  4.97170277e-02  3.17783616e-...</td>\n",
       "      <td>[ 1.69905182e-02 -1.14093013e-02 -2.88800877e-...</td>\n",
       "      <td>[ 0.03842558  0.02231733 -0.05300364 -0.027510...</td>\n",
       "      <td>NaN</td>\n",
       "    </tr>\n",
       "    <tr>\n",
       "      <th>Argentina</th>\n",
       "      <td>gay</td>\n",
       "      <td>quise decir que generaciones no tan viejas est...</td>\n",
       "      <td>0</td>\n",
       "      <td>[ 1.48003269e-02  1.87553223e-02 -4.54413369e-...</td>\n",
       "      <td>i meant to say that generations not so old are...</td>\n",
       "      <td>[ 8.76692608e-02  1.54911121e-02 -6.65056929e-...</td>\n",
       "      <td>[CLS] i meant to say that generations not so o...</td>\n",
       "      <td>[CLS] quise decir que generaciones no tan viej...</td>\n",
       "      <td>[\"I was trying to convey that not-so-old gener...</td>\n",
       "      <td>['Lo que quiero expresar es que hay generacion...</td>\n",
       "      <td>[-9.28104371e-02  2.67270450e-02  2.41023470e-...</td>\n",
       "      <td>[-4.96738590e-02  8.76008645e-02  9.10560042e-...</td>\n",
       "      <td>[ 1.69905182e-02 -1.14093013e-02 -2.88800877e-...</td>\n",
       "      <td>[ 0.03842558  0.02231733 -0.05300364 -0.027510...</td>\n",
       "      <td>NaN</td>\n",
       "    </tr>\n",
       "    <tr>\n",
       "      <th>Argentina</th>\n",
       "      <td>transgénero</td>\n",
       "      <td>somos una pareja trans tenemos una relacin pol...</td>\n",
       "      <td>1</td>\n",
       "      <td>[ 6.02439139e-03 -4.05745283e-02  3.04297004e-...</td>\n",
       "      <td>we are a trans couple we have a polyamorous an...</td>\n",
       "      <td>[-1.39014676e-01 -3.52461934e-02 -6.17404003e-...</td>\n",
       "      <td>[CLS] we are a trans couple we have a polyamor...</td>\n",
       "      <td>[CLS] somos una pareja trans tenemos una relac...</td>\n",
       "      <td>[\"We are a trans couple with a polyamorous and...</td>\n",
       "      <td>['Somos una pareja transgénero y tenemos una r...</td>\n",
       "      <td>[-9.28104371e-02  2.67270450e-02  2.41023470e-...</td>\n",
       "      <td>[-4.96738590e-02  8.76008645e-02  9.10560042e-...</td>\n",
       "      <td>[ 1.69905182e-02 -1.14093013e-02 -2.88800877e-...</td>\n",
       "      <td>[ 0.03842558  0.02231733 -0.05300364 -0.027510...</td>\n",
       "      <td>NaN</td>\n",
       "    </tr>\n",
       "    <tr>\n",
       "      <th>Argentina</th>\n",
       "      <td>lesbiana</td>\n",
       "      <td>epidemia el caso de la lesbiana fumando fue ha...</td>\n",
       "      <td>1</td>\n",
       "      <td>[ 1.32222874e-02 -1.37489401e-02  4.94725667e-...</td>\n",
       "      <td>epidemic the case of the lesbian smoking was a...</td>\n",
       "      <td>[ 3.90458480e-02  6.92736730e-03  5.75472973e-...</td>\n",
       "      <td>[CLS] epidemic the case of the lesbian smoking...</td>\n",
       "      <td>[CLS] epidemia el caso de la lesbiana fumando ...</td>\n",
       "      <td>['epidemic the situation with the lesbian smok...</td>\n",
       "      <td>['la situación con la lesbiana fumando ocurrió...</td>\n",
       "      <td>[-9.28104371e-02  2.67270450e-02  2.41023470e-...</td>\n",
       "      <td>[-6.51732311e-02  4.97170277e-02  3.17783616e-...</td>\n",
       "      <td>[ 1.69905182e-02 -1.14093013e-02 -2.88800877e-...</td>\n",
       "      <td>[ 0.03842558  0.02231733 -0.05300364 -0.027510...</td>\n",
       "      <td>NaN</td>\n",
       "    </tr>\n",
       "    <tr>\n",
       "      <th>Argentina</th>\n",
       "      <td>trans</td>\n",
       "      <td>la joven y la trans seducian clientes y la git...</td>\n",
       "      <td>1</td>\n",
       "      <td>[ 0.00305685 -0.01683133  0.01658298 -0.002807...</td>\n",
       "      <td>the young woman and the trans seduced clients ...</td>\n",
       "      <td>[-5.73628880e-02  1.41364560e-01 -7.25603327e-...</td>\n",
       "      <td>[CLS] the young woman and the trans seduced cl...</td>\n",
       "      <td>[CLS] la joven y la trans seducian clientes y ...</td>\n",
       "      <td>['The young lady and the transgender person wo...</td>\n",
       "      <td>['la chica y la trans atraían a los clientes m...</td>\n",
       "      <td>[-9.28104371e-02  2.67270450e-02  2.41023470e-...</td>\n",
       "      <td>[-6.51732311e-02  4.97170277e-02  3.17783616e-...</td>\n",
       "      <td>[ 1.69905182e-02 -1.14093013e-02 -2.88800877e-...</td>\n",
       "      <td>[ 0.03842558  0.02231733 -0.05300364 -0.027510...</td>\n",
       "      <td>NaN</td>\n",
       "    </tr>\n",
       "  </tbody>\n",
       "</table>\n",
       "</div>"
      ],
      "text/plain": [
       "               keyword                                       post content  \\\n",
       "Argentina        trans  ni idea quin es yo conozco a elon muse que es ...   \n",
       "Argentina          gay  quise decir que generaciones no tan viejas est...   \n",
       "Argentina  transgénero  somos una pareja trans tenemos una relacin pol...   \n",
       "Argentina     lesbiana  epidemia el caso de la lesbiana fumando fue ha...   \n",
       "Argentina        trans  la joven y la trans seducian clientes y la git...   \n",
       "\n",
       "           label                                         embeddings  \\\n",
       "Argentina      1  [ 1.03526646e-02 -3.98133248e-02  4.34677452e-...   \n",
       "Argentina      0  [ 1.48003269e-02  1.87553223e-02 -4.54413369e-...   \n",
       "Argentina      1  [ 6.02439139e-03 -4.05745283e-02  3.04297004e-...   \n",
       "Argentina      1  [ 1.32222874e-02 -1.37489401e-02  4.94725667e-...   \n",
       "Argentina      1  [ 0.00305685 -0.01683133  0.01658298 -0.002807...   \n",
       "\n",
       "                                                 translation  \\\n",
       "Argentina  no idea who that is i know elon muse who is a ...   \n",
       "Argentina  i meant to say that generations not so old are...   \n",
       "Argentina  we are a trans couple we have a polyamorous an...   \n",
       "Argentina  epidemic the case of the lesbian smoking was a...   \n",
       "Argentina  the young woman and the trans seduced clients ...   \n",
       "\n",
       "                                           embeddings_ingles  \\\n",
       "Argentina  [-6.73531964e-02 -7.03806058e-02  3.57527845e-...   \n",
       "Argentina  [ 8.76692608e-02  1.54911121e-02 -6.65056929e-...   \n",
       "Argentina  [-1.39014676e-01 -3.52461934e-02 -6.17404003e-...   \n",
       "Argentina  [ 3.90458480e-02  6.92736730e-03  5.75472973e-...   \n",
       "Argentina  [-5.73628880e-02  1.41364560e-01 -7.25603327e-...   \n",
       "\n",
       "                                                        absa  \\\n",
       "Argentina  [CLS] no idea who that is i know elon muse who...   \n",
       "Argentina  [CLS] i meant to say that generations not so o...   \n",
       "Argentina  [CLS] we are a trans couple we have a polyamor...   \n",
       "Argentina  [CLS] epidemic the case of the lesbian smoking...   \n",
       "Argentina  [CLS] the young woman and the trans seduced cl...   \n",
       "\n",
       "                                                    absa_esp  \\\n",
       "Argentina  [CLS] ni idea quin es yo conozco a elon muse q...   \n",
       "Argentina  [CLS] quise decir que generaciones no tan viej...   \n",
       "Argentina  [CLS] somos una pareja trans tenemos una relac...   \n",
       "Argentina  [CLS] epidemia el caso de la lesbiana fumando ...   \n",
       "Argentina  [CLS] la joven y la trans seducian clientes y ...   \n",
       "\n",
       "                                                  paraphrase  \\\n",
       "Argentina  ['I have no clue who that is, but I know Elon ...   \n",
       "Argentina  [\"I was trying to convey that not-so-old gener...   \n",
       "Argentina  [\"We are a trans couple with a polyamorous and...   \n",
       "Argentina  ['epidemic the situation with the lesbian smok...   \n",
       "Argentina  ['The young lady and the transgender person wo...   \n",
       "\n",
       "                                              paraphrase_esp  \\\n",
       "Argentina  ['No tengo ni la menor idea de quién es, pero ...   \n",
       "Argentina  ['Lo que quiero expresar es que hay generacion...   \n",
       "Argentina  ['Somos una pareja transgénero y tenemos una r...   \n",
       "Argentina  ['la situación con la lesbiana fumando ocurrió...   \n",
       "Argentina  ['la chica y la trans atraían a los clientes m...   \n",
       "\n",
       "                                       embedding_paraphrase1  \\\n",
       "Argentina  [-9.28104371e-02  2.67270450e-02  2.41023470e-...   \n",
       "Argentina  [-9.28104371e-02  2.67270450e-02  2.41023470e-...   \n",
       "Argentina  [-9.28104371e-02  2.67270450e-02  2.41023470e-...   \n",
       "Argentina  [-9.28104371e-02  2.67270450e-02  2.41023470e-...   \n",
       "Argentina  [-9.28104371e-02  2.67270450e-02  2.41023470e-...   \n",
       "\n",
       "                                       embedding_paraphrase2  \\\n",
       "Argentina  [-6.51732311e-02  4.97170277e-02  3.17783616e-...   \n",
       "Argentina  [-4.96738590e-02  8.76008645e-02  9.10560042e-...   \n",
       "Argentina  [-4.96738590e-02  8.76008645e-02  9.10560042e-...   \n",
       "Argentina  [-6.51732311e-02  4.97170277e-02  3.17783616e-...   \n",
       "Argentina  [-6.51732311e-02  4.97170277e-02  3.17783616e-...   \n",
       "\n",
       "                                   embedding_paraphrase_esp1  \\\n",
       "Argentina  [ 1.69905182e-02 -1.14093013e-02 -2.88800877e-...   \n",
       "Argentina  [ 1.69905182e-02 -1.14093013e-02 -2.88800877e-...   \n",
       "Argentina  [ 1.69905182e-02 -1.14093013e-02 -2.88800877e-...   \n",
       "Argentina  [ 1.69905182e-02 -1.14093013e-02 -2.88800877e-...   \n",
       "Argentina  [ 1.69905182e-02 -1.14093013e-02 -2.88800877e-...   \n",
       "\n",
       "                                   embedding_paraphrase_esp2 country  \n",
       "Argentina  [ 0.03842558  0.02231733 -0.05300364 -0.027510...     NaN  \n",
       "Argentina  [ 0.03842558  0.02231733 -0.05300364 -0.027510...     NaN  \n",
       "Argentina  [ 0.03842558  0.02231733 -0.05300364 -0.027510...     NaN  \n",
       "Argentina  [ 0.03842558  0.02231733 -0.05300364 -0.027510...     NaN  \n",
       "Argentina  [ 0.03842558  0.02231733 -0.05300364 -0.027510...     NaN  "
      ]
     },
     "execution_count": 159,
     "metadata": {},
     "output_type": "execute_result"
    }
   ],
   "source": [
    "data.head()"
   ]
  },
  {
   "cell_type": "code",
   "execution_count": 160,
   "metadata": {},
   "outputs": [],
   "source": [
    "data[paraphrase_col] = data[paraphrase_col].str.lower()\n",
    "data[text_col] = data[text_col].str.lower()"
   ]
  },
  {
   "cell_type": "code",
   "execution_count": 161,
   "metadata": {},
   "outputs": [
    {
     "data": {
      "text/plain": [
       "Index(['keyword', 'post content', 'label', 'embeddings', 'translation',\n",
       "       'embeddings_ingles', 'absa', 'absa_esp', 'paraphrase', 'paraphrase_esp',\n",
       "       'embedding_paraphrase1', 'embedding_paraphrase2',\n",
       "       'embedding_paraphrase_esp1', 'embedding_paraphrase_esp2', 'country'],\n",
       "      dtype='object')"
      ]
     },
     "execution_count": 161,
     "metadata": {},
     "output_type": "execute_result"
    }
   ],
   "source": [
    "from sklearn.model_selection import train_test_split\n",
    "\n",
    "train_df, test_df = train_test_split(data, test_size=0.2, random_state=RANDOM_SEED, stratify=data['label'])\n",
    "train_df, val_df = train_test_split(train_df, test_size=1/8, random_state=RANDOM_SEED, stratify=train_df['label'])\n",
    "\n",
    "train_df.columns"
   ]
  },
  {
   "cell_type": "code",
   "execution_count": 162,
   "metadata": {},
   "outputs": [],
   "source": [
    "# Reset all indices\n",
    "train_df.reset_index(drop=True, inplace=True)\n",
    "val_df.reset_index(drop=True, inplace=True)\n",
    "test_df.reset_index(drop=True, inplace=True)"
   ]
  },
  {
   "cell_type": "code",
   "execution_count": 163,
   "metadata": {},
   "outputs": [],
   "source": [
    "import re\n",
    "import html\n",
    "\n",
    "def clean_reddit_text(text):\n",
    "    \"\"\"\n",
    "    Clean and normalize Reddit post text for sentiment analysis\n",
    "    \"\"\"\n",
    "    if not isinstance(text, str):\n",
    "        return \"\"\n",
    "    \n",
    "    # Unescape HTML entities\n",
    "    text = html.unescape(text)\n",
    "    \n",
    "    # Remove URLs\n",
    "    text = re.sub(r'http[s]?://(?:[a-zA-Z]|[0-9]|[$-_@.&+]|[!*\\\\(\\\\),]|(?:%[0-9a-fA-F][0-9a-fA-F]))+', '', text)\n",
    "    \n",
    "    # Remove subreddit references and user mentions\n",
    "    text = re.sub(r'/?[ru]/[A-Za-z0-9_-]+', '', text)\n",
    "    \n",
    "    # Remove markdown formatting\n",
    "    text = re.sub(r'\\*\\*|\\*|~~|__|_|\\[|\\]|\\(|\\)|>', '', text)\n",
    "    \n",
    "    # Handle [deleted] and [removed]\n",
    "    text = re.sub(r'\\[deleted\\]|\\[removed\\]', '', text)\n",
    "    \n",
    "    # Remove edit notes\n",
    "    text = re.sub(r'edit\\s*:', '', text, flags=re.IGNORECASE)\n",
    "    \n",
    "    # Clean up whitespace and newlines\n",
    "    text = re.sub(r'\\s+', ' ', text)\n",
    "\n",
    "    return text.strip()"
   ]
  },
  {
   "cell_type": "code",
   "execution_count": 164,
   "metadata": {},
   "outputs": [
    {
     "data": {
      "text/plain": [
       "0    ['i\\'ve started to believe that the rejection,...\n",
       "1    [\"it’s quite simple: if you notice those at th...\n",
       "2    ['there are numerous transvestites from many y...\n",
       "3    ['to the `transvestites`. i’m not sure if you’...\n",
       "4    ['do you enjoy the penis as a guy? are you gay...\n",
       "Name: paraphrase, dtype: object"
      ]
     },
     "execution_count": 164,
     "metadata": {},
     "output_type": "execute_result"
    }
   ],
   "source": [
    "train_df[paraphrase_col].head()"
   ]
  },
  {
   "cell_type": "code",
   "execution_count": 165,
   "metadata": {},
   "outputs": [
    {
     "name": "stdout",
     "output_type": "stream",
     "text": [
      "<class 'pandas.core.frame.DataFrame'>\n",
      "RangeIndex: 5044 entries, 0 to 5043\n",
      "Data columns (total 15 columns):\n",
      " #   Column                     Non-Null Count  Dtype \n",
      "---  ------                     --------------  ----- \n",
      " 0   keyword                    5044 non-null   object\n",
      " 1   post content               5044 non-null   object\n",
      " 2   label                      5044 non-null   int64 \n",
      " 3   embeddings                 5044 non-null   object\n",
      " 4   translation                5044 non-null   object\n",
      " 5   embeddings_ingles          5044 non-null   object\n",
      " 6   absa                       4055 non-null   object\n",
      " 7   absa_esp                   4055 non-null   object\n",
      " 8   paraphrase                 5044 non-null   object\n",
      " 9   paraphrase_esp             5044 non-null   object\n",
      " 10  embedding_paraphrase1      5044 non-null   object\n",
      " 11  embedding_paraphrase2      5044 non-null   object\n",
      " 12  embedding_paraphrase_esp1  5044 non-null   object\n",
      " 13  embedding_paraphrase_esp2  5044 non-null   object\n",
      " 14  country                    989 non-null    object\n",
      "dtypes: int64(1), object(14)\n",
      "memory usage: 591.2+ KB\n"
     ]
    }
   ],
   "source": [
    "train_df.info()"
   ]
  },
  {
   "cell_type": "code",
   "execution_count": 166,
   "metadata": {},
   "outputs": [],
   "source": [
    "# Rename column 'translation' to 'text'\n",
    "train_df = train_df.rename(columns={text_col: 'text'})\n",
    "val_df = val_df.rename(columns={text_col: 'text'})\n",
    "test_df = test_df.rename(columns={text_col: 'text'})"
   ]
  },
  {
   "cell_type": "code",
   "execution_count": 167,
   "metadata": {},
   "outputs": [],
   "source": [
    "from DataAugDataset import DataAugDataset\n",
    "\n",
    "# Create datasets\n",
    "random_text = 1\n",
    "random_remove = False\n",
    "random_order = False\n",
    "train_dataset = DataAugDataset(train_df[\"text\"].values,\n",
    "                               train_df[paraphrase_col].values, \n",
    "                               train_df[\"label\"].values, \n",
    "                               tokenizer, \n",
    "                               MAX_LEN,\n",
    "                               random_text=random_text,\n",
    "                               random_remove=random_remove, \n",
    "                               random_order=random_order)"
   ]
  },
  {
   "cell_type": "code",
   "execution_count": 168,
   "metadata": {},
   "outputs": [
    {
     "data": {
      "text/plain": [
       "DatasetDict({\n",
       "    validation: Dataset({\n",
       "        features: ['keyword', 'post content', 'label', 'embeddings', 'text', 'embeddings_ingles', 'absa', 'absa_esp', 'paraphrase', 'paraphrase_esp', 'embedding_paraphrase1', 'embedding_paraphrase2', 'embedding_paraphrase_esp1', 'embedding_paraphrase_esp2', 'country'],\n",
       "        num_rows: 721\n",
       "    })\n",
       "    test: Dataset({\n",
       "        features: ['keyword', 'post content', 'label', 'embeddings', 'text', 'embeddings_ingles', 'absa', 'absa_esp', 'paraphrase', 'paraphrase_esp', 'embedding_paraphrase1', 'embedding_paraphrase2', 'embedding_paraphrase_esp1', 'embedding_paraphrase_esp2', 'country'],\n",
       "        num_rows: 1442\n",
       "    })\n",
       "})"
      ]
     },
     "execution_count": 168,
     "metadata": {},
     "output_type": "execute_result"
    }
   ],
   "source": [
    "from datasets import Dataset, DatasetDict\n",
    "\n",
    "raw_datasets = DatasetDict({\n",
    "    # \"train\": Dataset.from_pandas(train_df, preserve_index=False),\n",
    "    \"validation\": Dataset.from_pandas(val_df, preserve_index=False),\n",
    "    \"test\": Dataset.from_pandas(test_df, preserve_index=False),\n",
    "})\n",
    "raw_datasets"
   ]
  },
  {
   "cell_type": "code",
   "execution_count": 169,
   "metadata": {},
   "outputs": [
    {
     "data": {
      "text/plain": [
       "label\n",
       "1    2842\n",
       "0    1703\n",
       "2     499\n",
       "Name: count, dtype: int64"
      ]
     },
     "execution_count": 169,
     "metadata": {},
     "output_type": "execute_result"
    }
   ],
   "source": [
    "train_df[\"label\"].value_counts()"
   ]
  },
  {
   "cell_type": "code",
   "execution_count": 170,
   "metadata": {},
   "outputs": [
    {
     "data": {
      "text/plain": [
       "label\n",
       "1    406\n",
       "0    244\n",
       "2     71\n",
       "Name: count, dtype: int64"
      ]
     },
     "execution_count": 170,
     "metadata": {},
     "output_type": "execute_result"
    }
   ],
   "source": [
    "val_df[\"label\"].value_counts()"
   ]
  },
  {
   "cell_type": "code",
   "execution_count": 171,
   "metadata": {},
   "outputs": [
    {
     "data": {
      "text/plain": [
       "label\n",
       "1    812\n",
       "0    487\n",
       "2    143\n",
       "Name: count, dtype: int64"
      ]
     },
     "execution_count": 171,
     "metadata": {},
     "output_type": "execute_result"
    }
   ],
   "source": [
    "test_df[\"label\"].value_counts()"
   ]
  },
  {
   "cell_type": "code",
   "execution_count": 172,
   "metadata": {},
   "outputs": [
    {
     "name": "stdout",
     "output_type": "stream",
     "text": [
      "tensor([0.9873, 0.5916, 3.3694], device='cuda:0')\n"
     ]
    }
   ],
   "source": [
    "from sklearn.utils.class_weight import compute_class_weight\n",
    "\n",
    "train_labels = train_df[\"label\"]\n",
    "class_weights = compute_class_weight(\"balanced\", classes=np.unique(train_labels), y=train_labels)\n",
    "class_weights = torch.tensor(class_weights, dtype=torch.float).to(device)\n",
    "print(class_weights)"
   ]
  },
  {
   "cell_type": "code",
   "execution_count": 173,
   "metadata": {},
   "outputs": [
    {
     "name": "stderr",
     "output_type": "stream",
     "text": [
      "Map: 100%|██████████| 721/721 [00:00<00:00, 7159.01 examples/s]\n",
      "Map: 100%|██████████| 1442/1442 [00:00<00:00, 7106.58 examples/s]"
     ]
    },
    {
     "name": "stdout",
     "output_type": "stream",
     "text": [
      "[0, 179, 5, 78, 233, 47, 26, 89, 32, 8, 45, 14, 70, 50, 144, 32, 101, 14, 98, 939, 33, 1085, 7, 224, 59, 14, 233, 50140, 13, 1246, 13, 209, 82, 89, 32, 117, 604, 54, 101, 6907, 2498, 251, 2549, 2498, 7855, 14303, 50, 145, 7671, 7, 97, 604, 114, 41, 1736, 6616, 70, 167, 1274, 51, 33, 7, 28, 10, 693, 50140, 11, 754, 103, 9, 167, 54, 1763, 19, 6214, 13493, 5110, 9914, 1235, 25, 35262, 50118, 50118, 1594, 10, 313, 3829, 27360, 383, 34, 251, 2549, 15033, 7855, 8, 14442, 25, 10, 693, 53, 202, 18785, 25, 10, 313, 37, 115, 28, 1687, 10, 6214, 13493, 1459, 53, 47, 341, 5, 1385, 6214, 13493, 1459, 19, 6214, 390, 61, 16, 402, 430, 939, 206, 47, 241, 5, 65, 54, 34, 10, 936, 89, 30, 9397, 80, 430, 383, 8, 596, 16, 24, 3518, 7, 28, 10, 14752, 9, 28117, 2, 1, 1, 1, 1, 1, 1, 1, 1, 1, 1, 1, 1, 1, 1, 1, 1, 1, 1, 1, 1, 1, 1, 1, 1, 1, 1, 1, 1, 1, 1, 1, 1, 1, 1, 1, 1, 1, 1, 1, 1, 1, 1, 1, 1, 1, 1, 1, 1, 1, 1, 1, 1, 1, 1, 1, 1, 1, 1, 1, 1, 1, 1, 1, 1, 1, 1, 1, 1, 1, 1, 1, 1, 1, 1, 1, 1, 1, 1, 1, 1, 1, 1, 1, 1, 1, 1, 1, 1, 1, 1, 1, 1, 1, 1, 1, 1, 1, 1, 1, 1]\n",
      "['<s>', 'in', 'Ġthe', 'Ġfirst', 'Ġpart', 'Ġyou', 'Ġsaid', 'Ġthere', 'Ġare', 'Ġand', 'Ġnot', 'Ġthat', 'Ġall', 'Ġor', 'Ġmost', 'Ġare', 'Ġlike', 'Ġthat', 'Ġso', 'Ġi', 'Ġhave', 'Ġnothing', 'Ġto', 'Ġsay', 'Ġabout', 'Ġthat', 'Ġpart', 'ĊĊ', 'Ġfor', 'Ġexample', 'Ġfor', 'Ġthese', 'Ġpeople', 'Ġthere', 'Ġare', 'Ġno', 'Ġmen', 'Ġwho', 'Ġlike', 'Ġpink', 'Ġwearing', 'Ġlong', 'Ġhair', 'Ġwearing', 'Ġmakeup', 'Ġskating', 'Ġor', 'Ġbeing', 'Ġattracted', 'Ġto', 'Ġother', 'Ġmen', 'Ġif', 'Ġan', 'Ġindividual', 'Ġmeets', 'Ġall', 'Ġthose', 'Ġconditions', 'Ġthey', 'Ġhave', 'Ġto', 'Ġbe', 'Ġa', 'Ġwoman', 'ĊĊ', 'Ġin', 'Ġfact', 'Ġsome', 'Ġof', 'Ġthose', 'Ġwho', 'Ġpair', 'Ġwith', 'Ġtrans', 'vest', 'ites', 'Ġdefine', 'Ġthemselves', 'Ġas', 'Ġheterosexual', 'Ċ', 'Ċ', 'if', 'Ġa', 'Ġman', 'Ġlikes', 'Ġfeminine', 'Ġthings', 'Ġhas', 'Ġlong', 'Ġhair', 'Ġwears', 'Ġmakeup', 'Ġand', 'Ġdresses', 'Ġas', 'Ġa', 'Ġwoman', 'Ġbut', 'Ġstill', 'Ġidentifies', 'Ġas', 'Ġa', 'Ġman', 'Ġhe', 'Ġcould', 'Ġbe', 'Ġconsidered', 'Ġa', 'Ġtrans', 'vest', 'ite', 'Ġbut', 'Ġyou', 'Ġused', 'Ġthe', 'Ġterm', 'Ġtrans', 'vest', 'ite', 'Ġwith', 'Ġtrans', 'Ġwomen', 'Ġwhich', 'Ġis', 'Ġsomething', 'Ġdifferent', 'Ġi', 'Ġthink', 'Ġyou', 're', 'Ġthe', 'Ġone', 'Ġwho', 'Ġhas', 'Ġa', 'Ġproblem', 'Ġthere', 'Ġby', 'Ġidentifying', 'Ġtwo', 'Ġdifferent', 'Ġthings', 'Ġand', 'Ġwhy', 'Ġis', 'Ġit', 'Ġsupposed', 'Ġto', 'Ġbe', 'Ġa', 'Ġdenial', 'Ġof', 'Ġhomosexuality', '</s>', '<pad>', '<pad>', '<pad>', '<pad>', '<pad>', '<pad>', '<pad>', '<pad>', '<pad>', '<pad>', '<pad>', '<pad>', '<pad>', '<pad>', '<pad>', '<pad>', '<pad>', '<pad>', '<pad>', '<pad>', '<pad>', '<pad>', '<pad>', '<pad>', '<pad>', '<pad>', '<pad>', '<pad>', '<pad>', '<pad>', '<pad>', '<pad>', '<pad>', '<pad>', '<pad>', '<pad>', '<pad>', '<pad>', '<pad>', '<pad>', '<pad>', '<pad>', '<pad>', '<pad>', '<pad>', '<pad>', '<pad>', '<pad>', '<pad>', '<pad>', '<pad>', '<pad>', '<pad>', '<pad>', '<pad>', '<pad>', '<pad>', '<pad>', '<pad>', '<pad>', '<pad>', '<pad>', '<pad>', '<pad>', '<pad>', '<pad>', '<pad>', '<pad>', '<pad>', '<pad>', '<pad>', '<pad>', '<pad>', '<pad>', '<pad>', '<pad>', '<pad>', '<pad>', '<pad>', '<pad>', '<pad>', '<pad>', '<pad>', '<pad>', '<pad>', '<pad>', '<pad>', '<pad>', '<pad>', '<pad>', '<pad>', '<pad>', '<pad>', '<pad>', '<pad>', '<pad>', '<pad>', '<pad>', '<pad>', '<pad>']\n"
     ]
    },
    {
     "name": "stderr",
     "output_type": "stream",
     "text": [
      "\n"
     ]
    }
   ],
   "source": [
    "def tokenize_function(examples):\n",
    "    return tokenizer(examples[\"text\"], padding=\"max_length\", truncation=True, max_length=MAX_LEN)\n",
    "\n",
    "# Apply the tokenizer to the dataset\n",
    "tokenized_datasets = raw_datasets.map(tokenize_function, batched=True)\n",
    "\n",
    "# Inspect tokenized samples\n",
    "print(tokenized_datasets[\"validation\"][0][\"input_ids\"])\n",
    "# Ids to tokens\n",
    "print(tokenizer.convert_ids_to_tokens(tokenized_datasets[\"validation\"][0][\"input_ids\"]))"
   ]
  },
  {
   "cell_type": "code",
   "execution_count": 174,
   "metadata": {},
   "outputs": [
    {
     "name": "stdout",
     "output_type": "stream",
     "text": [
      "['<s>', \"['\", 'i', \"\\\\'\", 've', 'Ġstarted', 'Ġto', 'Ġbelieve', 'Ġthat', 'Ġthe', 'Ġrejection', ',', 'Ġin', 'Ġterms', 'Ġof', 'Ġpreference', ',', 'Ġtowards', 'Ġtrans', 'Ġindividuals', 'Ġstems', 'Ġfrom', 'Ġthe', 'Ġ\"', 'unc', 'anny', 'Ġvalley', ',\"', 'Ġmaking', 'Ġit', 'Ġa', 'Ġsubconscious', 'Ġresponse', 'Ġthat', 'âĢ', 'Ļ', 's', 'Ġhard', 'Ġto', 'Ġarticulate', 'Ġbut', 'Ġnonetheless', 'Ġsignificant', 'Ġand', 'Ġinfluential', '.', 'Ġthis', 'Ġcompl', 'icates', 'Ġhow', 'Ġwe', 'Ġapproach', 'Ġthe', 'Ġtopic', '.', 'Ġregarding', 'Ġthe', 'Ġsubs', ',', 'Ġi', \"\\\\'\", 've', 'Ġnoticed', 'Ġthat', 'Ġa', 'Ġsignificant', 'Ġamount', 'Ġof', 'Ġmakeup', 'Ġis', 'Ġtypically', 'Ġapplied', 'Ġin', 'Ġthe', 'Ġfinal', 'Ġresults', ',', 'Ġand', 'Ġof', 'Ġcourse', ',', 'Ġmakeup', 'Ġcan', 'Ġbe', 'Ġincredibly', 'Ġtransformative', ',', 'Ġwhich', 'Ġprompts', 'Ġthe', 'Ġquestion', ':', 'Ġwhat', 'Ġdoes', 'Ġattractive', 'Ġeven', 'Ġmean', '?', 'Ġone', 'Ġpoint', 'Ġi', 'Ġneglected', 'Ġto', 'Ġmention', 'Ġis', 'Ġthat', 'Ġin', 'Ġthe', 'Ġimages', 'Ġfrom', 'Ġthat', 'Ġsub', ',', 'Ġyou', 'Ġcan', 'Ġalso', 'Ġsee', 'Ġindividuals', 'Ġwho', 'Ġpreviously', 'Ġhad', 'Ġa', 'Ġdifferent', 'Ġgender', 'Ġappearance', 'Ġbefore', 'Ġtheir', 'Ġtransformation', ';', 'Ġwe', 'Ġshouldn', \"\\\\'\", 't', 'Ġforget', 'Ġthat', 'Ġdysph', 'or', 'ias', 'Ġcan', 'Ġalso', 'Ġbe', 'Ġdriven', 'Ġby', 'Ġgenetic', 'Ġelements', '.', 'Ġi', 'Ġgenuinely', 'Ġdoubt', 'Ġi', 'Ġwould', 'Ġpursue', 'Ġa', 'Ġrelationship', 'Ġknowing', 'Ġthat', 'Ġthe', 'Ġperson', 'Ġis', 'Ġtrans', '.', 'Ġand', 'Ġi', \"\\\\'\", 'm', 'Ġspeaking', 'Ġabout', 'Ġa', 'Ġcase', 'Ġthat', 'Ġcould', 'Ġbe', 'Ġindistinguishable', 'Ġfrom', 'Ġa', 'Ġbiological', 'Ġone', ';', 'Ġthe', 'Ġreasoning', 'Ġis', 'Ġstraightforward', 'Ġyet', 'Ġsomewhat', 'Ġconservative', ':', 'Ġi', 'Ġthink', 'Ġi', 'Ġhave', 'Ġnever', 'Ġbeen', 'Ġin', 'Ġa', 'Ġrelationship', 'Ġthat', 'Ġwas', 'Ġtransient', 'Ġenough', 'Ġthat', 'Ġthe', 'Ġfoundational', 'Ġidea', 'Ġwouldn', \"\\\\'\", 't', 'Ġexist', 'Ġfor', 'Ġit', 'Ġto', 'Ġdevelop', 'Ġinto', 'Ġsomething', 'Ġlong', '-', 'term', ';', 'Ġthe', 'Ġclosest', 'Ġi', \"\\\\'\", 've', 'Ġexperienced', 'Ġis', 'ĠâĢ', 'ľ', 'dating', 'âĢ', 'Ŀ', 'Ġwithout', 'Ġbeing', 'Ġin', 'Ġa', 'Ġserious', 'Ġcommitment', '.', 'Ġso', ',', 'Ġi', 'âĢ', 'Ļ', 'm', 'Ġdefinitely', 'Ġnot', 'Ġthe', 'Ġbest', 'Ġexample', '.', 'Ġbut', 'Ġbecause', 'Ġof', 'Ġthat', ',', 'Ġit', 'âĢ', '</s>']\n"
     ]
    }
   ],
   "source": [
    "# Tokenize one paraphrase\n",
    "inputs_ids = tokenizer(train_df[paraphrase_col][0], padding=\"max_length\", truncation=True, max_length=MAX_LEN)[\"input_ids\"]\n",
    "print(tokenizer.convert_ids_to_tokens(inputs_ids))"
   ]
  },
  {
   "cell_type": "code",
   "execution_count": 175,
   "metadata": {},
   "outputs": [
    {
     "data": {
      "text/plain": [
       "DatasetDict({\n",
       "    validation: Dataset({\n",
       "        features: ['labels', 'input_ids', 'attention_mask'],\n",
       "        num_rows: 721\n",
       "    })\n",
       "    test: Dataset({\n",
       "        features: ['labels', 'input_ids', 'attention_mask'],\n",
       "        num_rows: 1442\n",
       "    })\n",
       "})"
      ]
     },
     "execution_count": 175,
     "metadata": {},
     "output_type": "execute_result"
    }
   ],
   "source": [
    "# Remove unnecessary columns\n",
    "rem_cols = ['country', 'keyword', 'post content', 'text', 'embeddings', 'embeddings_ingles', 'absa', 'absa_esp', 'paraphrase', 'paraphrase_esp', 'embedding_paraphrase1', 'embedding_paraphrase2', 'embedding_paraphrase_esp2', 'embedding_paraphrase_esp1']\n",
    "# tokenized_datasets = tokenized_datasets.remove_columns(rem_cols)\n",
    "tokenized_datasets[\"validation\"] = tokenized_datasets[\"validation\"].remove_columns(rem_cols)\n",
    "tokenized_datasets[\"test\"] = tokenized_datasets[\"test\"].remove_columns(rem_cols)\n",
    "# Rename column 'label' to 'labels'\n",
    "tokenized_datasets = tokenized_datasets.rename_column('label', 'labels')\n",
    "tokenized_datasets"
   ]
  },
  {
   "cell_type": "code",
   "execution_count": 176,
   "metadata": {},
   "outputs": [
    {
     "name": "stdout",
     "output_type": "stream",
     "text": [
      "Train dataloader length: 316\n",
      "Validation dataloader length: 46\n",
      "Test dataloader length: 91\n"
     ]
    }
   ],
   "source": [
    "from torch.utils.data import DataLoader\n",
    "\n",
    "train_dataloader = DataLoader(\n",
    "    train_dataset, shuffle=True, batch_size=BATCH_SIZE, collate_fn=data_collator\n",
    ")\n",
    "val_dataloader = DataLoader(\n",
    "    tokenized_datasets[\"validation\"], shuffle=False, batch_size=BATCH_SIZE, collate_fn=data_collator\n",
    ")\n",
    "\n",
    "test_dataloader = DataLoader(\n",
    "    tokenized_datasets[\"test\"], shuffle=False, batch_size=BATCH_SIZE, collate_fn=data_collator\n",
    ")\n",
    "\n",
    "print(\"Train dataloader length:\", len(train_dataloader))\n",
    "print(\"Validation dataloader length:\", len(val_dataloader))\n",
    "print(\"Test dataloader length:\", len(test_dataloader))"
   ]
  },
  {
   "cell_type": "code",
   "execution_count": 177,
   "metadata": {},
   "outputs": [
    {
     "data": {
      "text/plain": [
       "{'input_ids': torch.Size([16, 256]),\n",
       " 'attention_mask': torch.Size([16, 256]),\n",
       " 'labels': torch.Size([16])}"
      ]
     },
     "execution_count": 177,
     "metadata": {},
     "output_type": "execute_result"
    }
   ],
   "source": [
    "for batch in train_dataloader:\n",
    "    break\n",
    "{k: v.shape for k, v in batch.items()}"
   ]
  },
  {
   "cell_type": "code",
   "execution_count": 178,
   "metadata": {},
   "outputs": [
    {
     "name": "stdout",
     "output_type": "stream",
     "text": [
      "True\n",
      "True\n",
      "True\n",
      "True\n",
      "True\n",
      "True\n",
      "True\n",
      "True\n",
      "True\n",
      "True\n",
      "True\n",
      "True\n",
      "True\n",
      "True\n",
      "True\n",
      "True\n",
      "True\n",
      "True\n",
      "True\n",
      "True\n",
      "True\n",
      "True\n",
      "True\n",
      "True\n",
      "True\n",
      "True\n",
      "True\n",
      "True\n",
      "True\n",
      "True\n",
      "True\n",
      "True\n",
      "True\n",
      "True\n",
      "True\n",
      "True\n",
      "True\n",
      "True\n",
      "True\n",
      "True\n",
      "True\n",
      "True\n",
      "True\n",
      "True\n",
      "True\n",
      "True\n",
      "True\n",
      "True\n",
      "True\n",
      "True\n",
      "True\n",
      "True\n",
      "True\n",
      "True\n",
      "True\n",
      "True\n",
      "True\n",
      "True\n",
      "True\n",
      "True\n",
      "True\n",
      "True\n",
      "True\n",
      "True\n",
      "True\n",
      "True\n",
      "True\n",
      "True\n",
      "True\n",
      "True\n",
      "True\n",
      "True\n",
      "True\n",
      "True\n",
      "True\n",
      "True\n",
      "True\n",
      "True\n",
      "True\n",
      "True\n",
      "True\n",
      "True\n",
      "True\n",
      "True\n",
      "True\n",
      "True\n",
      "True\n",
      "True\n",
      "True\n",
      "True\n",
      "True\n",
      "True\n",
      "True\n",
      "True\n",
      "True\n",
      "True\n",
      "True\n",
      "True\n",
      "True\n",
      "True\n",
      "True\n",
      "True\n",
      "True\n",
      "True\n",
      "True\n",
      "True\n",
      "True\n",
      "True\n",
      "True\n",
      "True\n",
      "True\n",
      "True\n",
      "True\n",
      "True\n",
      "True\n",
      "True\n",
      "True\n",
      "True\n",
      "True\n",
      "True\n",
      "True\n",
      "True\n",
      "True\n",
      "True\n",
      "True\n",
      "True\n",
      "True\n",
      "True\n",
      "True\n",
      "True\n",
      "True\n",
      "True\n",
      "True\n",
      "True\n",
      "True\n",
      "True\n",
      "True\n",
      "True\n",
      "True\n",
      "True\n",
      "True\n",
      "True\n",
      "True\n",
      "True\n",
      "True\n",
      "True\n",
      "True\n",
      "True\n",
      "True\n",
      "True\n",
      "True\n",
      "True\n",
      "True\n",
      "True\n",
      "True\n",
      "True\n",
      "True\n",
      "True\n",
      "True\n",
      "True\n",
      "True\n",
      "True\n",
      "True\n",
      "True\n",
      "True\n",
      "True\n",
      "True\n",
      "True\n",
      "True\n",
      "True\n",
      "True\n",
      "True\n",
      "True\n",
      "True\n",
      "True\n",
      "True\n",
      "True\n",
      "True\n",
      "True\n",
      "True\n",
      "True\n",
      "True\n",
      "True\n",
      "True\n",
      "True\n",
      "True\n",
      "True\n",
      "True\n",
      "True\n",
      "True\n",
      "True\n",
      "True\n",
      "True\n",
      "True\n",
      "True\n",
      "True\n",
      "True\n",
      "True\n",
      "True\n",
      "True\n",
      "True\n",
      "Trainable parameters: 124647939\n"
     ]
    }
   ],
   "source": [
    "for param in model.parameters():\n",
    "   param.requires_grad = True\n",
    "\n",
    "# Freeze all layers except the classifier\n",
    "# for param in list(model.parameters())[:-20]:\n",
    "#     param.requires_grad = False\n",
    "\n",
    "for param in model.parameters():\n",
    "    print(param.requires_grad)\n",
    "\n",
    "print(f\"Trainable parameters: {sum(p.numel() for p in model.parameters() if p.requires_grad)}\")"
   ]
  },
  {
   "cell_type": "markdown",
   "metadata": {},
   "source": [
    "### Model without fine-tuning"
   ]
  },
  {
   "cell_type": "code",
   "execution_count": 179,
   "metadata": {},
   "outputs": [
    {
     "name": "stdout",
     "output_type": "stream",
     "text": [
      "              precision    recall  f1-score   support\n",
      "\n",
      "         NEG       0.44      0.70      0.54       244\n",
      "         NEU       0.70      0.38      0.49       406\n",
      "         POS       0.21      0.34      0.26        71\n",
      "\n",
      "    accuracy                           0.48       721\n",
      "   macro avg       0.45      0.47      0.43       721\n",
      "weighted avg       0.56      0.48      0.49       721\n",
      "\n"
     ]
    }
   ],
   "source": [
    "model.eval()\n",
    "\n",
    "threshold = 0.1\n",
    "\n",
    "y_pred_val = []\n",
    "y_true_val = []\n",
    "with torch.no_grad(): \n",
    "    for batch in val_dataloader:\n",
    "        batch = {k: v.to(device) for k, v in batch.items()}\n",
    "        outputs = model(**batch)\n",
    "        try:\n",
    "            logits = outputs.logits\n",
    "        except:\n",
    "            logits = outputs\n",
    "        probs = nn.functional.softmax(logits, dim=-1)\n",
    "\n",
    "        # # If NEU and NEG probabilities are both < threshold, classify as POS\n",
    "        # pos_mask = (probs[:, 0] < threshold) & (probs[:, 1] < threshold)\n",
    "        # pred = torch.full((probs.shape[0],), 2, dtype=torch.long, device=device)  # Default to POS class\n",
    "        # pred[~pos_mask] = torch.argmax(probs[~pos_mask], dim=1)\n",
    "\n",
    "\n",
    "        # Classify as POS if positive probability > threshold\n",
    "        pred = torch.full((probs.shape[0],), 0, dtype=torch.long, device=device)  # Default to initial class\n",
    "        pos_mask = probs[:, 2] > threshold  # Assuming POS is the third class (index 2)\n",
    "        pred[pos_mask] = 2  # Set to POS class\n",
    "        \n",
    "        # For remaining samples, use argmax\n",
    "        non_pos_mask = ~pos_mask\n",
    "        pred[non_pos_mask] = torch.argmax(probs[non_pos_mask], dim=1)\n",
    "\n",
    "\n",
    "        \n",
    "        y_pred_val.extend(pred.cpu())\n",
    "        y_true_val.extend(batch['labels'].cpu())\n",
    "\n",
    "y_pred_val = np.array(y_pred_val)\n",
    "y_true_val = np.array(y_true_val)\n",
    "\n",
    "print(classification_report(y_true_val, y_pred_val, target_names=id2label.values()))"
   ]
  },
  {
   "cell_type": "code",
   "execution_count": 180,
   "metadata": {},
   "outputs": [
    {
     "name": "stdout",
     "output_type": "stream",
     "text": [
      "              precision    recall  f1-score   support\n",
      "\n",
      "         NEG       0.43      0.70      0.54       487\n",
      "         NEU       0.66      0.47      0.55       812\n",
      "         POS       0.35      0.18      0.24       143\n",
      "\n",
      "    accuracy                           0.52      1442\n",
      "   macro avg       0.48      0.45      0.44      1442\n",
      "weighted avg       0.55      0.52      0.51      1442\n",
      "\n"
     ]
    }
   ],
   "source": [
    "model.eval()\n",
    "\n",
    "y_pred_test = []\n",
    "y_true_test = []\n",
    "with torch.no_grad(): \n",
    "    for batch in test_dataloader:\n",
    "        batch = {k: v.to(device) for k, v in batch.items()}\n",
    "        outputs = model(**batch)\n",
    "        try:\n",
    "            logits = outputs.logits\n",
    "        except:\n",
    "            logits = outputs\n",
    "        y_pred_test.extend(torch.argmax(logits, dim=-1).cpu().tolist())\n",
    "        y_true_test.extend(batch[\"labels\"].cpu().tolist())\n",
    "\n",
    "y_pred_test = np.array(y_pred_test)\n",
    "y_true_test = np.array(y_true_test)\n",
    "\n",
    "print(classification_report(y_true_test, y_pred_test, target_names=id2label.values()))"
   ]
  },
  {
   "cell_type": "markdown",
   "metadata": {},
   "source": [
    "### Fine-tuning"
   ]
  },
  {
   "cell_type": "code",
   "execution_count": 181,
   "metadata": {},
   "outputs": [
    {
     "name": "stdout",
     "output_type": "stream",
     "text": [
      "3160\n"
     ]
    }
   ],
   "source": [
    "from transformers import get_scheduler\n",
    "\n",
    "optimizer = torch.optim.AdamW(model.parameters(), lr=LEARNING_RATE, weight_decay=WEIGHT_DECAY)\n",
    "# optimizer = torch.optim.AdamW(model.parameters(), lr=LEARNING_RATE)\n",
    "# optimizer = torch.optim.SGD(model.parameters(), lr=LEARNING_RATE)\n",
    "\n",
    "loss_func = nn.CrossEntropyLoss(weight=class_weights)\n",
    "# loss_func = nn.CrossEntropyLoss()\n",
    "\n",
    "num_epochs = EPOCHS\n",
    "num_training_steps = num_epochs * len(train_dataloader)\n",
    "lr_scheduler = get_scheduler(\n",
    "    \"linear\",\n",
    "    optimizer=optimizer,\n",
    "    num_warmup_steps=0,\n",
    "    num_training_steps=num_training_steps,\n",
    ")\n",
    "print(num_training_steps)"
   ]
  },
  {
   "cell_type": "code",
   "execution_count": 182,
   "metadata": {},
   "outputs": [
    {
     "name": "stderr",
     "output_type": "stream",
     "text": [
      " 85%|████████▌ | 2699/3160 [08:08<01:23,  5.53it/s]"
     ]
    },
    {
     "name": "stderr",
     "output_type": "stream",
     "text": [
      "\n",
      " 10%|█         | 316/3160 [00:53<07:37,  6.21it/s]"
     ]
    },
    {
     "name": "stdout",
     "output_type": "stream",
     "text": [
      "Epoch 1/10         Train Loss: 0.9822     Val Loss: 0.9300     Macro F1: 0.5137\n"
     ]
    },
    {
     "name": "stderr",
     "output_type": "stream",
     "text": [
      " 20%|██        | 632/3160 [01:50<06:49,  6.17it/s]"
     ]
    },
    {
     "name": "stdout",
     "output_type": "stream",
     "text": [
      "Epoch 2/10         Train Loss: 0.8655     Val Loss: 0.9232     Macro F1: 0.4976\n"
     ]
    },
    {
     "name": "stderr",
     "output_type": "stream",
     "text": [
      " 30%|███       | 948/3160 [02:48<05:59,  6.16it/s]"
     ]
    },
    {
     "name": "stdout",
     "output_type": "stream",
     "text": [
      "Epoch 3/10         Train Loss: 0.7833     Val Loss: 0.9050     Macro F1: 0.5116\n"
     ]
    },
    {
     "name": "stderr",
     "output_type": "stream",
     "text": [
      " 40%|████      | 1264/3160 [03:46<05:08,  6.15it/s]"
     ]
    },
    {
     "name": "stdout",
     "output_type": "stream",
     "text": [
      "Epoch 4/10         Train Loss: 0.7030     Val Loss: 0.9203     Macro F1: 0.5365\n"
     ]
    },
    {
     "name": "stderr",
     "output_type": "stream",
     "text": [
      " 50%|█████     | 1580/3160 [04:44<04:14,  6.21it/s]"
     ]
    },
    {
     "name": "stdout",
     "output_type": "stream",
     "text": [
      "Epoch 5/10         Train Loss: 0.6207     Val Loss: 1.0102     Macro F1: 0.5219\n"
     ]
    },
    {
     "name": "stderr",
     "output_type": "stream",
     "text": [
      " 60%|██████    | 1896/3160 [05:42<03:23,  6.20it/s]"
     ]
    },
    {
     "name": "stdout",
     "output_type": "stream",
     "text": [
      "Epoch 6/10         Train Loss: 0.5411     Val Loss: 1.0670     Macro F1: 0.5325\n"
     ]
    },
    {
     "name": "stderr",
     "output_type": "stream",
     "text": [
      " 70%|███████   | 2212/3160 [06:40<02:35,  6.09it/s]"
     ]
    },
    {
     "name": "stdout",
     "output_type": "stream",
     "text": [
      "Epoch 7/10         Train Loss: 0.4923     Val Loss: 1.1286     Macro F1: 0.5377\n"
     ]
    },
    {
     "name": "stderr",
     "output_type": "stream",
     "text": [
      " 80%|████████  | 2528/3160 [07:39<01:43,  6.08it/s]"
     ]
    },
    {
     "name": "stdout",
     "output_type": "stream",
     "text": [
      "Epoch 8/10         Train Loss: 0.4434     Val Loss: 1.2038     Macro F1: 0.5349\n"
     ]
    },
    {
     "name": "stderr",
     "output_type": "stream",
     "text": [
      " 90%|█████████ | 2844/3160 [08:37<00:51,  6.08it/s]"
     ]
    },
    {
     "name": "stdout",
     "output_type": "stream",
     "text": [
      "Epoch 9/10         Train Loss: 0.4171     Val Loss: 1.2304     Macro F1: 0.5180\n"
     ]
    },
    {
     "name": "stderr",
     "output_type": "stream",
     "text": [
      "100%|██████████| 3160/3160 [09:35<00:00,  6.07it/s]"
     ]
    },
    {
     "name": "stdout",
     "output_type": "stream",
     "text": [
      "Epoch 10/10         Train Loss: 0.3924     Val Loss: 1.2544     Macro F1: 0.5351\n"
     ]
    }
   ],
   "source": [
    "from tqdm.auto import tqdm\n",
    "\n",
    "train_losses = []\n",
    "val_losses = []\n",
    "\n",
    "progress_bar = tqdm(range(num_training_steps))\n",
    "\n",
    "for epoch in range(num_epochs):\n",
    "    model.train()\n",
    "    epoch_train_loss = 0 \n",
    "    num_train_batches = 0\n",
    "\n",
    "    for batch in train_dataloader:\n",
    "        batch = {k: v.to(device) for k, v in batch.items()}\n",
    "        \n",
    "        outputs = model(**batch)\n",
    "        try:\n",
    "            logits = outputs.logits\n",
    "        except:\n",
    "            logits = outputs\n",
    "        \n",
    "        # Accumulate loss\n",
    "        loss = loss_func(logits, batch[\"labels\"])\n",
    "        # loss = outputs.loss\n",
    "        epoch_train_loss += loss.item()\n",
    "\n",
    "        optimizer.zero_grad()\n",
    "        loss.backward()\n",
    "\n",
    "        optimizer.step()\n",
    "        lr_scheduler.step()\n",
    "        \n",
    "        num_train_batches += 1\n",
    "\n",
    "        progress_bar.update(1)\n",
    "\n",
    "    # Compute average training loss for the epoch\n",
    "    avg_train_loss = epoch_train_loss / num_train_batches\n",
    "    train_losses.append(avg_train_loss)\n",
    "    \n",
    "    # Run validation\n",
    "    model.eval()\n",
    "    epoch_val_loss = 0\n",
    "    num_val_batches = 0\n",
    "\n",
    "    y_preds_val = []\n",
    "    y_trues_val = []\n",
    "\n",
    "    with torch.no_grad():\n",
    "        for batch in val_dataloader:\n",
    "            batch = {k: v.to(device) for k, v in batch.items()}\n",
    "            outputs = model(**batch)\n",
    "            try:\n",
    "                logits = outputs.logits\n",
    "            except:\n",
    "                logits = outputs\n",
    "\n",
    "            loss = loss_func(logits, batch[\"labels\"])\n",
    "            # loss = outputs.loss\n",
    "\n",
    "            epoch_val_loss += loss.item()\n",
    "            num_val_batches += 1\n",
    "\n",
    "            y_preds_val.extend(torch.argmax(logits, dim=-1).cpu().tolist())\n",
    "            y_trues_val.extend(batch[\"labels\"].cpu().tolist())\n",
    "\n",
    "    # Calculate f1 score\n",
    "    y_preds_val = np.array(y_preds_val)\n",
    "    y_trues_val = np.array(y_trues_val)\n",
    "    f1_val = f1_score(y_trues_val, y_preds_val, average='macro')    \n",
    "\n",
    "    avg_val_loss = epoch_val_loss / num_val_batches\n",
    "    val_losses.append(avg_val_loss)\n",
    "    print(f\"Epoch {epoch + 1}/{num_epochs:<10} Train Loss: {avg_train_loss:<10.4f} Val Loss: {avg_val_loss:<10.4f} Macro F1: {f1_val:.4f}\")\n",
    "\n",
    "    # Save model\n",
    "    try:\n",
    "        model.save_pretrained(MODELS_PATH + f\"epoch_{epoch + 1}\")\n",
    "    except:\n",
    "        torch.save(model.state_dict(), MODELS_PATH + f\"epoch_{epoch + 1}.pt\")\n"
   ]
  },
  {
   "cell_type": "code",
   "execution_count": 183,
   "metadata": {},
   "outputs": [
    {
     "data": {
      "image/png": "[encoded data removed]",
      "text/plain": [
       "<Figure size 800x400 with 1 Axes>"
      ]
     },
     "metadata": {},
     "output_type": "display_data"
    }
   ],
   "source": [
    "# Plot Training vs Validation Loss\n",
    "plt.figure(figsize=(8, 4))\n",
    "plt.plot(train_losses, label=\"Training Loss\", color=\"blue\", alpha=0.7)\n",
    "plt.plot(val_losses, label=\"Validation Loss\", color=\"red\", alpha=0.7)\n",
    "plt.xlabel(\"Training Steps\")\n",
    "plt.ylabel(\"Loss\")\n",
    "plt.title(\"Training vs Validation Loss\")\n",
    "plt.legend()\n",
    "plt.show()"
   ]
  },
  {
   "cell_type": "code",
   "execution_count": 184,
   "metadata": {},
   "outputs": [
    {
     "data": {
      "text/plain": [
       "RobertaForSequenceClassification(\n",
       "  (roberta): RobertaModel(\n",
       "    (embeddings): RobertaEmbeddings(\n",
       "      (word_embeddings): Embedding(50265, 768, padding_idx=1)\n",
       "      (position_embeddings): Embedding(514, 768, padding_idx=1)\n",
       "      (token_type_embeddings): Embedding(1, 768)\n",
       "      (LayerNorm): LayerNorm((768,), eps=1e-05, elementwise_affine=True)\n",
       "      (dropout): Dropout(p=0.1, inplace=False)\n",
       "    )\n",
       "    (encoder): RobertaEncoder(\n",
       "      (layer): ModuleList(\n",
       "        (0-11): 12 x RobertaLayer(\n",
       "          (attention): RobertaAttention(\n",
       "            (self): RobertaSdpaSelfAttention(\n",
       "              (query): Linear(in_features=768, out_features=768, bias=True)\n",
       "              (key): Linear(in_features=768, out_features=768, bias=True)\n",
       "              (value): Linear(in_features=768, out_features=768, bias=True)\n",
       "              (dropout): Dropout(p=0.1, inplace=False)\n",
       "            )\n",
       "            (output): RobertaSelfOutput(\n",
       "              (dense): Linear(in_features=768, out_features=768, bias=True)\n",
       "              (LayerNorm): LayerNorm((768,), eps=1e-05, elementwise_affine=True)\n",
       "              (dropout): Dropout(p=0.1, inplace=False)\n",
       "            )\n",
       "          )\n",
       "          (intermediate): RobertaIntermediate(\n",
       "            (dense): Linear(in_features=768, out_features=3072, bias=True)\n",
       "            (intermediate_act_fn): GELUActivation()\n",
       "          )\n",
       "          (output): RobertaOutput(\n",
       "            (dense): Linear(in_features=3072, out_features=768, bias=True)\n",
       "            (LayerNorm): LayerNorm((768,), eps=1e-05, elementwise_affine=True)\n",
       "            (dropout): Dropout(p=0.1, inplace=False)\n",
       "          )\n",
       "        )\n",
       "      )\n",
       "    )\n",
       "  )\n",
       "  (classifier): RobertaClassificationHead(\n",
       "    (dense): Linear(in_features=768, out_features=768, bias=True)\n",
       "    (dropout): Dropout(p=0.1, inplace=False)\n",
       "    (out_proj): Linear(in_features=768, out_features=3, bias=True)\n",
       "  )\n",
       ")"
      ]
     },
     "execution_count": 184,
     "metadata": {},
     "output_type": "execute_result"
    }
   ],
   "source": [
    "# Load model\n",
    "model_name = \"epoch_9\"\n",
    "model = AutoModelForSequenceClassification.from_pretrained(MODELS_PATH + model_name)\n",
    "# model = CustomBERTModel(MODEL_NAME, NUM_CLASSES)\n",
    "# model.load_state_dict(torch.load(MODELS_PATH + model_name + \".pt\"))\n",
    "\n",
    "model.to(device)"
   ]
  },
  {
   "cell_type": "markdown",
   "metadata": {},
   "source": [
    "### Validation Evaluation"
   ]
  },
  {
   "cell_type": "code",
   "execution_count": 185,
   "metadata": {},
   "outputs": [
    {
     "name": "stdout",
     "output_type": "stream",
     "text": [
      "              precision    recall  f1-score   support\n",
      "\n",
      "         NEG       0.57      0.67      0.61       244\n",
      "         NEU       0.71      0.54      0.61       406\n",
      "         POS       0.26      0.45      0.33        71\n",
      "\n",
      "    accuracy                           0.57       721\n",
      "   macro avg       0.51      0.55      0.52       721\n",
      "weighted avg       0.62      0.57      0.58       721\n",
      "\n"
     ]
    }
   ],
   "source": [
    "model.eval()\n",
    "\n",
    "y_pred_val = []\n",
    "y_true_val = []\n",
    "with torch.no_grad(): \n",
    "    for batch in val_dataloader:\n",
    "        batch = {k: v.to(device) for k, v in batch.items()}\n",
    "        outputs = model(**batch)\n",
    "        try:\n",
    "            logits = outputs.logits\n",
    "        except:\n",
    "            logits = outputs\n",
    "\n",
    "        y_pred_val.extend(torch.argmax(logits, dim=-1).cpu().tolist())\n",
    "        y_true_val.extend(batch[\"labels\"].cpu().tolist())\n",
    "\n",
    "y_pred_val = np.array(y_pred_val)\n",
    "y_true_val = np.array(y_true_val)\n",
    "\n",
    "print(classification_report(y_true_val, y_pred_val, target_names=id2label.values()))"
   ]
  },
  {
   "cell_type": "code",
   "execution_count": 186,
   "metadata": {},
   "outputs": [
    {
     "data": {
      "text/plain": [
       "<sklearn.metrics._plot.confusion_matrix.ConfusionMatrixDisplay at 0x7677c1fbfca0>"
      ]
     },
     "execution_count": 186,
     "metadata": {},
     "output_type": "execute_result"
    },
    {
     "data": {
      "image/png": "[encoded data removed]",
      "text/plain": [
       "<Figure size 640x480 with 2 Axes>"
      ]
     },
     "metadata": {},
     "output_type": "display_data"
    }
   ],
   "source": [
    "# Confusion matrix\n",
    "cm = confusion_matrix(y_true_val, y_pred_val)\n",
    "disp = ConfusionMatrixDisplay(confusion_matrix=cm, display_labels=id2label.values())\n",
    "disp.plot(cmap=plt.cm.Blues)"
   ]
  },
  {
   "cell_type": "markdown",
   "metadata": {},
   "source": [
    "### Test Evaluation"
   ]
  },
  {
   "cell_type": "code",
   "execution_count": 187,
   "metadata": {},
   "outputs": [
    {
     "name": "stdout",
     "output_type": "stream",
     "text": [
      "              precision    recall  f1-score   support\n",
      "\n",
      "         NEG       0.53      0.66      0.59       487\n",
      "         NEU       0.72      0.56      0.63       812\n",
      "         POS       0.30      0.45      0.36       143\n",
      "\n",
      "    accuracy                           0.58      1442\n",
      "   macro avg       0.52      0.55      0.52      1442\n",
      "weighted avg       0.62      0.58      0.59      1442\n",
      "\n"
     ]
    }
   ],
   "source": [
    "model.eval()\n",
    "\n",
    "y_pred_test = []\n",
    "y_true_test = []\n",
    "with torch.no_grad(): \n",
    "    for batch in test_dataloader:\n",
    "        batch = {k: v.to(device) for k, v in batch.items()}\n",
    "        outputs = model(**batch)\n",
    "        try:\n",
    "            logits = outputs.logits\n",
    "        except:\n",
    "            logits = outputs\n",
    "        y_pred_test.extend(torch.argmax(logits, dim=-1).cpu().tolist())\n",
    "        y_true_test.extend(batch[\"labels\"].cpu().tolist())\n",
    "\n",
    "y_pred_test = np.array(y_pred_test)\n",
    "y_true_test = np.array(y_true_test)\n",
    "\n",
    "print(classification_report(y_true_test, y_pred_test, target_names=id2label.values()))"
   ]
  },
  {
   "cell_type": "code",
   "execution_count": 188,
   "metadata": {},
   "outputs": [
    {
     "data": {
      "text/plain": [
       "<sklearn.metrics._plot.confusion_matrix.ConfusionMatrixDisplay at 0x7677c02d2140>"
      ]
     },
     "execution_count": 188,
     "metadata": {},
     "output_type": "execute_result"
    },
    {
     "data": {
      "image/png": "[encoded data removed]",
      "text/plain": [
       "<Figure size 640x480 with 2 Axes>"
      ]
     },
     "metadata": {},
     "output_type": "display_data"
    }
   ],
   "source": [
    "# Confusion matrix\n",
    "cm = confusion_matrix(y_true_test, y_pred_test)\n",
    "disp = ConfusionMatrixDisplay(confusion_matrix=cm, display_labels=id2label.values())\n",
    "disp.plot(cmap=plt.cm.Blues)"
   ]
  },
  {
   "cell_type": "markdown",
   "metadata": {},
   "source": [
    "### Train results"
   ]
  },
  {
   "cell_type": "code",
   "execution_count": 189,
   "metadata": {},
   "outputs": [
    {
     "name": "stdout",
     "output_type": "stream",
     "text": [
      "              precision    recall  f1-score   support\n",
      "\n",
      "         NEG       0.74      0.90      0.81      1703\n",
      "         NEU       0.93      0.73      0.82      2842\n",
      "         POS       0.68      0.99      0.80       499\n",
      "\n",
      "    accuracy                           0.81      5044\n",
      "   macro avg       0.78      0.87      0.81      5044\n",
      "weighted avg       0.84      0.81      0.81      5044\n",
      "\n"
     ]
    }
   ],
   "source": [
    "model.eval()\n",
    "\n",
    "y_pred_train = []\n",
    "y_true_train = []\n",
    "with torch.no_grad(): \n",
    "    for batch in train_dataloader:\n",
    "        batch = {k: v.to(device) for k, v in batch.items()}\n",
    "        outputs = model(**batch)\n",
    "        try:\n",
    "            logits = outputs.logits\n",
    "        except:\n",
    "            logits = outputs\n",
    "        y_pred_train.extend(torch.argmax(logits, dim=-1).cpu().tolist())\n",
    "        y_true_train.extend(batch[\"labels\"].cpu().tolist())\n",
    "\n",
    "y_pred_train = np.array(y_pred_train)\n",
    "y_true_train = np.array(y_true_train)\n",
    "\n",
    "print(classification_report(y_true_train, y_pred_train, target_names=id2label.values()))"
   ]
  },
  {
   "cell_type": "code",
   "execution_count": 190,
   "metadata": {},
   "outputs": [
    {
     "data": {
      "text/plain": [
       "<sklearn.metrics._plot.confusion_matrix.ConfusionMatrixDisplay at 0x7677c6a27b80>"
      ]
     },
     "execution_count": 190,
     "metadata": {},
     "output_type": "execute_result"
    },
    {
     "data": {
      "image/png": "[encoded data removed]",
      "text/plain": [
       "<Figure size 640x480 with 2 Axes>"
      ]
     },
     "metadata": {},
     "output_type": "display_data"
    }
   ],
   "source": [
    "# Confusion matrix\n",
    "cm = confusion_matrix(y_true_train, y_pred_train)\n",
    "disp = ConfusionMatrixDisplay(confusion_matrix=cm, display_labels=id2label.values())\n",
    "disp.plot(cmap=plt.cm.Blues)"
   ]
  },
  {
   "cell_type": "markdown",
   "metadata": {},
   "source": [
    "## Predictions"
   ]
  },
  {
   "cell_type": "code",
   "execution_count": 191,
   "metadata": {},
   "outputs": [
    {
     "data": {
      "text/plain": [
       "RobertaForSequenceClassification(\n",
       "  (roberta): RobertaModel(\n",
       "    (embeddings): RobertaEmbeddings(\n",
       "      (word_embeddings): Embedding(50265, 768, padding_idx=1)\n",
       "      (position_embeddings): Embedding(514, 768, padding_idx=1)\n",
       "      (token_type_embeddings): Embedding(1, 768)\n",
       "      (LayerNorm): LayerNorm((768,), eps=1e-05, elementwise_affine=True)\n",
       "      (dropout): Dropout(p=0.1, inplace=False)\n",
       "    )\n",
       "    (encoder): RobertaEncoder(\n",
       "      (layer): ModuleList(\n",
       "        (0-11): 12 x RobertaLayer(\n",
       "          (attention): RobertaAttention(\n",
       "            (self): RobertaSdpaSelfAttention(\n",
       "              (query): Linear(in_features=768, out_features=768, bias=True)\n",
       "              (key): Linear(in_features=768, out_features=768, bias=True)\n",
       "              (value): Linear(in_features=768, out_features=768, bias=True)\n",
       "              (dropout): Dropout(p=0.1, inplace=False)\n",
       "            )\n",
       "            (output): RobertaSelfOutput(\n",
       "              (dense): Linear(in_features=768, out_features=768, bias=True)\n",
       "              (LayerNorm): LayerNorm((768,), eps=1e-05, elementwise_affine=True)\n",
       "              (dropout): Dropout(p=0.1, inplace=False)\n",
       "            )\n",
       "          )\n",
       "          (intermediate): RobertaIntermediate(\n",
       "            (dense): Linear(in_features=768, out_features=3072, bias=True)\n",
       "            (intermediate_act_fn): GELUActivation()\n",
       "          )\n",
       "          (output): RobertaOutput(\n",
       "            (dense): Linear(in_features=3072, out_features=768, bias=True)\n",
       "            (LayerNorm): LayerNorm((768,), eps=1e-05, elementwise_affine=True)\n",
       "            (dropout): Dropout(p=0.1, inplace=False)\n",
       "          )\n",
       "        )\n",
       "      )\n",
       "    )\n",
       "  )\n",
       "  (classifier): RobertaClassificationHead(\n",
       "    (dense): Linear(in_features=768, out_features=768, bias=True)\n",
       "    (dropout): Dropout(p=0.1, inplace=False)\n",
       "    (out_proj): Linear(in_features=768, out_features=3, bias=True)\n",
       "  )\n",
       ")"
      ]
     },
     "execution_count": 191,
     "metadata": {},
     "output_type": "execute_result"
    }
   ],
   "source": [
    "# Load model\n",
    "model = AutoModelForSequenceClassification.from_pretrained(MODELS_PATH + model_name)\n",
    "# model = CustomBERTModel(MODEL_NAME, NUM_CLASSES)\n",
    "# model.load_state_dict(torch.load(MODELS_PATH + model_name + \".pt\"))\n",
    "model.to(device)"
   ]
  },
  {
   "cell_type": "code",
   "execution_count": 192,
   "metadata": {},
   "outputs": [],
   "source": [
    "mapping = {0: 'NEG', 1: 'NEU', 2: 'POS'}"
   ]
  },
  {
   "cell_type": "code",
   "execution_count": 193,
   "metadata": {},
   "outputs": [],
   "source": [
    "# Predict test sample\n",
    "def predict_sample(model, tokenizer, sample_text):\n",
    "    \"\"\"\n",
    "    Predict the sentiment of a sample text\n",
    "    \"\"\"\n",
    "    inputs = tokenizer(sample_text, return_tensors=\"pt\", padding=True, truncation=True, max_length=MAX_LEN)\n",
    "    inputs = {k: v.to(device) for k, v in inputs.items()}\n",
    "    \n",
    "    inputs[\"labels\"] = None\n",
    "\n",
    "    with torch.no_grad():\n",
    "        outputs = model(**inputs)\n",
    "        try:\n",
    "            logits = outputs.logits\n",
    "        except:\n",
    "            logits = outputs\n",
    "    \n",
    "    probabilities = torch.softmax(logits, dim=-1)\n",
    "    \n",
    "    predicted_class = torch.argmax(probabilities, dim=-1).item()\n",
    "    predicted_label = mapping[predicted_class]\n",
    "    \n",
    "    return predicted_label, probabilities[0].cpu().numpy()"
   ]
  },
  {
   "cell_type": "code",
   "execution_count": 194,
   "metadata": {},
   "outputs": [
    {
     "name": "stdout",
     "output_type": "stream",
     "text": [
      "Input text: now i am opening up to going out on dates to find someone to be with, to support each other, to care for each other, to do romantic things, and to have a good time. i like to believe that one wants to be in a couple for more than just casual sex in general, not just as an 'asexual' person.\n",
      "Real label: NEU\n",
      "Paraphrase 1: i'm starting to be open to dating to discover someone to share my life with, to provide support for each other, to show care, to enjoy romantic moments, and to have fun together. i like to think that people seek a relationship for reasons beyond just casual sex, not limited to being an 'asexual' person.\n",
      "Paraphrase 2: i'm beginning to embrace the idea of going on dates to find someone with whom i can share life experiences, support one another, express care, engage in romantic activities, and have enjoyable moments. i like to believe that individuals look for a partnership for various reasons, extending beyond mere casual sex, not just as an 'asexual' person.\n",
      "\n",
      "Predicted label: POS\n",
      "Probabilities: [0.00192025 0.11072484 0.8873549 ]\n",
      "\n",
      "Predicted label para1: POS\n",
      "Probabilities: [0.0023107  0.15840514 0.83928424]\n",
      "\n",
      "Predicted label para2: POS\n",
      "Probabilities: [0.00161515 0.05764044 0.94074446]\n",
      "\n",
      "Final predicted label: POS\n"
     ]
    }
   ],
   "source": [
    "# test_idx = 40\n",
    "test_idx = 2\n",
    "\n",
    "text_col = \"text\"\n",
    "input_text = test_df[text_col][test_idx]\n",
    "\n",
    "# Get paraphrased samples\n",
    "samples = ast.literal_eval(test_df[paraphrase_col][test_idx])\n",
    "samples=list(samples)\n",
    "paraphrase_text1 = samples[0]\n",
    "paraphrase_text2 = samples[1]\n",
    "\n",
    "real_label = test_df['label'][test_idx]\n",
    "real_label = mapping[real_label]\n",
    "print(\"Input text:\", input_text)\n",
    "print(\"Real label:\", real_label)\n",
    "print(\"Paraphrase 1:\", paraphrase_text1)\n",
    "print(\"Paraphrase 2:\", paraphrase_text2)\n",
    "print()\n",
    "\n",
    "predicted_label, probabilities = predict_sample(model, tokenizer, input_text)\n",
    "print(\"Predicted label:\", predicted_label)\n",
    "print(\"Probabilities:\", probabilities)\n",
    "print()\n",
    "\n",
    "predicted_label1, probabilities = predict_sample(model, tokenizer, paraphrase_text1)\n",
    "print(\"Predicted label para1:\", predicted_label1)\n",
    "print(\"Probabilities:\", probabilities)\n",
    "print()\n",
    "\n",
    "predicted_label2, probabilities = predict_sample(model, tokenizer, paraphrase_text2)\n",
    "print(\"Predicted label para2:\", predicted_label2)\n",
    "print(\"Probabilities:\", probabilities)\n",
    "print()\n",
    "\n",
    "predicted_label = max(predicted_label, predicted_label1, predicted_label2, key=[predicted_label, predicted_label1, predicted_label2].count)\n",
    "print(\"Final predicted label:\", predicted_label)\n"
   ]
  },
  {
   "cell_type": "markdown",
   "metadata": {},
   "source": [
    "### Normal predictions"
   ]
  },
  {
   "cell_type": "code",
   "execution_count": 195,
   "metadata": {},
   "outputs": [
    {
     "name": "stdout",
     "output_type": "stream",
     "text": [
      "              precision    recall  f1-score   support\n",
      "\n",
      "         NEG       0.53      0.66      0.59       487\n",
      "         NEU       0.72      0.56      0.63       812\n",
      "         POS       0.30      0.45      0.36       143\n",
      "\n",
      "    accuracy                           0.58      1442\n",
      "   macro avg       0.52      0.55      0.52      1442\n",
      "weighted avg       0.62      0.58      0.59      1442\n",
      "\n"
     ]
    },
    {
     "data": {
      "text/plain": [
       "<sklearn.metrics._plot.confusion_matrix.ConfusionMatrixDisplay at 0x7677ac0b81c0>"
      ]
     },
     "execution_count": 195,
     "metadata": {},
     "output_type": "execute_result"
    },
    {
     "data": {
      "image/png": "[encoded data removed]",
      "text/plain": [
       "<Figure size 640x480 with 2 Axes>"
      ]
     },
     "metadata": {},
     "output_type": "display_data"
    }
   ],
   "source": [
    "y_pred_test = []\n",
    "y_true_test = []\n",
    "\n",
    "for i in range(len(test_df)):\n",
    "    input_text = test_df[text_col][i]\n",
    "\n",
    "    real_label = test_df['label'][i]\n",
    "    real_label = mapping[real_label]\n",
    "\n",
    "    predicted_label, probabilities = predict_sample(model, tokenizer, input_text)\n",
    "\n",
    "    y_pred_test.append(predicted_label)\n",
    "    y_true_test.append(real_label)\n",
    "\n",
    "y_pred_test = np.array(y_pred_test)\n",
    "y_true_test = np.array(y_true_test)\n",
    "\n",
    "print(classification_report(y_true_test, y_pred_test, target_names=id2label.values()))\n",
    "# Confusion matrix\n",
    "cm = confusion_matrix(y_true_test, y_pred_test)\n",
    "disp = ConfusionMatrixDisplay(confusion_matrix=cm, display_labels=id2label.values())\n",
    "disp.plot(cmap=plt.cm.Blues)"
   ]
  },
  {
   "cell_type": "markdown",
   "metadata": {},
   "source": [
    "### Ensemble predicions"
   ]
  },
  {
   "cell_type": "code",
   "execution_count": 196,
   "metadata": {},
   "outputs": [
    {
     "name": "stdout",
     "output_type": "stream",
     "text": [
      "              precision    recall  f1-score   support\n",
      "\n",
      "         NEG       0.56      0.66      0.61       487\n",
      "         NEU       0.75      0.59      0.66       812\n",
      "         POS       0.34      0.54      0.42       143\n",
      "\n",
      "    accuracy                           0.61      1442\n",
      "   macro avg       0.55      0.60      0.56      1442\n",
      "weighted avg       0.64      0.61      0.62      1442\n",
      "\n"
     ]
    },
    {
     "data": {
      "text/plain": [
       "<sklearn.metrics._plot.confusion_matrix.ConfusionMatrixDisplay at 0x7677a7d11a20>"
      ]
     },
     "execution_count": 196,
     "metadata": {},
     "output_type": "execute_result"
    },
    {
     "data": {
      "image/png": "[encoded data removed]",
      "text/plain": [
       "<Figure size 640x480 with 2 Axes>"
      ]
     },
     "metadata": {},
     "output_type": "display_data"
    }
   ],
   "source": [
    "y_pred_test = []\n",
    "y_true_test = []\n",
    "\n",
    "for i in range(len(test_df)):\n",
    "    input_text = test_df[text_col][i]\n",
    "    \n",
    "    # Get paraphrased samples\n",
    "    samples = ast.literal_eval(test_df[paraphrase_col][i])\n",
    "    samples=list(samples)\n",
    "    paraphrase_text1 = samples[0]\n",
    "    paraphrase_text2 = samples[1]\n",
    "\n",
    "    real_label = test_df['label'][i]\n",
    "    real_label = mapping[real_label]\n",
    "\n",
    "    predicted_label, probabilities = predict_sample(model, tokenizer, input_text)\n",
    "    predicted_label1, probabilities1 = predict_sample(model, tokenizer, paraphrase_text1)\n",
    "    predicted_label2, probabilities2 = predict_sample(model, tokenizer, paraphrase_text2)\n",
    "\n",
    "    if predicted_label != predicted_label1 and predicted_label != predicted_label2 and predicted_label1 != predicted_label2:\n",
    "        labels = [predicted_label, predicted_label1, predicted_label2]\n",
    "        label1_score = max(probabilities)\n",
    "        label2_score = max(probabilities1)\n",
    "        label3_score = max(probabilities2)\n",
    "        scores = {label1_score: predicted_label, label2_score: predicted_label1, label3_score: predicted_label2}\n",
    "        final_label = max(scores.keys())\n",
    "        predicted_label = scores[final_label]\n",
    "    else:\n",
    "        # Get the most frequent label\n",
    "        predicted_label = max(predicted_label, predicted_label1, predicted_label2, key=[predicted_label, predicted_label1, predicted_label2].count)\n",
    "    y_pred_test.append(predicted_label)\n",
    "    y_true_test.append(real_label)\n",
    "\n",
    "y_pred_test = np.array(y_pred_test)\n",
    "y_true_test = np.array(y_true_test)\n",
    "\n",
    "print(classification_report(y_true_test, y_pred_test, target_names=id2label.values()))\n",
    "# Confusion matrix\n",
    "cm = confusion_matrix(y_true_test, y_pred_test)\n",
    "disp = ConfusionMatrixDisplay(confusion_matrix=cm, display_labels=id2label.values())\n",
    "disp.plot(cmap=plt.cm.Blues)"
   ]
  }
 ],
 "metadata": {
  "kernelspec": {
   "display_name": "iberlef",
   "language": "python",
   "name": "python3"
  },
  "language_info": {
   "codemirror_mode": {
    "name": "ipython",
    "version": 3
   },
   "file_extension": ".py",
   "mimetype": "text/x-python",
   "name": "python",
   "nbconvert_exporter": "python",
   "pygments_lexer": "ipython3",
   "version": "3.10.16"
  }
 },
 "nbformat": 4,
 "nbformat_minor": 2
}
