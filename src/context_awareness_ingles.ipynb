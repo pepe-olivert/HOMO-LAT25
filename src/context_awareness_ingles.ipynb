{
 "cells": [
  {
   "cell_type": "code",
   "execution_count": 1,
   "metadata": {},
   "outputs": [
    {
     "name": "stderr",
     "output_type": "stream",
     "text": [
      "/home/pepe/miniconda3/envs/nlp/lib/python3.10/site-packages/tqdm/auto.py:21: TqdmWarning: IProgress not found. Please update jupyter and ipywidgets. See https://ipywidgets.readthedocs.io/en/stable/user_install.html\n",
      "  from .autonotebook import tqdm as notebook_tqdm\n"
     ]
    }
   ],
   "source": [
    "import pandas as pd\n",
    "import torch\n",
    "from transformers import AutoTokenizer, DataCollatorWithPadding\n",
    "import torch.nn as nn\n",
    "from transformers import AutoModel\n",
    "from sklearn.metrics.pairwise import cosine_similarity\n",
    "import numpy as np\n",
    "from torch.utils.data import Dataset\n",
    "from torch.utils.data import DataLoader\n",
    "from sklearn.utils.class_weight import compute_class_weight\n",
    "import warnings\n",
    "import random\n",
    "import ast\n",
    "import torch.nn.functional as F\n",
    "from sklearn.metrics import classification_report, f1_score, confusion_matrix, ConfusionMatrixDisplay\n",
    "from torch.optim.lr_scheduler import MultiStepLR\n",
    "from sklearn.model_selection import train_test_split\n",
    "\n",
    "\n",
    "\n",
    "warnings.filterwarnings('ignore')"
   ]
  },
  {
   "cell_type": "code",
   "execution_count": 2,
   "metadata": {},
   "outputs": [],
   "source": [
    "TOKEN_DIM = 256\n",
    "PROB = 0.3\n",
    "DROPOUT = 0.2  # Esto\n",
    "EMBED_DIM = 768\n",
    "BATCH_SIZE = 16\n",
    "LR = 1e-5\n",
    "WD = 1e-2\n",
    "EPOCHS = 10\n",
    "ACTIVATION = nn.GELU()\n",
    "DATA_AUG = True  # Esto\n",
    "\n",
    "language = \"ENG\"\n",
    "\n",
    "if language == \"ENG\":\n",
    "    MODEL_NAME = \"cardiffnlp/twitter-roberta-base-sentiment-latest\"\n",
    "    text_col = \"translation\" \n",
    "    emb_col = \"embeddings_ingles\" \n",
    "    par_col = \"paraphrase\" \n",
    "    par_emb_col_1 = \"embedding_paraphrase1\" \n",
    "    par_emb_col_2 = \"embedding_paraphrase2\" \n",
    "    TOKEN_DIM = TOKEN_DIM\n",
    "\n",
    "else: \n",
    "    MODEL_NAME = \"pysentimiento/robertuito-sentiment-analysis\"\n",
    "    text_col = \"post content\"\n",
    "    emb_col = \"embeddings\"\n",
    "    par_col = \"paraphrase_esp\"\n",
    "    par_emb_col_1 = \"embedding_paraphrase_esp1\"\n",
    "    par_emb_col_2 = \"embedding_paraphrase_esp2\"\n",
    "    TOKEN_DIM = 128"
   ]
  },
  {
   "cell_type": "code",
   "execution_count": 42,
   "metadata": {},
   "outputs": [],
   "source": [
    "def load_dataset(path_to_dataset):\n",
    "    return pd.read_csv(path_to_dataset)\n",
    "\n",
    "def extract_similar_descriptions(e, embeddings, k):\n",
    "    similarities = cosine_similarity([e], embeddings)[0]\n",
    "    top_indices = np.argsort(similarities)[-k:][::-1]\n",
    "    return top_indices\n",
    "    \n",
    "def compute_embeddings_distance(embedding_str, k, df):\n",
    "    # QUitamos del dataset la misma fila con la que estamos trabajando\n",
    "    df = df[df[emb_col]!= embedding_str]\n",
    "\n",
    "    def parse_embedding(embedding_str):\n",
    "        embedding_str = embedding_str.strip(\"[]\")\n",
    "        return np.array(embedding_str.split(), dtype=np.float32)\n",
    "    \n",
    "    embedding = parse_embedding(embedding_str)\n",
    "    df[emb_col] = df[emb_col].apply(lambda x: parse_embedding(x))\n",
    "\n",
    "    df_pos = df[df[\"label\"]==2]\n",
    "    df_neu = df[df[\"label\"]==1]\n",
    "    df_neg = df[df[\"label\"]==0]\n",
    "\n",
    "    pos_description_embeddings = np.vstack(df_pos[emb_col].values)\n",
    "    pos_nearest_descriptions = extract_similar_descriptions(embedding, pos_description_embeddings, k)\n",
    "    pos_result = df_pos.iloc[pos_nearest_descriptions][text_col]\n",
    "\n",
    "    neu_description_embeddings = np.vstack(df_neu[emb_col].values)\n",
    "    neu_nearest_descriptions = extract_similar_descriptions(embedding, neu_description_embeddings, k)\n",
    "    neu_result = df_neu.iloc[neu_nearest_descriptions][text_col]\n",
    "\n",
    "    neg_description_embeddings = np.vstack(df_neg[emb_col].values)\n",
    "    neg_nearest_descriptions = extract_similar_descriptions(embedding, neg_description_embeddings, k)\n",
    "    neg_result = df_neg.iloc[neg_nearest_descriptions][text_col]\n",
    "    \n",
    "\n",
    "    return pos_result.to_list(), neu_result.to_list(), neg_result.to_list()\n",
    "\n",
    "mapping = {\"NEG\":0, \"NEU\":1, \"POS\":2}\n",
    "\n",
    "reverse_mapping = {0:\"NEG\", 1: \"NEU\", 2:\"POS\"}\n",
    "\n",
    "def label2int(label):\n",
    "    return mapping[label]"
   ]
  },
  {
   "cell_type": "code",
   "execution_count": 4,
   "metadata": {},
   "outputs": [
    {
     "name": "stdout",
     "output_type": "stream",
     "text": [
      "Device count: 1\n",
      "Current device: 0\n",
      "NVIDIA GeForce RTX 4070 Laptop GPU\n"
     ]
    }
   ],
   "source": [
    "import os\n",
    "os.environ[\"CUDA_VISIBLE_DEVICES\"] = \"0\"\n",
    "\n",
    "device = torch.device(\"cuda:0\" if torch.cuda.is_available() else \"cpu\")\n",
    "\n",
    "if torch.cuda.is_available():\n",
    "    print(\"Device count:\", torch.cuda.device_count())\n",
    "    print(\"Current device:\", torch.cuda.current_device())\n",
    "    for i in range(torch.cuda.device_count()):\n",
    "        print(torch.cuda.get_device_name(i))"
   ]
  },
  {
   "cell_type": "code",
   "execution_count": 5,
   "metadata": {},
   "outputs": [],
   "source": [
    "RANDOM_SEED = 42\n",
    "torch.manual_seed(RANDOM_SEED)\n",
    "torch.cuda.manual_seed_all(RANDOM_SEED)\n",
    "np.random.seed(RANDOM_SEED)"
   ]
  },
  {
   "cell_type": "code",
   "execution_count": 19,
   "metadata": {},
   "outputs": [],
   "source": [
    "data = load_dataset(\"../data/data.csv\")\n",
    "task_1 = load_dataset(\"../data/augmented_dataset_task1.csv\")\n",
    "task_2 = load_dataset(\"../data/augmented_dataset_task2.csv\")"
   ]
  },
  {
   "cell_type": "code",
   "execution_count": 7,
   "metadata": {},
   "outputs": [],
   "source": [
    "# train_df = load_dataset(\"../data/train_paraphrased.csv\")\n",
    "# test_df = load_dataset(\"../data/test_paraphrased.csv\")\n",
    "# val_df = load_dataset(\"../data/val_paraphrased.csv\")\n",
    "# dev_df = load_dataset(\"../data/dev_paraphrased.csv\")\n",
    "# train_df = pd.concat([train_df, dev_df]).reset_index()\n",
    "\n",
    "train_df, test_df = train_test_split(data, test_size=0.2, random_state=RANDOM_SEED, stratify=data['label'])\n",
    "# train_df, val_df = train_test_split(train_df, test_size=1/8, random_state=RANDOM_SEED, stratify=train_df['label'])\n",
    "\n",
    "# Copy test_df to val_df\n",
    "val_df = test_df.copy()"
   ]
  },
  {
   "cell_type": "code",
   "execution_count": 20,
   "metadata": {},
   "outputs": [],
   "source": [
    "task_1[\"label\"]=0\n",
    "task_2[\"label\"]=0\n"
   ]
  },
  {
   "cell_type": "code",
   "execution_count": 8,
   "metadata": {},
   "outputs": [],
   "source": [
    "train_labels = train_df[\"label\"]"
   ]
  },
  {
   "cell_type": "code",
   "execution_count": 9,
   "metadata": {},
   "outputs": [
    {
     "name": "stdout",
     "output_type": "stream",
     "text": [
      "Class weights: tensor([0.9870, 0.5916, 3.3713], device='cuda:0')\n"
     ]
    }
   ],
   "source": [
    "class_weights = compute_class_weight(\n",
    "    class_weight='balanced',\n",
    "    classes=np.unique(train_labels),\n",
    "    y=train_labels\n",
    ")\n",
    "class_weights = torch.tensor(class_weights, dtype=torch.float).to(device)\n",
    "print(\"Class weights:\", class_weights)"
   ]
  },
  {
   "cell_type": "code",
   "execution_count": 21,
   "metadata": {},
   "outputs": [],
   "source": [
    "class SentimentDataset(Dataset):\n",
    "    def __init__(self, texts, paraphrases, labels, tokenizer, k, df, type = None, augmentation = False, local_database = train_df):\n",
    "        super().__init__() \n",
    "        self.texts = texts\n",
    "        self.labels = labels\n",
    "        self.tokenizer = tokenizer\n",
    "        self.k = k\n",
    "        self.df = df\n",
    "        self.local_database = local_database\n",
    "        self.paraphrases = paraphrases\n",
    "        self.type = type\n",
    "        self.augmentation = augmentation\n",
    "\n",
    "    def __len__(self):\n",
    "        return len(self.texts)\n",
    "\n",
    "    def __getitem__(self, idx):\n",
    "        text = self.texts[idx]\n",
    "        label = self.labels[idx]\n",
    "\n",
    "        # DATA AUG\n",
    "        if self.type == \"train\" and self.augmentation:\n",
    "            paraphrase = self.paraphrases[idx]\n",
    "            samples = ast.literal_eval(paraphrase)\n",
    "            samples=list(samples)\n",
    "            samples.append(text)\n",
    "            text = random.choice(samples)\n",
    "            index = samples.index(text)\n",
    "\n",
    "\n",
    "            if index == 0:\n",
    "                embedding_str = self.df.loc[self.df[par_col] == paraphrase, par_emb_col_1].values[0]\n",
    "            elif index == 1:\n",
    "                embedding_str = self.df.loc[self.df[par_col] == paraphrase, par_emb_col_2].values[0]\n",
    "            else: \n",
    "                embedding_str = self.df.loc[self.df[text_col] == text, emb_col].values[0]\n",
    "\n",
    "            words = text.split()\n",
    "            if random.random() < PROB:\n",
    "            \n",
    "                if len(words) > 1:\n",
    "                    num_to_remove = max(1, int(0.1 * len(words)))  # Quitar ~10% de las palabras\n",
    "                    indices_to_remove = random.sample(range(len(words)), num_to_remove)\n",
    "                    words = [w for i, w in enumerate(words) if i not in indices_to_remove]\n",
    "                    text = \" \".join(words)\n",
    "\n",
    "                if random.random() < PROB:\n",
    "\n",
    "                    if len(words) > 1:\n",
    "                        random.shuffle(words)\n",
    "                        text = \" \".join(words)\n",
    "\n",
    "        else:\n",
    "            embedding_str = embedding_str = self.df.loc[self.df[text_col] == text, emb_col].values[0]\n",
    "        \n",
    "        # Obtener los textos más similares por clase\n",
    "        pos_texts, neu_texts, neg_texts = compute_embeddings_distance(embedding_str, self.k, self.local_database)\n",
    "        # Tokenizar el texto principal\n",
    "        encoding = self.tokenizer(text, padding=\"max_length\", truncation=True, max_length=TOKEN_DIM, return_tensors=\"pt\")\n",
    "\n",
    "        # Tokenizar los textos más similares\n",
    "        pos_tokens = self.tokenizer(pos_texts, padding=\"max_length\", truncation=True, max_length=TOKEN_DIM, return_tensors=\"pt\")\n",
    "        neu_tokens = self.tokenizer(neu_texts, padding=\"max_length\", truncation=True, max_length=TOKEN_DIM, return_tensors=\"pt\")\n",
    "        neg_tokens = self.tokenizer(neg_texts, padding=\"max_length\", truncation=True, max_length=TOKEN_DIM, return_tensors=\"pt\")\n",
    "        \n",
    "\n",
    "        return {\n",
    "            \"input_ids\": encoding[\"input_ids\"].squeeze(0),\n",
    "            \"attention_mask\": encoding[\"attention_mask\"].squeeze(0),\n",
    "            \"labels\": torch.tensor(label, dtype=torch.long),\n",
    "            \"pos_tokens\": pos_tokens[\"input_ids\"],\n",
    "            \"neu_tokens\": neu_tokens[\"input_ids\"],\n",
    "            \"neg_tokens\": neg_tokens[\"input_ids\"],\n",
    "            \"pos_attention\": pos_tokens[\"attention_mask\"],\n",
    "            \"neu_attention\": neu_tokens[\"attention_mask\"],\n",
    "            \"neg_attention\": neg_tokens[\"attention_mask\"],\n",
    "        }"
   ]
  },
  {
   "cell_type": "code",
   "execution_count": 22,
   "metadata": {},
   "outputs": [],
   "source": [
    "tokenizer = AutoTokenizer.from_pretrained(MODEL_NAME)\n",
    "\n",
    "train_dataset = SentimentDataset(\n",
    "    texts=train_df[text_col].tolist(),\n",
    "    labels=train_df[\"label\"].tolist(),\n",
    "    paraphrases=train_df[par_col].tolist(),\n",
    "    tokenizer=tokenizer,\n",
    "    k=1,  # Número de mensajes similares a recuperar\n",
    "    df = train_df,\n",
    "    type = \"train\",\n",
    "    augmentation=DATA_AUG\n",
    ")\n",
    "\n",
    "val_dataset = SentimentDataset(\n",
    "    texts=val_df[text_col].tolist(),\n",
    "    labels=val_df[\"label\"].tolist(),\n",
    "    paraphrases = [],\n",
    "    tokenizer=tokenizer,\n",
    "    k=1,  # Número de mensajes similares a recuperar\n",
    "    df = val_df\n",
    ")\n",
    "\n",
    "test_dataset = SentimentDataset(\n",
    "    texts=test_df[text_col].tolist(),\n",
    "    labels=test_df[\"label\"].tolist(),\n",
    "    paraphrases = [],\n",
    "    tokenizer=tokenizer,\n",
    "    k=1,  # Número de mensajes similares a recuperar\n",
    "    df = test_df\n",
    ")\n",
    "\n",
    "task_1_dataset = SentimentDataset(\n",
    "    texts=task_1[text_col].tolist(),\n",
    "    labels=task_1[\"label\"].tolist(),\n",
    "    paraphrases = [],\n",
    "    tokenizer=tokenizer,\n",
    "    k=1,  # Número de mensajes similares a recuperar\n",
    "    df = task_1\n",
    ")\n",
    "\n",
    "task_2_dataset = SentimentDataset(\n",
    "    texts=task_2[text_col].tolist(),\n",
    "    labels=task_2[\"label\"].tolist(),\n",
    "    paraphrases = [],\n",
    "    tokenizer=tokenizer,\n",
    "    k=1,  # Número de mensajes similares a recuperar\n",
    "    df = task_2\n",
    ")"
   ]
  },
  {
   "cell_type": "code",
   "execution_count": 23,
   "metadata": {},
   "outputs": [
    {
     "name": "stdout",
     "output_type": "stream",
     "text": [
      "Sample 1:\n",
      "Text: Demisexuality, from the English suffix demi-, \"half,\" and the Latin sexus \"sex,\" is a term coined by the Asexual Visibility and Education Network (AVEN) to refer to sexual attraction exclusively towards individuals with whom strong, stable, and/or lasting emotional bonds have been developed previously. Before that, a demisexual may behave like an 'asexual' and may even identify as such. Furthermore, demisexuality can refer to any type of fixation that develops into a secondary sexual attraction towards individuals with whom strong love bonds have been built, while primary sexual attraction manifests as an apparent 'asexual' orientation.\n",
      "Label: 0\n",
      "Input IDs: tensor([    0, 24658, 45799,  1571,     6,    31,     5,  2370, 47503,  4410,\n",
      "          118, 20551,    22,  4809,    60,     8,     5,  5862,  2099,   687,\n",
      "           22,  8821,    60,    16,    10,  1385, 32993,    30,     5,    83,\n",
      "        28744, 10035, 12203,     8,  3061,  3658,    36, 10612,  2796,    43,\n",
      "            7,  9115,     7,  1363, 13003,  8992,  1567,  2172,    19,  2661,\n",
      "          670,     6,  4375,     6,     8,    73,   368,  9735,  3722,  3554,\n",
      "           33,    57,  2226,  1433,     4,  3224,    14,     6,    10,  4410,\n",
      "        45799,   189, 18871,   101,    41,   128,  3175, 47830,   108,     8,\n",
      "          189,   190,  3058,    25,   215,     4,  9870,     6,  4410, 45799,\n",
      "         1571,    64,  9115,     7,   143,  1907,     9, 42004,    14, 12626,\n",
      "           88,    10,  5929,  1363, 13003,  1567,  2172,    19,  2661,   670,\n",
      "          657,  3554,    33,    57,  1490,     6,   150,  2270,  1363, 13003,\n",
      "        41958,    25,    41,  5890,   128,  3175, 47830,   108, 14497,     4,\n",
      "            2,     1,     1,     1,     1,     1,     1,     1,     1,     1,\n",
      "            1,     1,     1,     1,     1,     1,     1,     1,     1,     1,\n",
      "            1,     1,     1,     1,     1,     1,     1,     1,     1,     1,\n",
      "            1,     1,     1,     1,     1,     1,     1,     1,     1,     1,\n",
      "            1,     1,     1,     1,     1,     1,     1,     1,     1,     1,\n",
      "            1,     1,     1,     1,     1,     1,     1,     1,     1,     1,\n",
      "            1,     1,     1,     1,     1,     1,     1,     1,     1,     1,\n",
      "            1,     1,     1,     1,     1,     1,     1,     1,     1,     1,\n",
      "            1,     1,     1,     1,     1,     1,     1,     1,     1,     1,\n",
      "            1,     1,     1,     1,     1,     1,     1,     1,     1,     1,\n",
      "            1,     1,     1,     1,     1,     1,     1,     1,     1,     1,\n",
      "            1,     1,     1,     1,     1,     1,     1,     1,     1,     1,\n",
      "            1,     1,     1,     1,     1,     1])\n",
      "Attention Mask: tensor([1, 1, 1, 1, 1, 1, 1, 1, 1, 1, 1, 1, 1, 1, 1, 1, 1, 1, 1, 1, 1, 1, 1, 1,\n",
      "        1, 1, 1, 1, 1, 1, 1, 1, 1, 1, 1, 1, 1, 1, 1, 1, 1, 1, 1, 1, 1, 1, 1, 1,\n",
      "        1, 1, 1, 1, 1, 1, 1, 1, 1, 1, 1, 1, 1, 1, 1, 1, 1, 1, 1, 1, 1, 1, 1, 1,\n",
      "        1, 1, 1, 1, 1, 1, 1, 1, 1, 1, 1, 1, 1, 1, 1, 1, 1, 1, 1, 1, 1, 1, 1, 1,\n",
      "        1, 1, 1, 1, 1, 1, 1, 1, 1, 1, 1, 1, 1, 1, 1, 1, 1, 1, 1, 1, 1, 1, 1, 1,\n",
      "        1, 1, 1, 1, 1, 1, 1, 1, 1, 1, 1, 0, 0, 0, 0, 0, 0, 0, 0, 0, 0, 0, 0, 0,\n",
      "        0, 0, 0, 0, 0, 0, 0, 0, 0, 0, 0, 0, 0, 0, 0, 0, 0, 0, 0, 0, 0, 0, 0, 0,\n",
      "        0, 0, 0, 0, 0, 0, 0, 0, 0, 0, 0, 0, 0, 0, 0, 0, 0, 0, 0, 0, 0, 0, 0, 0,\n",
      "        0, 0, 0, 0, 0, 0, 0, 0, 0, 0, 0, 0, 0, 0, 0, 0, 0, 0, 0, 0, 0, 0, 0, 0,\n",
      "        0, 0, 0, 0, 0, 0, 0, 0, 0, 0, 0, 0, 0, 0, 0, 0, 0, 0, 0, 0, 0, 0, 0, 0,\n",
      "        0, 0, 0, 0, 0, 0, 0, 0, 0, 0, 0, 0, 0, 0, 0, 0])\n",
      "Positives: tensor([[    0, 24792, 41746,  1571,   117, 26613,    32,   716,    15,   171,\n",
      "          2433,     8,  2128,  6723,    15,     5,    86,     8,     5,  4566,\n",
      "             8,  4106,  5377,    11,    61,    51,  2179,     8,   939,   206,\n",
      "            47,  1266,  3959, 44153,  7228,    61,    16,    10,   182,  6336,\n",
      "          5674,   939,   386,    31,     5, 18884, 27074,     9, 34655,  2166,\n",
      "             8, 27499,  2400,     8, 35195,    49, 14082,     7,  2313,    89,\n",
      "            32,  6214,    54,    32,    55,  5616,     7,  2313,    87,     5,\n",
      "           144, 20399,   139,  4334,  1644,  2128,    63,   357,     7,   342,\n",
      "          4157,  4364,     2,     1,     1,     1,     1,     1,     1,     1,\n",
      "             1,     1,     1,     1,     1,     1,     1,     1,     1,     1,\n",
      "             1,     1,     1,     1,     1,     1,     1,     1,     1,     1,\n",
      "             1,     1,     1,     1,     1,     1,     1,     1,     1,     1,\n",
      "             1,     1,     1,     1,     1,     1,     1,     1,     1,     1,\n",
      "             1,     1,     1,     1,     1,     1,     1,     1,     1,     1,\n",
      "             1,     1,     1,     1,     1,     1,     1,     1,     1,     1,\n",
      "             1,     1,     1,     1,     1,     1,     1,     1,     1,     1,\n",
      "             1,     1,     1,     1,     1,     1,     1,     1,     1,     1,\n",
      "             1,     1,     1,     1,     1,     1,     1,     1,     1,     1,\n",
      "             1,     1,     1,     1,     1,     1,     1,     1,     1,     1,\n",
      "             1,     1,     1,     1,     1,     1,     1,     1,     1,     1,\n",
      "             1,     1,     1,     1,     1,     1,     1,     1,     1,     1,\n",
      "             1,     1,     1,     1,     1,     1,     1,     1,     1,     1,\n",
      "             1,     1,     1,     1,     1,     1,     1,     1,     1,     1,\n",
      "             1,     1,     1,     1,     1,     1,     1,     1,     1,     1,\n",
      "             1,     1,     1,     1,     1,     1,     1,     1,     1,     1,\n",
      "             1,     1,     1,     1,     1,     1]])\n",
      "Neutral: tensor([[    0,   405,    16,    10,  8576,  4420,    13,   171,    55,  2188,\n",
      "            87,    47,  4521,    53,  3284,     5,  1353,  6659,     9,    10,\n",
      "         28744,  1571,    16,     5,   169,  1363, 13003,    16,  2984, 50118,\n",
      "         50118, 28744, 13003,    16,  6238,    25,     5,  3722,  1263,  2984,\n",
      "            77, 27515,   103,  6909,  2099,  2868,    14,    47,   101,    61,\n",
      "           818,   460, 11570,  6568,    10,  4724,     7,    33,  2099,    19,\n",
      "            14,  1989,   621,    11,   765,    63,  6923,     7,    33,  2099,\n",
      "            19,   951,  4010,    66,     9,  4724,    10, 28744,    82,   109,\n",
      "            45,   676,    42,    50,   182,   410,    50, 10930,    50,  6122,\n",
      "            15, 22438,  2433,    41,   505,   233,     9,     5,  8576,    67,\n",
      "          1171,  4410, 45799,    29,    54,    32,  4453,     9,  7242,   129,\n",
      "          5929, 12528,  1363, 13003,  5929, 12528, 13003,    16,    65,    14,\n",
      "          1411,  1684,    99,    16,  9568,    11,     5,    78,   360,     9,\n",
      "           529,   951,    24,    16,    45,     5,  2166,  2772,     5,  2236,\n",
      "            50,     5,   809,  2777,    24,    34,    55,     7,   109,    19,\n",
      "             5,  5151, 15052, 22894, 16275,    49,   317,    11,     5,   232,\n",
      "             8,     5,  2175,    14,    16,  4829,   951,    54,    16,  4410,\n",
      "         45799,   189,    28,    10, 28744,    13,  3544,   107,   137, 12748,\n",
      "            10,   670,   615,  2175,    19,   951,     7,   676,  5929, 12528,\n",
      "         13003, 50118, 50118,  1115,  2013,    31,    14,    89,    32,   171,\n",
      "           650,  5894,   101,   167,    54,    33,  2099,    13, 10483,    13,\n",
      "          1759, 39025,    50, 17672,  1413,  1782,   143, 20745,    50,    32,\n",
      "           129,  7671,     7, 31053,  6086,    50,  2788,    70,     9,    14,\n",
      "            16,    55,    59,     5,   169, 17969,    16,  2984,     8,  1712,\n",
      "          1687,    11,  5177, 31479,  2507,    51,    32,    45,     5,  1353,\n",
      "          6659,     9,    10, 28744,  1571,     2]])\n",
      "Negatives: tensor([[    0,  3056,  4420,    82,   356,   159,    15,   167,    54, 33976,\n",
      "           236,     7,    33,  2099,    70,     5,    86,   101,   144,   109,\n",
      "             8,    63,   182,  1537,    13,  1246,     7,   304, 33799,    25,\n",
      "            41, 18566,    24,  2594,    19,  1337,   383,    67,    19,  3766,\n",
      "           114,    47, 33976,  4076,   171,    82,   356,   159,    15,    47,\n",
      "         50118, 50118,   463,  4420,   939,  2854,    14,    24,  1411,   136,\n",
      "             5, 21668,     9, 26385,    53,    11,    14,   403,   145,  5100,\n",
      "            74,    67,   213,   136,    14,   648,    24,  1302,     7,    28,\n",
      "            55,  3903,    87,   145,    10, 28744,     2,     1,     1,     1,\n",
      "             1,     1,     1,     1,     1,     1,     1,     1,     1,     1,\n",
      "             1,     1,     1,     1,     1,     1,     1,     1,     1,     1,\n",
      "             1,     1,     1,     1,     1,     1,     1,     1,     1,     1,\n",
      "             1,     1,     1,     1,     1,     1,     1,     1,     1,     1,\n",
      "             1,     1,     1,     1,     1,     1,     1,     1,     1,     1,\n",
      "             1,     1,     1,     1,     1,     1,     1,     1,     1,     1,\n",
      "             1,     1,     1,     1,     1,     1,     1,     1,     1,     1,\n",
      "             1,     1,     1,     1,     1,     1,     1,     1,     1,     1,\n",
      "             1,     1,     1,     1,     1,     1,     1,     1,     1,     1,\n",
      "             1,     1,     1,     1,     1,     1,     1,     1,     1,     1,\n",
      "             1,     1,     1,     1,     1,     1,     1,     1,     1,     1,\n",
      "             1,     1,     1,     1,     1,     1,     1,     1,     1,     1,\n",
      "             1,     1,     1,     1,     1,     1,     1,     1,     1,     1,\n",
      "             1,     1,     1,     1,     1,     1,     1,     1,     1,     1,\n",
      "             1,     1,     1,     1,     1,     1,     1,     1,     1,     1,\n",
      "             1,     1,     1,     1,     1,     1,     1,     1,     1,     1,\n",
      "             1,     1,     1,     1,     1,     1]])\n",
      "Positives: tensor([[1, 1, 1, 1, 1, 1, 1, 1, 1, 1, 1, 1, 1, 1, 1, 1, 1, 1, 1, 1, 1, 1, 1, 1,\n",
      "         1, 1, 1, 1, 1, 1, 1, 1, 1, 1, 1, 1, 1, 1, 1, 1, 1, 1, 1, 1, 1, 1, 1, 1,\n",
      "         1, 1, 1, 1, 1, 1, 1, 1, 1, 1, 1, 1, 1, 1, 1, 1, 1, 1, 1, 1, 1, 1, 1, 1,\n",
      "         1, 1, 1, 1, 1, 1, 1, 1, 1, 1, 1, 0, 0, 0, 0, 0, 0, 0, 0, 0, 0, 0, 0, 0,\n",
      "         0, 0, 0, 0, 0, 0, 0, 0, 0, 0, 0, 0, 0, 0, 0, 0, 0, 0, 0, 0, 0, 0, 0, 0,\n",
      "         0, 0, 0, 0, 0, 0, 0, 0, 0, 0, 0, 0, 0, 0, 0, 0, 0, 0, 0, 0, 0, 0, 0, 0,\n",
      "         0, 0, 0, 0, 0, 0, 0, 0, 0, 0, 0, 0, 0, 0, 0, 0, 0, 0, 0, 0, 0, 0, 0, 0,\n",
      "         0, 0, 0, 0, 0, 0, 0, 0, 0, 0, 0, 0, 0, 0, 0, 0, 0, 0, 0, 0, 0, 0, 0, 0,\n",
      "         0, 0, 0, 0, 0, 0, 0, 0, 0, 0, 0, 0, 0, 0, 0, 0, 0, 0, 0, 0, 0, 0, 0, 0,\n",
      "         0, 0, 0, 0, 0, 0, 0, 0, 0, 0, 0, 0, 0, 0, 0, 0, 0, 0, 0, 0, 0, 0, 0, 0,\n",
      "         0, 0, 0, 0, 0, 0, 0, 0, 0, 0, 0, 0, 0, 0, 0, 0]])\n",
      "Neutral: tensor([[1, 1, 1, 1, 1, 1, 1, 1, 1, 1, 1, 1, 1, 1, 1, 1, 1, 1, 1, 1, 1, 1, 1, 1,\n",
      "         1, 1, 1, 1, 1, 1, 1, 1, 1, 1, 1, 1, 1, 1, 1, 1, 1, 1, 1, 1, 1, 1, 1, 1,\n",
      "         1, 1, 1, 1, 1, 1, 1, 1, 1, 1, 1, 1, 1, 1, 1, 1, 1, 1, 1, 1, 1, 1, 1, 1,\n",
      "         1, 1, 1, 1, 1, 1, 1, 1, 1, 1, 1, 1, 1, 1, 1, 1, 1, 1, 1, 1, 1, 1, 1, 1,\n",
      "         1, 1, 1, 1, 1, 1, 1, 1, 1, 1, 1, 1, 1, 1, 1, 1, 1, 1, 1, 1, 1, 1, 1, 1,\n",
      "         1, 1, 1, 1, 1, 1, 1, 1, 1, 1, 1, 1, 1, 1, 1, 1, 1, 1, 1, 1, 1, 1, 1, 1,\n",
      "         1, 1, 1, 1, 1, 1, 1, 1, 1, 1, 1, 1, 1, 1, 1, 1, 1, 1, 1, 1, 1, 1, 1, 1,\n",
      "         1, 1, 1, 1, 1, 1, 1, 1, 1, 1, 1, 1, 1, 1, 1, 1, 1, 1, 1, 1, 1, 1, 1, 1,\n",
      "         1, 1, 1, 1, 1, 1, 1, 1, 1, 1, 1, 1, 1, 1, 1, 1, 1, 1, 1, 1, 1, 1, 1, 1,\n",
      "         1, 1, 1, 1, 1, 1, 1, 1, 1, 1, 1, 1, 1, 1, 1, 1, 1, 1, 1, 1, 1, 1, 1, 1,\n",
      "         1, 1, 1, 1, 1, 1, 1, 1, 1, 1, 1, 1, 1, 1, 1, 1]])\n",
      "Negatives: tensor([[1, 1, 1, 1, 1, 1, 1, 1, 1, 1, 1, 1, 1, 1, 1, 1, 1, 1, 1, 1, 1, 1, 1, 1,\n",
      "         1, 1, 1, 1, 1, 1, 1, 1, 1, 1, 1, 1, 1, 1, 1, 1, 1, 1, 1, 1, 1, 1, 1, 1,\n",
      "         1, 1, 1, 1, 1, 1, 1, 1, 1, 1, 1, 1, 1, 1, 1, 1, 1, 1, 1, 1, 1, 1, 1, 1,\n",
      "         1, 1, 1, 1, 1, 1, 1, 1, 1, 1, 1, 1, 1, 1, 1, 0, 0, 0, 0, 0, 0, 0, 0, 0,\n",
      "         0, 0, 0, 0, 0, 0, 0, 0, 0, 0, 0, 0, 0, 0, 0, 0, 0, 0, 0, 0, 0, 0, 0, 0,\n",
      "         0, 0, 0, 0, 0, 0, 0, 0, 0, 0, 0, 0, 0, 0, 0, 0, 0, 0, 0, 0, 0, 0, 0, 0,\n",
      "         0, 0, 0, 0, 0, 0, 0, 0, 0, 0, 0, 0, 0, 0, 0, 0, 0, 0, 0, 0, 0, 0, 0, 0,\n",
      "         0, 0, 0, 0, 0, 0, 0, 0, 0, 0, 0, 0, 0, 0, 0, 0, 0, 0, 0, 0, 0, 0, 0, 0,\n",
      "         0, 0, 0, 0, 0, 0, 0, 0, 0, 0, 0, 0, 0, 0, 0, 0, 0, 0, 0, 0, 0, 0, 0, 0,\n",
      "         0, 0, 0, 0, 0, 0, 0, 0, 0, 0, 0, 0, 0, 0, 0, 0, 0, 0, 0, 0, 0, 0, 0, 0,\n",
      "         0, 0, 0, 0, 0, 0, 0, 0, 0, 0, 0, 0, 0, 0, 0, 0]])\n",
      "\n",
      "----------------------------------------\n",
      "\n"
     ]
    }
   ],
   "source": [
    "for i in range(1):\n",
    "    sample = task_1_dataset[i]\n",
    "    print(f\"Sample {i + 1}:\")\n",
    "    print(f\"Text: {task_1_dataset.texts[i]}\")\n",
    "    print(f\"Label: {sample['labels'].item()}\")\n",
    "    print(f\"Input IDs: {sample['input_ids']}\")\n",
    "    print(f\"Attention Mask: {sample['attention_mask']}\")\n",
    "    print(f\"Positives: {sample['pos_tokens']}\")\n",
    "    print(f\"Neutral: {sample['neu_tokens']}\")\n",
    "    print(f\"Negatives: {sample['neg_tokens']}\")\n",
    "    print(f\"Positives: {sample['pos_attention']}\")\n",
    "    print(f\"Neutral: {sample['neu_attention']}\")\n",
    "    print(f\"Negatives: {sample['neg_attention']}\")\n",
    "    print(\"\\n\" + \"-\"*40 + \"\\n\")"
   ]
  },
  {
   "cell_type": "code",
   "execution_count": 13,
   "metadata": {},
   "outputs": [],
   "source": [
    "def scaled_dot_product_attention(Q, K, V, mask=None):\n",
    "    # Compute the dot products between Q and K, then scale by the square root of the key dimension\n",
    "    d_k = Q.size(-1)\n",
    "    scores = torch.matmul(Q, K.transpose(-2, -1)) / torch.sqrt(torch.tensor(d_k, dtype=torch.float32))\n",
    "\n",
    "    # Apply mask if provided (useful for masked self-attention in transformers)\n",
    "    if mask is not None:\n",
    "        scores = scores.masked_fill(mask == 0, float('-inf'))\n",
    "\n",
    "    # Softmax to normalize scores, producing attention weights\n",
    "    attention_weights = F.softmax(scores, dim=-1)\n",
    "    \n",
    "    # Compute the final output as weighted values\n",
    "    output = torch.matmul(attention_weights, V)\n",
    "    return output, attention_weights\n",
    "\n",
    "\n",
    "class SelfAttention(nn.Module):\n",
    "    def __init__(self, embed_size):\n",
    "        super().__init__()\n",
    "        self.embed_size = embed_size\n",
    "        # Define linear transformations for Q, K, V\n",
    "        self.query = nn.Linear(embed_size, embed_size)\n",
    "        self.key = nn.Linear(embed_size, embed_size)\n",
    "        self.value = nn.Linear(embed_size, embed_size)\n",
    "\n",
    "    def forward(self, q, k, v, mask=None):\n",
    "        # Generate Q, K, V matrices\n",
    "        Q = self.query(q)\n",
    "        K = self.key(k)\n",
    "        V = self.value(v)\n",
    "        \n",
    "        # Calculate attention using our scaled dot-product function\n",
    "        out, _ = scaled_dot_product_attention(Q, K, V)\n",
    "        return out"
   ]
  },
  {
   "cell_type": "code",
   "execution_count": 24,
   "metadata": {},
   "outputs": [],
   "source": [
    "class SentimentClassifierWithMultiAttention(nn.Module):\n",
    "    def __init__(self, base_model_name, num_labels=3, num_heads=3):\n",
    "        super().__init__()\n",
    "        \n",
    "        self.bert = AutoModel.from_pretrained(base_model_name)\n",
    "\n",
    "        \"\"\"self.attention_positive = SelfAttention(EMBED_DIM)\n",
    "        self.attention_negative = SelfAttention(EMBED_DIM)\n",
    "        self.attention_neutral = SelfAttention(EMBED_DIM)\"\"\"\n",
    "\n",
    "        self.attention_positive = nn.MultiheadAttention(embed_dim=EMBED_DIM, num_heads=num_heads, batch_first=True)\n",
    "        self.attention_negative = nn.MultiheadAttention(embed_dim=EMBED_DIM, num_heads=num_heads, batch_first=True)\n",
    "        self.attention_neutral = nn.MultiheadAttention(embed_dim=EMBED_DIM, num_heads=num_heads, batch_first=True)\n",
    "\n",
    "\n",
    "        \"\"\"self.linear_intermediate = nn.Linear(EMBED_DIM * 4, EMBED_DIM)\n",
    "        self.activation = ACTIVATION\n",
    "        self.dropout = nn.Dropout(DROPOUT)\n",
    "        self.classifier = nn.Linear(EMBED_DIM, num_labels)\"\"\"\n",
    "\n",
    "        self.feedforward = nn.Sequential(\n",
    "            nn.Linear(EMBED_DIM * 4, EMBED_DIM),\n",
    "            ACTIVATION,\n",
    "            nn.Dropout(DROPOUT),\n",
    "            nn.Linear(EMBED_DIM, EMBED_DIM // 2),\n",
    "            ACTIVATION,\n",
    "            nn.Dropout(DROPOUT),\n",
    "            nn.Linear(EMBED_DIM // 2, EMBED_DIM // 4),\n",
    "            ACTIVATION,\n",
    "            nn.Dropout(DROPOUT)\n",
    "        )\n",
    "        self.classifier = nn.Linear(EMBED_DIM // 4, num_labels)\n",
    "\n",
    "    def forward(self, input_ids, attention_mask, labels=None, pos_tokens=None, neu_tokens=None, neg_tokens=None, pos_attention=None, neu_attention = None, neg_attention = None):\n",
    "        \n",
    "        outputs = self.bert(input_ids, attention_mask=attention_mask)\n",
    "        cls_embedding = outputs.last_hidden_state[:, 0, :]  # Token CLS\n",
    "        cls_embedding_expanded = cls_embedding.unsqueeze(1)\n",
    "\n",
    "        pos_outputs_0 = self.bert(pos_tokens[:,0,:], attention_mask=pos_attention[:,0,:])\n",
    "        pos_cls_embedding_0 = pos_outputs_0.last_hidden_state[:, 0, :]\n",
    "        pos_cls_embedding_0 = pos_cls_embedding_0.unsqueeze(1)  \n",
    "\n",
    "        pos_cls_embedding = pos_cls_embedding_0\n",
    "\n",
    "        neu_outputs_0 = self.bert(neu_tokens[:,0,:], attention_mask=neu_attention[:,0,:])\n",
    "        neu_cls_embedding_0 = neu_outputs_0.last_hidden_state[:, 0, :]\n",
    "        neu_cls_embedding_0 = neu_cls_embedding_0.unsqueeze(1)  \n",
    "\n",
    "        neu_cls_embedding = neu_cls_embedding_0\n",
    "\n",
    "        neg_outputs_0 = self.bert(neg_tokens[:,0,:], attention_mask=neg_attention[:,0,:])\n",
    "        neg_cls_embedding_0 = neg_outputs_0.last_hidden_state[:, 0, :]\n",
    "        neg_cls_embedding_0 = neg_cls_embedding_0.unsqueeze(1)  \n",
    "\n",
    "        neg_cls_embedding = neg_cls_embedding_0\n",
    "\n",
    "        cls_embedding_expanded = cls_embedding_expanded.float()\n",
    "        pos_cls_embedding = pos_cls_embedding.float()\n",
    "        neg_cls_embedding = neg_cls_embedding.float()\n",
    "        neu_cls_embedding = neu_cls_embedding.float()\n",
    "\n",
    "        \n",
    "        \"\"\"\n",
    "        Cada salida (attn_pos, attn_neg, attn_neut) representa una versión contextualizada del cls_embedding \n",
    "        influenciada por los mensajes de su respectiva clase. Es decir, el embedding [CLS] de entrada ha sido \n",
    "        modificado en función de lo que \"aprendió\" al atender a los mensajes positivos, negativos o neutros.\n",
    "        \n",
    "        \"\"\"\n",
    "\n",
    "        \"\"\"attn_pos = self.attention_positive(cls_embedding_expanded, pos_cls_embedding, cls_embedding_expanded)\n",
    "        attn_neg = self.attention_negative(cls_embedding_expanded, neg_cls_embedding, cls_embedding_expanded)\n",
    "        attn_neut = self.attention_neutral(cls_embedding_expanded, neu_cls_embedding, cls_embedding_expanded)\"\"\"\n",
    "\n",
    "        attn_pos, _ = self.attention_positive(cls_embedding_expanded, pos_cls_embedding, cls_embedding_expanded)\n",
    "        attn_neg, _ = self.attention_negative(cls_embedding_expanded, neg_cls_embedding, cls_embedding_expanded)\n",
    "        attn_neut, _ = self.attention_neutral(cls_embedding_expanded, neu_cls_embedding, cls_embedding_expanded)\n",
    "\n",
    "\n",
    "\n",
    "        \"\"\"\n",
    "        En este punto hemos sacado un nuevo embedding aplicando la capa de atencion del embedding entrante con los dos embeddings de cada clase siendo:\n",
    "        Q = embedding entrante\n",
    "        K = clase_emb\n",
    "        V = embedding entrante\n",
    "\n",
    "        Porque si V = clase_emb entonces:\n",
    "        Si pasas clase_emb como V, entonces el mecanismo de atención devolverá una combinación ponderada de los embeddings de la clase POSITIVA, \n",
    "        determinada por la similitud entre cls_embedding_expanded (Q) y clase_emb (K).\n",
    "        \"\"\"\n",
    "\n",
    "        combined_embedding = torch.cat([\n",
    "            cls_embedding,\n",
    "            attn_pos.squeeze(1),\n",
    "            attn_neg.squeeze(1),\n",
    "            attn_neut.squeeze(1)\n",
    "        ], dim=-1)\n",
    "        \n",
    "\n",
    "        #logits = self.classifier(self.dropout(self.activation(self.linear_intermediate(combined_embedding))))\n",
    "        logits = self.classifier(self.feedforward(combined_embedding))\n",
    "        return logits\n",
    "\n",
    "\n",
    "\n",
    "model = SentimentClassifierWithMultiAttention(MODEL_NAME, num_labels=3)\n"
   ]
  },
  {
   "cell_type": "markdown",
   "metadata": {},
   "source": [
    "### Congelamos todas las capas menos la última capa de clasificación"
   ]
  },
  {
   "cell_type": "code",
   "execution_count": 15,
   "metadata": {},
   "outputs": [],
   "source": [
    "# for param in list(model.bert.parameters()):\n",
    "#    param.requires_grad = False"
   ]
  },
  {
   "cell_type": "code",
   "execution_count": 16,
   "metadata": {},
   "outputs": [
    {
     "data": {
      "text/plain": [
       "SentimentClassifierWithMultiAttention(\n",
       "  (bert): RobertaModel(\n",
       "    (embeddings): RobertaEmbeddings(\n",
       "      (word_embeddings): Embedding(50265, 768, padding_idx=1)\n",
       "      (position_embeddings): Embedding(514, 768, padding_idx=1)\n",
       "      (token_type_embeddings): Embedding(1, 768)\n",
       "      (LayerNorm): LayerNorm((768,), eps=1e-05, elementwise_affine=True)\n",
       "      (dropout): Dropout(p=0.1, inplace=False)\n",
       "    )\n",
       "    (encoder): RobertaEncoder(\n",
       "      (layer): ModuleList(\n",
       "        (0-11): 12 x RobertaLayer(\n",
       "          (attention): RobertaAttention(\n",
       "            (self): RobertaSdpaSelfAttention(\n",
       "              (query): Linear(in_features=768, out_features=768, bias=True)\n",
       "              (key): Linear(in_features=768, out_features=768, bias=True)\n",
       "              (value): Linear(in_features=768, out_features=768, bias=True)\n",
       "              (dropout): Dropout(p=0.1, inplace=False)\n",
       "            )\n",
       "            (output): RobertaSelfOutput(\n",
       "              (dense): Linear(in_features=768, out_features=768, bias=True)\n",
       "              (LayerNorm): LayerNorm((768,), eps=1e-05, elementwise_affine=True)\n",
       "              (dropout): Dropout(p=0.1, inplace=False)\n",
       "            )\n",
       "          )\n",
       "          (intermediate): RobertaIntermediate(\n",
       "            (dense): Linear(in_features=768, out_features=3072, bias=True)\n",
       "            (intermediate_act_fn): GELUActivation()\n",
       "          )\n",
       "          (output): RobertaOutput(\n",
       "            (dense): Linear(in_features=3072, out_features=768, bias=True)\n",
       "            (LayerNorm): LayerNorm((768,), eps=1e-05, elementwise_affine=True)\n",
       "            (dropout): Dropout(p=0.1, inplace=False)\n",
       "          )\n",
       "        )\n",
       "      )\n",
       "    )\n",
       "    (pooler): RobertaPooler(\n",
       "      (dense): Linear(in_features=768, out_features=768, bias=True)\n",
       "      (activation): Tanh()\n",
       "    )\n",
       "  )\n",
       "  (attention_positive): MultiheadAttention(\n",
       "    (out_proj): NonDynamicallyQuantizableLinear(in_features=768, out_features=768, bias=True)\n",
       "  )\n",
       "  (attention_negative): MultiheadAttention(\n",
       "    (out_proj): NonDynamicallyQuantizableLinear(in_features=768, out_features=768, bias=True)\n",
       "  )\n",
       "  (attention_neutral): MultiheadAttention(\n",
       "    (out_proj): NonDynamicallyQuantizableLinear(in_features=768, out_features=768, bias=True)\n",
       "  )\n",
       "  (feedforward): Sequential(\n",
       "    (0): Linear(in_features=3072, out_features=768, bias=True)\n",
       "    (1): GELU(approximate='none')\n",
       "    (2): Dropout(p=0.2, inplace=False)\n",
       "    (3): Linear(in_features=768, out_features=384, bias=True)\n",
       "    (4): GELU(approximate='none')\n",
       "    (5): Dropout(p=0.2, inplace=False)\n",
       "    (6): Linear(in_features=384, out_features=192, bias=True)\n",
       "    (7): GELU(approximate='none')\n",
       "    (8): Dropout(p=0.2, inplace=False)\n",
       "  )\n",
       "  (classifier): Linear(in_features=192, out_features=3, bias=True)\n",
       ")"
      ]
     },
     "execution_count": 16,
     "metadata": {},
     "output_type": "execute_result"
    }
   ],
   "source": [
    "model.to(device)"
   ]
  },
  {
   "cell_type": "code",
   "execution_count": 26,
   "metadata": {},
   "outputs": [],
   "source": [
    "data_collator = DataCollatorWithPadding(tokenizer=tokenizer)\n",
    "train_dataloader = DataLoader(train_dataset, batch_size=BATCH_SIZE, shuffle=True, collate_fn=data_collator)\n",
    "val_dataloader = DataLoader(val_dataset, batch_size=BATCH_SIZE, shuffle=False, collate_fn=data_collator)\n",
    "test_dataloader = DataLoader(test_dataset, batch_size=BATCH_SIZE, shuffle=False, collate_fn=data_collator)\n",
    "\n",
    "task_1_dataloader = DataLoader(task_1_dataset, batch_size=BATCH_SIZE, shuffle=False, collate_fn=data_collator)\n",
    "task_2_dataloader = DataLoader(task_2_dataset, batch_size=BATCH_SIZE, shuffle=False, collate_fn=data_collator)"
   ]
  },
  {
   "cell_type": "code",
   "execution_count": 27,
   "metadata": {},
   "outputs": [
    {
     "data": {
      "text/plain": [
       "{'input_ids': torch.Size([16, 256]),\n",
       " 'attention_mask': torch.Size([16, 256]),\n",
       " 'labels': torch.Size([16]),\n",
       " 'pos_tokens': torch.Size([16, 1, 256]),\n",
       " 'neu_tokens': torch.Size([16, 1, 256]),\n",
       " 'neg_tokens': torch.Size([16, 1, 256]),\n",
       " 'pos_attention': torch.Size([16, 1, 256]),\n",
       " 'neu_attention': torch.Size([16, 1, 256]),\n",
       " 'neg_attention': torch.Size([16, 1, 256])}"
      ]
     },
     "execution_count": 27,
     "metadata": {},
     "output_type": "execute_result"
    }
   ],
   "source": [
    "for batch in task_1_dataloader:\n",
    "    break\n",
    "{k: v.shape for k, v in batch.items()}"
   ]
  },
  {
   "cell_type": "markdown",
   "metadata": {},
   "source": [
    "### Fine-Tuning Context Awareness Model"
   ]
  },
  {
   "cell_type": "code",
   "execution_count": 28,
   "metadata": {},
   "outputs": [],
   "source": [
    "from torch.optim import AdamW"
   ]
  },
  {
   "cell_type": "code",
   "execution_count": 20,
   "metadata": {},
   "outputs": [
    {
     "name": "stdout",
     "output_type": "stream",
     "text": [
      "3610\n"
     ]
    }
   ],
   "source": [
    "models_path = \"../checkpoints/\"\n",
    "\n",
    "optimizer = AdamW(model.parameters(), lr=LR, weight_decay=WD) #, weight_decay=WD\n",
    "\n",
    "num_epochs = EPOCHS\n",
    "num_training_steps = num_epochs * len(train_dataloader)\n",
    "scheduler = MultiStepLR(optimizer, milestones=[8], gamma=0.1)\n",
    "\n",
    "\n",
    "print(num_training_steps)"
   ]
  },
  {
   "cell_type": "code",
   "execution_count": 21,
   "metadata": {},
   "outputs": [
    {
     "name": "stderr",
     "output_type": "stream",
     "text": [
      " 10%|█         | 361/3610 [33:38<4:01:30,  4.46s/it]"
     ]
    },
    {
     "name": "stdout",
     "output_type": "stream",
     "text": [
      "Epoch 1/10         Train Loss: 1.0331     Val Loss: 0.9585     Macro F1: 0.4751\n"
     ]
    },
    {
     "name": "stderr",
     "output_type": "stream",
     "text": [
      " 20%|██        | 722/3610 [1:16:05<3:41:49,  4.61s/it] "
     ]
    },
    {
     "name": "stdout",
     "output_type": "stream",
     "text": [
      "Epoch 2/10         Train Loss: 0.9355     Val Loss: 0.9616     Macro F1: 0.4432\n"
     ]
    },
    {
     "name": "stderr",
     "output_type": "stream",
     "text": [
      " 30%|███       | 1083/3610 [1:58:41<3:12:40,  4.57s/it]  "
     ]
    },
    {
     "name": "stdout",
     "output_type": "stream",
     "text": [
      "Epoch 3/10         Train Loss: 0.8684     Val Loss: 0.9892     Macro F1: 0.4949\n"
     ]
    },
    {
     "name": "stderr",
     "output_type": "stream",
     "text": [
      " 40%|████      | 1444/3610 [2:41:15<2:45:09,  4.58s/it]   "
     ]
    },
    {
     "name": "stdout",
     "output_type": "stream",
     "text": [
      "Epoch 4/10         Train Loss: 0.7990     Val Loss: 0.9171     Macro F1: 0.5543\n"
     ]
    },
    {
     "name": "stderr",
     "output_type": "stream",
     "text": [
      " 50%|█████     | 1805/3610 [3:23:50<2:17:27,  4.57s/it]  "
     ]
    },
    {
     "name": "stdout",
     "output_type": "stream",
     "text": [
      "Epoch 5/10         Train Loss: 0.7316     Val Loss: 1.0224     Macro F1: 0.5490\n"
     ]
    },
    {
     "name": "stderr",
     "output_type": "stream",
     "text": [
      " 60%|██████    | 2166/3610 [4:06:24<1:49:58,  4.57s/it]  "
     ]
    },
    {
     "name": "stdout",
     "output_type": "stream",
     "text": [
      "Epoch 6/10         Train Loss: 0.7001     Val Loss: 0.9453     Macro F1: 0.5272\n"
     ]
    },
    {
     "name": "stderr",
     "output_type": "stream",
     "text": [
      " 70%|███████   | 2527/3610 [4:48:58<1:22:16,  4.56s/it]  "
     ]
    },
    {
     "name": "stdout",
     "output_type": "stream",
     "text": [
      "Epoch 7/10         Train Loss: 0.6250     Val Loss: 1.1359     Macro F1: 0.5415\n"
     ]
    },
    {
     "name": "stderr",
     "output_type": "stream",
     "text": [
      " 80%|████████  | 2888/3610 [5:31:31<54:58,  4.57s/it]    "
     ]
    },
    {
     "name": "stdout",
     "output_type": "stream",
     "text": [
      "Epoch 8/10         Train Loss: 0.5786     Val Loss: 1.0250     Macro F1: 0.5057\n"
     ]
    },
    {
     "name": "stderr",
     "output_type": "stream",
     "text": [
      " 90%|█████████ | 3249/3610 [6:14:05<27:29,  4.57s/it]    "
     ]
    },
    {
     "name": "stdout",
     "output_type": "stream",
     "text": [
      "Epoch 9/10         Train Loss: 0.5473     Val Loss: 1.2021     Macro F1: 0.5310\n"
     ]
    },
    {
     "name": "stderr",
     "output_type": "stream",
     "text": [
      "100%|██████████| 3610/3610 [6:56:39<00:00,  4.62s/it]    "
     ]
    },
    {
     "name": "stdout",
     "output_type": "stream",
     "text": [
      "Epoch 10/10         Train Loss: 0.5004     Val Loss: 1.3653     Macro F1: 0.5509\n"
     ]
    }
   ],
   "source": [
    "from tqdm.auto import tqdm\n",
    "\n",
    "train_losses = []\n",
    "val_losses = []\n",
    "lfunct = nn.CrossEntropyLoss(weight=class_weights)\n",
    "\n",
    "progress_bar = tqdm(range(num_training_steps))\n",
    "\n",
    "for epoch in range(num_epochs):\n",
    "    model.train()\n",
    "    epoch_train_loss = 0 \n",
    "    num_train_batches = 0\n",
    "\n",
    "    for batch in train_dataloader:\n",
    "        batch = {k: v.to(device) for k, v in batch.items()}\n",
    "        \n",
    "        outputs = model(**batch)  # Logits\n",
    "        y_true = batch[\"labels\"]\n",
    "        \n",
    "        loss = lfunct(outputs, y_true)\n",
    "\n",
    "        loss.backward()\n",
    "\n",
    "        optimizer.step()\n",
    "        #scheduler.step()\n",
    "\n",
    "\n",
    "        optimizer.zero_grad()\n",
    "        \n",
    "        # Accumulate loss\n",
    "        epoch_train_loss += loss.item()\n",
    "        num_train_batches += 1\n",
    "\n",
    "        progress_bar.update(1)\n",
    "\n",
    "    # Compute average training loss for the epoch\n",
    "    avg_train_loss = epoch_train_loss / num_train_batches\n",
    "    train_losses.append(avg_train_loss)\n",
    "    \n",
    "    # Run validation\n",
    "    model.eval()\n",
    "    epoch_val_loss = 0\n",
    "    num_val_batches = 0\n",
    "\n",
    "    y_preds_val = []\n",
    "    y_trues_val = []\n",
    "\n",
    "    with torch.no_grad():\n",
    "        for batch in val_dataloader:\n",
    "            batch = {k: v.to(device) for k, v in batch.items()}\n",
    "            outputs = model(**batch)\n",
    "            y_true = batch[\"labels\"]\n",
    "\n",
    "            loss = lfunct(outputs, y_true)\n",
    "            epoch_val_loss += loss.item()\n",
    "            num_val_batches += 1\n",
    "\n",
    "            y_preds_val.extend(torch.argmax(outputs, dim=-1).cpu().tolist())\n",
    "            y_trues_val.extend(batch[\"labels\"].cpu().tolist())\n",
    "\n",
    "    y_preds_val = np.array(y_preds_val)\n",
    "    y_trues_val = np.array(y_trues_val)\n",
    "    f1_val = f1_score(y_trues_val, y_preds_val, average='macro')\n",
    "\n",
    "    avg_val_loss = epoch_val_loss / num_val_batches\n",
    "    val_losses.append(avg_val_loss)\n",
    "    print(f\"Epoch {epoch + 1}/{num_epochs:<10} Train Loss: {avg_train_loss:<10.4f} Val Loss: {avg_val_loss:<10.4f} Macro F1: {f1_val:.4f}\")\n",
    "\n",
    "    torch.save(model.state_dict(), f\"../checkpoints/{epoch + 1}_context.pth\")\n",
    "    #torch.save(model, f\"../checkpoints/{epoch + 1}_full_context_model.pth\")"
   ]
  },
  {
   "cell_type": "code",
   "execution_count": 22,
   "metadata": {},
   "outputs": [
    {
     "data": {
      "image/png": "[encoded data removed]",
      "text/plain": [
       "<Figure size 800x400 with 1 Axes>"
      ]
     },
     "metadata": {},
     "output_type": "display_data"
    }
   ],
   "source": [
    "import matplotlib.pyplot as plt\n",
    "# Plot Training vs Validation Loss\n",
    "plt.figure(figsize=(8, 4))\n",
    "plt.plot(train_losses, label=\"Training Loss\", color=\"blue\", alpha=0.7)\n",
    "plt.plot(val_losses, label=\"Validation Loss\", color=\"red\", alpha=0.7)\n",
    "plt.xlabel(\"Training Steps\")\n",
    "plt.ylabel(\"Loss\")\n",
    "plt.title(\"Training vs Validation Loss\")\n",
    "plt.legend()\n",
    "plt.show()"
   ]
  },
  {
   "cell_type": "code",
   "execution_count": 23,
   "metadata": {},
   "outputs": [],
   "source": [
    "# torch.save(model.state_dict(), \"../checkpoints/context.pth\")"
   ]
  },
  {
   "cell_type": "code",
   "execution_count": 24,
   "metadata": {},
   "outputs": [],
   "source": [
    "# torch.save(model, \"../checkpoints/full_context_model.pth\")"
   ]
  },
  {
   "cell_type": "code",
   "execution_count": 29,
   "metadata": {},
   "outputs": [
    {
     "data": {
      "text/plain": [
       "SentimentClassifierWithMultiAttention(\n",
       "  (bert): RobertaModel(\n",
       "    (embeddings): RobertaEmbeddings(\n",
       "      (word_embeddings): Embedding(50265, 768, padding_idx=1)\n",
       "      (position_embeddings): Embedding(514, 768, padding_idx=1)\n",
       "      (token_type_embeddings): Embedding(1, 768)\n",
       "      (LayerNorm): LayerNorm((768,), eps=1e-05, elementwise_affine=True)\n",
       "      (dropout): Dropout(p=0.1, inplace=False)\n",
       "    )\n",
       "    (encoder): RobertaEncoder(\n",
       "      (layer): ModuleList(\n",
       "        (0-11): 12 x RobertaLayer(\n",
       "          (attention): RobertaAttention(\n",
       "            (self): RobertaSdpaSelfAttention(\n",
       "              (query): Linear(in_features=768, out_features=768, bias=True)\n",
       "              (key): Linear(in_features=768, out_features=768, bias=True)\n",
       "              (value): Linear(in_features=768, out_features=768, bias=True)\n",
       "              (dropout): Dropout(p=0.1, inplace=False)\n",
       "            )\n",
       "            (output): RobertaSelfOutput(\n",
       "              (dense): Linear(in_features=768, out_features=768, bias=True)\n",
       "              (LayerNorm): LayerNorm((768,), eps=1e-05, elementwise_affine=True)\n",
       "              (dropout): Dropout(p=0.1, inplace=False)\n",
       "            )\n",
       "          )\n",
       "          (intermediate): RobertaIntermediate(\n",
       "            (dense): Linear(in_features=768, out_features=3072, bias=True)\n",
       "            (intermediate_act_fn): GELUActivation()\n",
       "          )\n",
       "          (output): RobertaOutput(\n",
       "            (dense): Linear(in_features=3072, out_features=768, bias=True)\n",
       "            (LayerNorm): LayerNorm((768,), eps=1e-05, elementwise_affine=True)\n",
       "            (dropout): Dropout(p=0.1, inplace=False)\n",
       "          )\n",
       "        )\n",
       "      )\n",
       "    )\n",
       "    (pooler): RobertaPooler(\n",
       "      (dense): Linear(in_features=768, out_features=768, bias=True)\n",
       "      (activation): Tanh()\n",
       "    )\n",
       "  )\n",
       "  (attention_positive): MultiheadAttention(\n",
       "    (out_proj): NonDynamicallyQuantizableLinear(in_features=768, out_features=768, bias=True)\n",
       "  )\n",
       "  (attention_negative): MultiheadAttention(\n",
       "    (out_proj): NonDynamicallyQuantizableLinear(in_features=768, out_features=768, bias=True)\n",
       "  )\n",
       "  (attention_neutral): MultiheadAttention(\n",
       "    (out_proj): NonDynamicallyQuantizableLinear(in_features=768, out_features=768, bias=True)\n",
       "  )\n",
       "  (feedforward): Sequential(\n",
       "    (0): Linear(in_features=3072, out_features=768, bias=True)\n",
       "    (1): GELU(approximate='none')\n",
       "    (2): Dropout(p=0.2, inplace=False)\n",
       "    (3): Linear(in_features=768, out_features=384, bias=True)\n",
       "    (4): GELU(approximate='none')\n",
       "    (5): Dropout(p=0.2, inplace=False)\n",
       "    (6): Linear(in_features=384, out_features=192, bias=True)\n",
       "    (7): GELU(approximate='none')\n",
       "    (8): Dropout(p=0.2, inplace=False)\n",
       "  )\n",
       "  (classifier): Linear(in_features=192, out_features=3, bias=True)\n",
       ")"
      ]
     },
     "execution_count": 29,
     "metadata": {},
     "output_type": "execute_result"
    }
   ],
   "source": [
    "state_dict = torch.load(\"../checkpoints/4_context.pth\", map_location=torch.device(device)) \n",
    "model = SentimentClassifierWithMultiAttention(MODEL_NAME, num_labels=3)\n",
    "model.load_state_dict(state_dict)\n",
    "model.to(device)"
   ]
  },
  {
   "cell_type": "markdown",
   "metadata": {},
   "source": [
    "### Validation"
   ]
  },
  {
   "cell_type": "code",
   "execution_count": 38,
   "metadata": {},
   "outputs": [
    {
     "name": "stdout",
     "output_type": "stream",
     "text": [
      "(1442,) (1442,)\n",
      "              precision    recall  f1-score   support\n",
      "\n",
      "         NEG       0.56      0.59      0.57       487\n",
      "         NEU       0.70      0.67      0.68       812\n",
      "         POS       0.39      0.41      0.40       143\n",
      "\n",
      "    accuracy                           0.62      1442\n",
      "   macro avg       0.55      0.56      0.55      1442\n",
      "weighted avg       0.62      0.62      0.62      1442\n",
      "\n"
     ]
    }
   ],
   "source": [
    "model.eval()\n",
    "\n",
    "y_pred_val = []\n",
    "y_true_val = []\n",
    "with torch.no_grad(): \n",
    "    for batch in val_dataloader:\n",
    "        batch = {k: v.to(device) for k, v in batch.items()}\n",
    "        outputs = model(**batch)\n",
    "        y_pred_val.extend(torch.argmax(outputs, dim=-1).tolist())\n",
    "        y_true_val.extend(batch[\"labels\"].tolist())\n",
    "\n",
    "y_pred_val = np.array(y_pred_val)\n",
    "y_true_val = np.array(y_true_val)\n",
    "print(y_pred_val.shape, y_true_val.shape)\n",
    "print(classification_report(y_true_val, y_pred_val, target_names=mapping.keys()))"
   ]
  },
  {
   "cell_type": "markdown",
   "metadata": {},
   "source": [
    "### Test"
   ]
  },
  {
   "cell_type": "code",
   "execution_count": 39,
   "metadata": {},
   "outputs": [
    {
     "name": "stdout",
     "output_type": "stream",
     "text": [
      "(1442,) (1442,)\n",
      "              precision    recall  f1-score   support\n",
      "\n",
      "         NEG       0.56      0.59      0.57       487\n",
      "         NEU       0.70      0.67      0.68       812\n",
      "         POS       0.39      0.41      0.40       143\n",
      "\n",
      "    accuracy                           0.62      1442\n",
      "   macro avg       0.55      0.56      0.55      1442\n",
      "weighted avg       0.62      0.62      0.62      1442\n",
      "\n"
     ]
    }
   ],
   "source": [
    "model.eval()\n",
    "\n",
    "y_pred_test = []\n",
    "y_true_test = []\n",
    "with torch.no_grad(): \n",
    "    for batch in test_dataloader:\n",
    "        batch = {k: v.to(device) for k, v in batch.items()}\n",
    "        outputs = model(**batch)\n",
    "        y_pred_test.extend(torch.argmax(outputs, dim=-1).tolist())\n",
    "        y_true_test.extend(batch[\"labels\"].tolist())\n",
    "\n",
    "y_pred_test = np.array(y_pred_test)\n",
    "y_true_test = np.array(y_true_test)\n",
    "print(y_pred_test.shape, y_true_test.shape)\n",
    "print(classification_report(y_true_test, y_pred_test, target_names=mapping.keys()))"
   ]
  },
  {
   "cell_type": "markdown",
   "metadata": {},
   "source": [
    "### TASK 1"
   ]
  },
  {
   "cell_type": "code",
   "execution_count": 30,
   "metadata": {},
   "outputs": [],
   "source": [
    "model.eval()\n",
    "\n",
    "y_pred_task_1 = []\n",
    "with torch.no_grad(): \n",
    "    for batch in task_1_dataloader:\n",
    "        batch = {k: v.to(device) for k, v in batch.items()}\n",
    "        outputs = model(**batch)\n",
    "        y_pred_task_1.extend(torch.argmax(outputs, dim=-1).tolist())\n",
    "\n",
    "y_pred_task_1 = np.array(y_pred_task_1)\n"
   ]
  },
  {
   "cell_type": "code",
   "execution_count": 69,
   "metadata": {},
   "outputs": [],
   "source": [
    "aux = load_dataset(\"../data/translated_dataset_task1.csv\")"
   ]
  },
  {
   "cell_type": "code",
   "execution_count": 70,
   "metadata": {},
   "outputs": [],
   "source": [
    "ids = aux[\"id\"]\n",
    "\n",
    "preds_task_1 = pd.DataFrame(columns=[\"id\", \"label\"])\n",
    "preds_task_1[\"id\"] = ids\n",
    "preds_task_1[\"label\"]= y_pred_task_1\n",
    "preds_task_1[\"label\"] = preds_task_1[\"label\"].apply(lambda x: reverse_mapping[x])\n",
    "preds_task_1.to_csv(\"../data/task1_predictions.csv\")"
   ]
  },
  {
   "cell_type": "markdown",
   "metadata": {},
   "source": [
    "### TASK 2"
   ]
  },
  {
   "cell_type": "code",
   "execution_count": 37,
   "metadata": {},
   "outputs": [],
   "source": [
    "model.eval()\n",
    "\n",
    "y_pred_task_2 = []\n",
    "with torch.no_grad(): \n",
    "    for batch in task_2_dataloader:\n",
    "        batch = {k: v.to(device) for k, v in batch.items()}\n",
    "        outputs = model(**batch)\n",
    "        y_pred_task_2.extend(torch.argmax(outputs, dim=-1).tolist())\n",
    "\n",
    "y_pred_task_2 = np.array(y_pred_task_2)"
   ]
  },
  {
   "cell_type": "code",
   "execution_count": 51,
   "metadata": {},
   "outputs": [],
   "source": [
    "aux = load_dataset(\"../data/translated_dataset_task2.csv\")"
   ]
  },
  {
   "cell_type": "code",
   "execution_count": 64,
   "metadata": {},
   "outputs": [],
   "source": [
    "ids = aux[\"id\"]\n",
    "\n",
    "preds_task_2 = pd.DataFrame(columns=[\"id\", \"label\"])"
   ]
  },
  {
   "cell_type": "code",
   "execution_count": 67,
   "metadata": {},
   "outputs": [],
   "source": [
    "preds_task_2[\"id\"] = ids\n",
    "preds_task_2[\"label\"]= y_pred_task_2\n",
    "preds_task_2[\"label\"] = preds_task_2[\"label\"].apply(lambda x: reverse_mapping[x])\n"
   ]
  },
  {
   "cell_type": "code",
   "execution_count": 68,
   "metadata": {},
   "outputs": [],
   "source": [
    "preds_task_2.to_csv(\"../data/task2_predictions.csv\")"
   ]
  },
  {
   "cell_type": "code",
   "execution_count": 39,
   "metadata": {},
   "outputs": [],
   "source": [
    "def predict_sample(model, tokenizer, sample_text, label, embedding_str):\n",
    "    \"\"\"\n",
    "    Predict the sentiment of a sample text\n",
    "    \"\"\"\n",
    "\n",
    "    pos_texts, neu_texts, neg_texts = compute_embeddings_distance(embedding_str, 1, train_df)\n",
    "    encoding = tokenizer(sample_text, padding=\"max_length\", truncation=True, max_length=TOKEN_DIM, return_tensors=\"pt\")\n",
    "\n",
    "    # Tokenizar los textos más similares\n",
    "    pos_tokens = tokenizer(pos_texts, padding=\"max_length\", truncation=True, max_length=TOKEN_DIM, return_tensors=\"pt\")\n",
    "    neu_tokens = tokenizer(neu_texts, padding=\"max_length\", truncation=True, max_length=TOKEN_DIM, return_tensors=\"pt\")\n",
    "    neg_tokens = tokenizer(neg_texts, padding=\"max_length\", truncation=True, max_length=TOKEN_DIM, return_tensors=\"pt\")\n",
    "    \n",
    "\n",
    "    inputs = {\n",
    "        \"input_ids\": encoding[\"input_ids\"],\n",
    "        \"attention_mask\": encoding[\"attention_mask\"],\n",
    "        \"labels\": torch.tensor(label, dtype=torch.long),\n",
    "        \"pos_tokens\": pos_tokens[\"input_ids\"].unsqueeze(1),\n",
    "        \"neu_tokens\": neu_tokens[\"input_ids\"].unsqueeze(1),\n",
    "        \"neg_tokens\": neg_tokens[\"input_ids\"].unsqueeze(1),\n",
    "        \"pos_attention\": pos_tokens[\"attention_mask\"].unsqueeze(1),\n",
    "        \"neu_attention\": neu_tokens[\"attention_mask\"].unsqueeze(1),\n",
    "        \"neg_attention\": neg_tokens[\"attention_mask\"].unsqueeze(1),\n",
    "    }\n",
    "    \n",
    "    inputs = {k: v.to(device) for k, v in inputs.items()}\n",
    "    \n",
    "    with torch.no_grad():\n",
    "        outputs = model(**inputs)\n",
    "    \n",
    "    logits = outputs\n",
    "    probabilities = torch.softmax(logits, dim=-1)\n",
    "    \n",
    "    predicted_class = torch.argmax(probabilities, dim=-1).item()\n",
    "    \n",
    "    \n",
    "    return predicted_class, probabilities[0].cpu().numpy()"
   ]
  },
  {
   "cell_type": "code",
   "execution_count": null,
   "metadata": {},
   "outputs": [],
   "source": [
    "y_pred_test = []\n",
    "y_true_test = []\n",
    "\n",
    "for i in range(len(test_df)):\n",
    "    input_text = test_df[\"translation\"][i]\n",
    "    input_label = test_df[\"label\"][i]\n",
    "    input_embedding = test_df[\"embeddings_ingles\"][i]    \n",
    "    # Get paraphrased samples\n",
    "    samples = ast.literal_eval(test_df[\"paraphrase\"][i])\n",
    "    samples=list(samples)\n",
    "    paraphrase_text1 = samples[0]\n",
    "    paraphrase_text2 = samples[1]\n",
    "    input_emb_p1 = test_df[\"embedding_paraphrase1\"][i]\n",
    "    input_emb_p2 = test_df[\"embedding_paraphrase2\"][i]\n",
    "\n",
    "    real_label = test_df['label'][i]\n",
    "\n",
    "    predicted_label, probabilities = predict_sample(model, tokenizer, input_text, input_label, input_embedding)\n",
    "    predicted_label1, probabilities1 = predict_sample(model, tokenizer, paraphrase_text1, input_label, input_emb_p1)\n",
    "    predicted_label2, probabilities2 = predict_sample(model, tokenizer, paraphrase_text2, input_label, input_emb_p2)\n",
    "\n",
    "    if predicted_label != predicted_label1 and predicted_label != predicted_label2 and predicted_label1 != predicted_label2:\n",
    "        labels = [predicted_label, predicted_label1, predicted_label2]\n",
    "        label1_score = max(probabilities)\n",
    "        label2_score = max(probabilities1)\n",
    "        label3_score = max(probabilities2)\n",
    "        scores = {label1_score: predicted_label, label2_score: predicted_label1, label3_score: predicted_label2}\n",
    "        final_label = max(scores.keys())\n",
    "        predicted_label = scores[final_label]\n",
    "    else:\n",
    "        # Get the most frequent label\n",
    "        predicted_label = max(predicted_label, predicted_label1, predicted_label2, key=[predicted_label, predicted_label1, predicted_label2].count)\n",
    "        \n",
    "    y_pred_test.append(predicted_label)\n",
    "    y_true_test.append(real_label)\n",
    "\n",
    "y_pred_test = np.array(y_pred_test)\n",
    "y_true_test = np.array(y_true_test)"
   ]
  },
  {
   "cell_type": "code",
   "execution_count": 42,
   "metadata": {},
   "outputs": [
    {
     "name": "stdout",
     "output_type": "stream",
     "text": [
      "              precision    recall  f1-score   support\n",
      "\n",
      "         NEG       0.57      0.59      0.58       487\n",
      "         NEU       0.71      0.69      0.70       812\n",
      "         POS       0.41      0.41      0.41       143\n",
      "\n",
      "    accuracy                           0.63      1442\n",
      "   macro avg       0.56      0.56      0.56      1442\n",
      "weighted avg       0.63      0.63      0.63      1442\n",
      "\n"
     ]
    },
    {
     "data": {
      "text/plain": [
       "<sklearn.metrics._plot.confusion_matrix.ConfusionMatrixDisplay at 0x7d1068f5fa90>"
      ]
     },
     "execution_count": 42,
     "metadata": {},
     "output_type": "execute_result"
    },
    {
     "data": {
      "image/png": "[encoded data removed]",
      "text/plain": [
       "<Figure size 640x480 with 2 Axes>"
      ]
     },
     "metadata": {},
     "output_type": "display_data"
    }
   ],
   "source": [
    "print(classification_report(y_true_test, y_pred_test, target_names=mapping.keys()))\n",
    "# Confusion matrix\n",
    "cm = confusion_matrix(y_true_test, y_pred_test)\n",
    "disp = ConfusionMatrixDisplay(confusion_matrix=cm, display_labels=mapping.values())\n",
    "disp.plot(cmap=plt.cm.Blues)"
   ]
  },
  {
   "cell_type": "markdown",
   "metadata": {},
   "source": [
    "### TASK 1"
   ]
  },
  {
   "cell_type": "code",
   "execution_count": 74,
   "metadata": {},
   "outputs": [
    {
     "ename": "KeyError",
     "evalue": "1",
     "output_type": "error",
     "traceback": [
      "\u001b[0;31m---------------------------------------------------------------------------\u001b[0m",
      "\u001b[0;31mKeyError\u001b[0m                                  Traceback (most recent call last)",
      "Cell \u001b[0;32mIn[74], line 1\u001b[0m\n\u001b[0;32m----> 1\u001b[0m task_1[\u001b[38;5;124m\"\u001b[39m\u001b[38;5;124mlabel\u001b[39m\u001b[38;5;124m\"\u001b[39m] \u001b[38;5;241m=\u001b[39m \u001b[43mtask_1\u001b[49m\u001b[43m[\u001b[49m\u001b[38;5;124;43m\"\u001b[39;49m\u001b[38;5;124;43mlabel\u001b[39;49m\u001b[38;5;124;43m\"\u001b[39;49m\u001b[43m]\u001b[49m\u001b[38;5;241;43m.\u001b[39;49m\u001b[43mapply\u001b[49m\u001b[43m(\u001b[49m\u001b[38;5;28;43;01mlambda\u001b[39;49;00m\u001b[43m \u001b[49m\u001b[43mx\u001b[49m\u001b[43m:\u001b[49m\u001b[43m \u001b[49m\u001b[43mmapping\u001b[49m\u001b[43m[\u001b[49m\u001b[43mx\u001b[49m\u001b[43m]\u001b[49m\u001b[43m)\u001b[49m\n",
      "File \u001b[0;32m~/miniconda3/envs/nlp/lib/python3.10/site-packages/pandas/core/series.py:4924\u001b[0m, in \u001b[0;36mSeries.apply\u001b[0;34m(self, func, convert_dtype, args, by_row, **kwargs)\u001b[0m\n\u001b[1;32m   4789\u001b[0m \u001b[38;5;28;01mdef\u001b[39;00m\u001b[38;5;250m \u001b[39m\u001b[38;5;21mapply\u001b[39m(\n\u001b[1;32m   4790\u001b[0m     \u001b[38;5;28mself\u001b[39m,\n\u001b[1;32m   4791\u001b[0m     func: AggFuncType,\n\u001b[0;32m   (...)\u001b[0m\n\u001b[1;32m   4796\u001b[0m     \u001b[38;5;241m*\u001b[39m\u001b[38;5;241m*\u001b[39mkwargs,\n\u001b[1;32m   4797\u001b[0m ) \u001b[38;5;241m-\u001b[39m\u001b[38;5;241m>\u001b[39m DataFrame \u001b[38;5;241m|\u001b[39m Series:\n\u001b[1;32m   4798\u001b[0m \u001b[38;5;250m    \u001b[39m\u001b[38;5;124;03m\"\"\"\u001b[39;00m\n\u001b[1;32m   4799\u001b[0m \u001b[38;5;124;03m    Invoke function on values of Series.\u001b[39;00m\n\u001b[1;32m   4800\u001b[0m \n\u001b[0;32m   (...)\u001b[0m\n\u001b[1;32m   4915\u001b[0m \u001b[38;5;124;03m    dtype: float64\u001b[39;00m\n\u001b[1;32m   4916\u001b[0m \u001b[38;5;124;03m    \"\"\"\u001b[39;00m\n\u001b[1;32m   4917\u001b[0m     \u001b[38;5;28;01mreturn\u001b[39;00m \u001b[43mSeriesApply\u001b[49m\u001b[43m(\u001b[49m\n\u001b[1;32m   4918\u001b[0m \u001b[43m        \u001b[49m\u001b[38;5;28;43mself\u001b[39;49m\u001b[43m,\u001b[49m\n\u001b[1;32m   4919\u001b[0m \u001b[43m        \u001b[49m\u001b[43mfunc\u001b[49m\u001b[43m,\u001b[49m\n\u001b[1;32m   4920\u001b[0m \u001b[43m        \u001b[49m\u001b[43mconvert_dtype\u001b[49m\u001b[38;5;241;43m=\u001b[39;49m\u001b[43mconvert_dtype\u001b[49m\u001b[43m,\u001b[49m\n\u001b[1;32m   4921\u001b[0m \u001b[43m        \u001b[49m\u001b[43mby_row\u001b[49m\u001b[38;5;241;43m=\u001b[39;49m\u001b[43mby_row\u001b[49m\u001b[43m,\u001b[49m\n\u001b[1;32m   4922\u001b[0m \u001b[43m        \u001b[49m\u001b[43margs\u001b[49m\u001b[38;5;241;43m=\u001b[39;49m\u001b[43margs\u001b[49m\u001b[43m,\u001b[49m\n\u001b[1;32m   4923\u001b[0m \u001b[43m        \u001b[49m\u001b[43mkwargs\u001b[49m\u001b[38;5;241;43m=\u001b[39;49m\u001b[43mkwargs\u001b[49m\u001b[43m,\u001b[49m\n\u001b[0;32m-> 4924\u001b[0m \u001b[43m    \u001b[49m\u001b[43m)\u001b[49m\u001b[38;5;241;43m.\u001b[39;49m\u001b[43mapply\u001b[49m\u001b[43m(\u001b[49m\u001b[43m)\u001b[49m\n",
      "File \u001b[0;32m~/miniconda3/envs/nlp/lib/python3.10/site-packages/pandas/core/apply.py:1427\u001b[0m, in \u001b[0;36mSeriesApply.apply\u001b[0;34m(self)\u001b[0m\n\u001b[1;32m   1424\u001b[0m     \u001b[38;5;28;01mreturn\u001b[39;00m \u001b[38;5;28mself\u001b[39m\u001b[38;5;241m.\u001b[39mapply_compat()\n\u001b[1;32m   1426\u001b[0m \u001b[38;5;66;03m# self.func is Callable\u001b[39;00m\n\u001b[0;32m-> 1427\u001b[0m \u001b[38;5;28;01mreturn\u001b[39;00m \u001b[38;5;28;43mself\u001b[39;49m\u001b[38;5;241;43m.\u001b[39;49m\u001b[43mapply_standard\u001b[49m\u001b[43m(\u001b[49m\u001b[43m)\u001b[49m\n",
      "File \u001b[0;32m~/miniconda3/envs/nlp/lib/python3.10/site-packages/pandas/core/apply.py:1507\u001b[0m, in \u001b[0;36mSeriesApply.apply_standard\u001b[0;34m(self)\u001b[0m\n\u001b[1;32m   1501\u001b[0m \u001b[38;5;66;03m# row-wise access\u001b[39;00m\n\u001b[1;32m   1502\u001b[0m \u001b[38;5;66;03m# apply doesn't have a `na_action` keyword and for backward compat reasons\u001b[39;00m\n\u001b[1;32m   1503\u001b[0m \u001b[38;5;66;03m# we need to give `na_action=\"ignore\"` for categorical data.\u001b[39;00m\n\u001b[1;32m   1504\u001b[0m \u001b[38;5;66;03m# TODO: remove the `na_action=\"ignore\"` when that default has been changed in\u001b[39;00m\n\u001b[1;32m   1505\u001b[0m \u001b[38;5;66;03m#  Categorical (GH51645).\u001b[39;00m\n\u001b[1;32m   1506\u001b[0m action \u001b[38;5;241m=\u001b[39m \u001b[38;5;124m\"\u001b[39m\u001b[38;5;124mignore\u001b[39m\u001b[38;5;124m\"\u001b[39m \u001b[38;5;28;01mif\u001b[39;00m \u001b[38;5;28misinstance\u001b[39m(obj\u001b[38;5;241m.\u001b[39mdtype, CategoricalDtype) \u001b[38;5;28;01melse\u001b[39;00m \u001b[38;5;28;01mNone\u001b[39;00m\n\u001b[0;32m-> 1507\u001b[0m mapped \u001b[38;5;241m=\u001b[39m \u001b[43mobj\u001b[49m\u001b[38;5;241;43m.\u001b[39;49m\u001b[43m_map_values\u001b[49m\u001b[43m(\u001b[49m\n\u001b[1;32m   1508\u001b[0m \u001b[43m    \u001b[49m\u001b[43mmapper\u001b[49m\u001b[38;5;241;43m=\u001b[39;49m\u001b[43mcurried\u001b[49m\u001b[43m,\u001b[49m\u001b[43m \u001b[49m\u001b[43mna_action\u001b[49m\u001b[38;5;241;43m=\u001b[39;49m\u001b[43maction\u001b[49m\u001b[43m,\u001b[49m\u001b[43m \u001b[49m\u001b[43mconvert\u001b[49m\u001b[38;5;241;43m=\u001b[39;49m\u001b[38;5;28;43mself\u001b[39;49m\u001b[38;5;241;43m.\u001b[39;49m\u001b[43mconvert_dtype\u001b[49m\n\u001b[1;32m   1509\u001b[0m \u001b[43m\u001b[49m\u001b[43m)\u001b[49m\n\u001b[1;32m   1511\u001b[0m \u001b[38;5;28;01mif\u001b[39;00m \u001b[38;5;28mlen\u001b[39m(mapped) \u001b[38;5;129;01mand\u001b[39;00m \u001b[38;5;28misinstance\u001b[39m(mapped[\u001b[38;5;241m0\u001b[39m], ABCSeries):\n\u001b[1;32m   1512\u001b[0m     \u001b[38;5;66;03m# GH#43986 Need to do list(mapped) in order to get treated as nested\u001b[39;00m\n\u001b[1;32m   1513\u001b[0m     \u001b[38;5;66;03m#  See also GH#25959 regarding EA support\u001b[39;00m\n\u001b[1;32m   1514\u001b[0m     \u001b[38;5;28;01mreturn\u001b[39;00m obj\u001b[38;5;241m.\u001b[39m_constructor_expanddim(\u001b[38;5;28mlist\u001b[39m(mapped), index\u001b[38;5;241m=\u001b[39mobj\u001b[38;5;241m.\u001b[39mindex)\n",
      "File \u001b[0;32m~/miniconda3/envs/nlp/lib/python3.10/site-packages/pandas/core/base.py:921\u001b[0m, in \u001b[0;36mIndexOpsMixin._map_values\u001b[0;34m(self, mapper, na_action, convert)\u001b[0m\n\u001b[1;32m    918\u001b[0m \u001b[38;5;28;01mif\u001b[39;00m \u001b[38;5;28misinstance\u001b[39m(arr, ExtensionArray):\n\u001b[1;32m    919\u001b[0m     \u001b[38;5;28;01mreturn\u001b[39;00m arr\u001b[38;5;241m.\u001b[39mmap(mapper, na_action\u001b[38;5;241m=\u001b[39mna_action)\n\u001b[0;32m--> 921\u001b[0m \u001b[38;5;28;01mreturn\u001b[39;00m \u001b[43malgorithms\u001b[49m\u001b[38;5;241;43m.\u001b[39;49m\u001b[43mmap_array\u001b[49m\u001b[43m(\u001b[49m\u001b[43marr\u001b[49m\u001b[43m,\u001b[49m\u001b[43m \u001b[49m\u001b[43mmapper\u001b[49m\u001b[43m,\u001b[49m\u001b[43m \u001b[49m\u001b[43mna_action\u001b[49m\u001b[38;5;241;43m=\u001b[39;49m\u001b[43mna_action\u001b[49m\u001b[43m,\u001b[49m\u001b[43m \u001b[49m\u001b[43mconvert\u001b[49m\u001b[38;5;241;43m=\u001b[39;49m\u001b[43mconvert\u001b[49m\u001b[43m)\u001b[49m\n",
      "File \u001b[0;32m~/miniconda3/envs/nlp/lib/python3.10/site-packages/pandas/core/algorithms.py:1743\u001b[0m, in \u001b[0;36mmap_array\u001b[0;34m(arr, mapper, na_action, convert)\u001b[0m\n\u001b[1;32m   1741\u001b[0m values \u001b[38;5;241m=\u001b[39m arr\u001b[38;5;241m.\u001b[39mastype(\u001b[38;5;28mobject\u001b[39m, copy\u001b[38;5;241m=\u001b[39m\u001b[38;5;28;01mFalse\u001b[39;00m)\n\u001b[1;32m   1742\u001b[0m \u001b[38;5;28;01mif\u001b[39;00m na_action \u001b[38;5;129;01mis\u001b[39;00m \u001b[38;5;28;01mNone\u001b[39;00m:\n\u001b[0;32m-> 1743\u001b[0m     \u001b[38;5;28;01mreturn\u001b[39;00m \u001b[43mlib\u001b[49m\u001b[38;5;241;43m.\u001b[39;49m\u001b[43mmap_infer\u001b[49m\u001b[43m(\u001b[49m\u001b[43mvalues\u001b[49m\u001b[43m,\u001b[49m\u001b[43m \u001b[49m\u001b[43mmapper\u001b[49m\u001b[43m,\u001b[49m\u001b[43m \u001b[49m\u001b[43mconvert\u001b[49m\u001b[38;5;241;43m=\u001b[39;49m\u001b[43mconvert\u001b[49m\u001b[43m)\u001b[49m\n\u001b[1;32m   1744\u001b[0m \u001b[38;5;28;01melse\u001b[39;00m:\n\u001b[1;32m   1745\u001b[0m     \u001b[38;5;28;01mreturn\u001b[39;00m lib\u001b[38;5;241m.\u001b[39mmap_infer_mask(\n\u001b[1;32m   1746\u001b[0m         values, mapper, mask\u001b[38;5;241m=\u001b[39misna(values)\u001b[38;5;241m.\u001b[39mview(np\u001b[38;5;241m.\u001b[39muint8), convert\u001b[38;5;241m=\u001b[39mconvert\n\u001b[1;32m   1747\u001b[0m     )\n",
      "File \u001b[0;32mlib.pyx:2972\u001b[0m, in \u001b[0;36mpandas._libs.lib.map_infer\u001b[0;34m()\u001b[0m\n",
      "Cell \u001b[0;32mIn[74], line 1\u001b[0m, in \u001b[0;36m<lambda>\u001b[0;34m(x)\u001b[0m\n\u001b[0;32m----> 1\u001b[0m task_1[\u001b[38;5;124m\"\u001b[39m\u001b[38;5;124mlabel\u001b[39m\u001b[38;5;124m\"\u001b[39m] \u001b[38;5;241m=\u001b[39m task_1[\u001b[38;5;124m\"\u001b[39m\u001b[38;5;124mlabel\u001b[39m\u001b[38;5;124m\"\u001b[39m]\u001b[38;5;241m.\u001b[39mapply(\u001b[38;5;28;01mlambda\u001b[39;00m x: \u001b[43mmapping\u001b[49m\u001b[43m[\u001b[49m\u001b[43mx\u001b[49m\u001b[43m]\u001b[49m)\n",
      "\u001b[0;31mKeyError\u001b[0m: 1"
     ]
    }
   ],
   "source": [
    "task_1[\"label\"] = task_1[\"label\"].apply(lambda x: mapping[x])"
   ]
  },
  {
   "cell_type": "code",
   "execution_count": 75,
   "metadata": {},
   "outputs": [],
   "source": [
    "y_pred_ens_task_1 = []\n",
    "\n",
    "for i in range(len(task_1)):\n",
    "    input_text = task_1[\"translation\"][i]\n",
    "    input_label = task_1[\"label\"][i]\n",
    "    input_embedding = task_1[\"embeddings_ingles\"][i]    \n",
    "    # Get paraphrased samples\n",
    "    samples = ast.literal_eval(task_1[\"paraphrase\"][i])\n",
    "    samples=list(samples)\n",
    "    paraphrase_text1 = samples[0]\n",
    "    paraphrase_text2 = samples[1]\n",
    "    input_emb_p1 = task_1[\"embedding_paraphrase1\"][i]\n",
    "    input_emb_p2 = task_1[\"embedding_paraphrase2\"][i]\n",
    "\n",
    "\n",
    "    predicted_label, probabilities = predict_sample(model, tokenizer, input_text, input_label, input_embedding)\n",
    "    predicted_label1, probabilities1 = predict_sample(model, tokenizer, paraphrase_text1, input_label, input_emb_p1)\n",
    "    predicted_label2, probabilities2 = predict_sample(model, tokenizer, paraphrase_text2, input_label, input_emb_p2)\n",
    "\n",
    "    if predicted_label != predicted_label1 and predicted_label != predicted_label2 and predicted_label1 != predicted_label2:\n",
    "        labels = [predicted_label, predicted_label1, predicted_label2]\n",
    "        label1_score = max(probabilities)\n",
    "        label2_score = max(probabilities1)\n",
    "        label3_score = max(probabilities2)\n",
    "        scores = {label1_score: predicted_label, label2_score: predicted_label1, label3_score: predicted_label2}\n",
    "        final_label = max(scores.keys())\n",
    "        predicted_label = scores[final_label]\n",
    "    else:\n",
    "        # Get the most frequent label\n",
    "        predicted_label = max(predicted_label, predicted_label1, predicted_label2, key=[predicted_label, predicted_label1, predicted_label2].count)\n",
    "        \n",
    "    y_pred_ens_task_1.append(predicted_label)\n",
    "\n",
    "y_pred_ens_task_1 = np.array(y_pred_ens_task_1)\n",
    "\n",
    "aux = load_dataset(\"../data/translated_dataset_task1.csv\")\n",
    "\n",
    "ids = aux[\"id\"]\n",
    "\n",
    "preds_task_1_ens = pd.DataFrame(columns=[\"id\", \"label\"])\n",
    "preds_task_1_ens[\"id\"] = ids\n",
    "preds_task_1_ens[\"label\"]= y_pred_ens_task_1\n",
    "preds_task_1_ens[\"label\"] = preds_task_1_ens[\"label\"].apply(lambda x: reverse_mapping[x])\n",
    "preds_task_1_ens.to_csv(\"../data/task1_predictions.csv\")"
   ]
  },
  {
   "cell_type": "markdown",
   "metadata": {},
   "source": [
    "### TASK 2"
   ]
  },
  {
   "cell_type": "code",
   "execution_count": 76,
   "metadata": {},
   "outputs": [],
   "source": [
    "task_2[\"label\"] = task_2[\"label\"].apply(lambda x: mapping[x])"
   ]
  },
  {
   "cell_type": "code",
   "execution_count": null,
   "metadata": {},
   "outputs": [],
   "source": [
    "y_pred_ens_task_2 = []\n",
    "\n",
    "for i in range(len(task_2)):\n",
    "    input_text = task_2[\"translation\"][i]\n",
    "    input_label = task_2[\"label\"][i]\n",
    "    input_embedding = task_2[\"embeddings_ingles\"][i]    \n",
    "    # Get paraphrased samples\n",
    "    samples = ast.literal_eval(task_2[\"paraphrase\"][i])\n",
    "    samples=list(samples)\n",
    "    paraphrase_text1 = samples[0]\n",
    "    paraphrase_text2 = samples[1]\n",
    "    input_emb_p1 = task_2[\"embedding_paraphrase1\"][i]\n",
    "    input_emb_p2 = task_2[\"embedding_paraphrase2\"][i]\n",
    "\n",
    "\n",
    "    predicted_label, probabilities = predict_sample(model, tokenizer, input_text, input_label, input_embedding)\n",
    "    predicted_label1, probabilities1 = predict_sample(model, tokenizer, paraphrase_text1, input_label, input_emb_p1)\n",
    "    predicted_label2, probabilities2 = predict_sample(model, tokenizer, paraphrase_text2, input_label, input_emb_p2)\n",
    "\n",
    "    if predicted_label != predicted_label1 and predicted_label != predicted_label2 and predicted_label1 != predicted_label2:\n",
    "        labels = [predicted_label, predicted_label1, predicted_label2]\n",
    "        label1_score = max(probabilities)\n",
    "        label2_score = max(probabilities1)\n",
    "        label3_score = max(probabilities2)\n",
    "        scores = {label1_score: predicted_label, label2_score: predicted_label1, label3_score: predicted_label2}\n",
    "        final_label = max(scores.keys())\n",
    "        predicted_label = scores[final_label]\n",
    "    else:\n",
    "        # Get the most frequent label\n",
    "        predicted_label = max(predicted_label, predicted_label1, predicted_label2, key=[predicted_label, predicted_label1, predicted_label2].count)\n",
    "        \n",
    "    y_pred_ens_task_2.append(predicted_label)\n",
    "\n",
    "y_pred_ens_task_2 = np.array(y_pred_ens_task_2)\n",
    "\n",
    "aux = load_dataset(\"../data/translated_dataset_task2.csv\")\n",
    "\n",
    "ids = aux[\"id\"]\n",
    "\n",
    "preds_task_2_ens = pd.DataFrame(columns=[\"id\", \"label\"])\n",
    "preds_task_2_ens[\"id\"] = ids\n",
    "preds_task_2_ens[\"label\"]= y_pred_ens_task_2\n",
    "preds_task_2_ens[\"label\"] = preds_task_2_ens[\"label\"].apply(lambda x: reverse_mapping[x])\n",
    "preds_task_2_ens.to_csv(\"../data/task2_predictions.csv\")"
   ]
  }
 ],
 "metadata": {
  "kernelspec": {
   "display_name": "nlp",
   "language": "python",
   "name": "python3"
  },
  "language_info": {
   "codemirror_mode": {
    "name": "ipython",
    "version": 3
   },
   "file_extension": ".py",
   "mimetype": "text/x-python",
   "name": "python",
   "nbconvert_exporter": "python",
   "pygments_lexer": "ipython3",
   "version": "3.10.16"
  }
 },
 "nbformat": 4,
 "nbformat_minor": 2
}
