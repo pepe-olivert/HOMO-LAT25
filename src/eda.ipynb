{
 "cells": [
  {
   "cell_type": "code",
   "execution_count": 122,
   "metadata": {},
   "outputs": [],
   "source": [
    "import numpy as np\n",
    "import matplotlib.pyplot as plt\n",
    "import pandas as pd"
   ]
  },
  {
   "cell_type": "code",
   "execution_count": 123,
   "metadata": {},
   "outputs": [],
   "source": [
    "# Set random seeds for reproducibility\n",
    "RANDOM_SEED = 42\n",
    "np.random.seed(RANDOM_SEED)"
   ]
  },
  {
   "cell_type": "code",
   "execution_count": 124,
   "metadata": {},
   "outputs": [],
   "source": [
    "data_path = \"../data/\"\n",
    "train_path = data_path + \"dev.csv\""
   ]
  },
  {
   "cell_type": "code",
   "execution_count": 125,
   "metadata": {},
   "outputs": [
    {
     "name": "stdout",
     "output_type": "stream",
     "text": [
      "Number of documents in train set: 1443\n",
      "Number of features: 5\n"
     ]
    },
    {
     "data": {
      "text/plain": [
       "Index(['id', 'country', 'keyword', 'post content', 'label'], dtype='object')"
      ]
     },
     "execution_count": 125,
     "metadata": {},
     "output_type": "execute_result"
    }
   ],
   "source": [
    "train_df = pd.read_csv(train_path)\n",
    "\n",
    "print(\"Number of documents in train set:\", train_df.shape[0])\n",
    "print(\"Number of features:\", train_df.shape[1])\n",
    "\n",
    "train_df.columns"
   ]
  },
  {
   "cell_type": "code",
   "execution_count": 126,
   "metadata": {},
   "outputs": [
    {
     "data": {
      "text/plain": [
       "Index(['id', 'country', 'keyword', 'text', 'label'], dtype='object')"
      ]
     },
     "execution_count": 126,
     "metadata": {},
     "output_type": "execute_result"
    }
   ],
   "source": [
    "# Rename columns\n",
    "train_df.rename(columns={\"post content\": \"text\"}, inplace=True)\n",
    "# Remove columns\n",
    "# remove_cols = [\"id\", \"country\", \"keyword\", \"embeddings\", \"cleaned_text\", \"post content\"]\n",
    "# train_df.drop(columns=remove_cols, inplace=True)\n",
    "train_df.columns"
   ]
  },
  {
   "cell_type": "code",
   "execution_count": 127,
   "metadata": {},
   "outputs": [
    {
     "data": {
      "text/html": [
       "<div>\n",
       "<style scoped>\n",
       "    .dataframe tbody tr th:only-of-type {\n",
       "        vertical-align: middle;\n",
       "    }\n",
       "\n",
       "    .dataframe tbody tr th {\n",
       "        vertical-align: top;\n",
       "    }\n",
       "\n",
       "    .dataframe thead th {\n",
       "        text-align: right;\n",
       "    }\n",
       "</style>\n",
       "<table border=\"1\" class=\"dataframe\">\n",
       "  <thead>\n",
       "    <tr style=\"text-align: right;\">\n",
       "      <th></th>\n",
       "      <th>id</th>\n",
       "      <th>country</th>\n",
       "      <th>keyword</th>\n",
       "      <th>text</th>\n",
       "      <th>label</th>\n",
       "    </tr>\n",
       "  </thead>\n",
       "  <tbody>\n",
       "    <tr>\n",
       "      <th>0</th>\n",
       "      <td>A2442</td>\n",
       "      <td>Argentina</td>\n",
       "      <td>trans</td>\n",
       "      <td>Me tiene los huevos al plato la gente que no q...</td>\n",
       "      <td>NEU</td>\n",
       "    </tr>\n",
       "    <tr>\n",
       "      <th>1</th>\n",
       "      <td>A0021</td>\n",
       "      <td>Argentina</td>\n",
       "      <td>gay</td>\n",
       "      <td>&gt;El Che guevara era 100% antigay\\n\\n¿Cuál es t...</td>\n",
       "      <td>NEU</td>\n",
       "    </tr>\n",
       "    <tr>\n",
       "      <th>2</th>\n",
       "      <td>A2678</td>\n",
       "      <td>Argentina</td>\n",
       "      <td>trans</td>\n",
       "      <td>No seas malo. Es `trans` pero hay que dejarlo ...</td>\n",
       "      <td>NEG</td>\n",
       "    </tr>\n",
       "    <tr>\n",
       "      <th>3</th>\n",
       "      <td>A2016</td>\n",
       "      <td>Argentina</td>\n",
       "      <td>trans</td>\n",
       "      <td>Imaginate defender a un tipo que golpea minas ...</td>\n",
       "      <td>NEU</td>\n",
       "    </tr>\n",
       "    <tr>\n",
       "      <th>4</th>\n",
       "      <td>A1844</td>\n",
       "      <td>Argentina</td>\n",
       "      <td>trans</td>\n",
       "      <td>El no binario es difícil, no viví esa experien...</td>\n",
       "      <td>NEU</td>\n",
       "    </tr>\n",
       "  </tbody>\n",
       "</table>\n",
       "</div>"
      ],
      "text/plain": [
       "      id    country keyword  \\\n",
       "0  A2442  Argentina   trans   \n",
       "1  A0021  Argentina     gay   \n",
       "2  A2678  Argentina   trans   \n",
       "3  A2016  Argentina   trans   \n",
       "4  A1844  Argentina   trans   \n",
       "\n",
       "                                                text label  \n",
       "0  Me tiene los huevos al plato la gente que no q...   NEU  \n",
       "1  >El Che guevara era 100% antigay\\n\\n¿Cuál es t...   NEU  \n",
       "2  No seas malo. Es `trans` pero hay que dejarlo ...   NEG  \n",
       "3  Imaginate defender a un tipo que golpea minas ...   NEU  \n",
       "4  El no binario es difícil, no viví esa experien...   NEU  "
      ]
     },
     "execution_count": 127,
     "metadata": {},
     "output_type": "execute_result"
    }
   ],
   "source": [
    "train_df.head()"
   ]
  },
  {
   "cell_type": "code",
   "execution_count": 129,
   "metadata": {},
   "outputs": [
    {
     "name": "stdout",
     "output_type": "stream",
     "text": [
      "<class 'pandas.core.frame.DataFrame'>\n",
      "RangeIndex: 1443 entries, 0 to 1442\n",
      "Data columns (total 5 columns):\n",
      " #   Column   Non-Null Count  Dtype \n",
      "---  ------   --------------  ----- \n",
      " 0   id       1443 non-null   object\n",
      " 1   country  1443 non-null   object\n",
      " 2   keyword  1443 non-null   object\n",
      " 3   text     1443 non-null   object\n",
      " 4   label    1443 non-null   object\n",
      "dtypes: object(5)\n",
      "memory usage: 56.5+ KB\n"
     ]
    }
   ],
   "source": [
    "train_df.info()"
   ]
  },
  {
   "cell_type": "code",
   "execution_count": 130,
   "metadata": {},
   "outputs": [
    {
     "data": {
      "image/png": "[encoded data removed]",
      "text/plain": [
       "<Figure size 640x480 with 1 Axes>"
      ]
     },
     "metadata": {},
     "output_type": "display_data"
    }
   ],
   "source": [
    "# Class distribution\n",
    "labels_dist = train_df[\"label\"].value_counts()\n",
    "\n",
    "# Plot class distribution\n",
    "plt.bar(labels_dist.index, labels_dist.values)\n",
    "plt.title(\"Class distribution\")\n",
    "plt.xlabel(\"Classes\")\n",
    "plt.ylabel(\"Samples\")\n",
    "plt.show()"
   ]
  },
  {
   "cell_type": "code",
   "execution_count": 131,
   "metadata": {},
   "outputs": [],
   "source": [
    "# Map labels to integers\n",
    "label_map = {\"NEG\": 0, \"NEU\": 1, \"POS\": 2}\n",
    "train_df[\"label\"] = train_df[\"label\"].map(label_map)"
   ]
  },
  {
   "cell_type": "code",
   "execution_count": 132,
   "metadata": {},
   "outputs": [],
   "source": [
    "import re\n",
    "import html\n",
    "\n",
    "def clean_reddit_text(text):\n",
    "    \"\"\"\n",
    "    Clean and normalize Reddit post text for sentiment analysis\n",
    "    \"\"\"\n",
    "    if not isinstance(text, str):\n",
    "        return \"\"\n",
    "    \n",
    "    # Unescape HTML entities\n",
    "    text = html.unescape(text)\n",
    "    \n",
    "    # Remove URLs\n",
    "    text = re.sub(r'http[s]?://(?:[a-zA-Z]|[0-9]|[$-_@.&+]|[!*\\\\(\\\\),]|(?:%[0-9a-fA-F][0-9a-fA-F]))+', '', text)\n",
    "    \n",
    "    # Remove subreddit references and user mentions\n",
    "    text = re.sub(r'/?[ru]/[A-Za-z0-9_-]+', '', text)\n",
    "    \n",
    "    # Remove markdown formatting\n",
    "    text = re.sub(r'\\*\\*|\\*|~~|__|_|\\[|\\]|\\(|\\)|>', '', text)\n",
    "    \n",
    "    # Handle [deleted] and [removed]\n",
    "    text = re.sub(r'\\[deleted\\]|\\[removed\\]', '', text)\n",
    "    \n",
    "    # Remove edit notes\n",
    "    text = re.sub(r'edit\\s*:', '', text, flags=re.IGNORECASE)\n",
    "    \n",
    "    # Clean up whitespace and newlines\n",
    "    text = re.sub(r'\\s+', ' ', text)\n",
    "    \n",
    "    return text.strip()"
   ]
  },
  {
   "cell_type": "code",
   "execution_count": 133,
   "metadata": {},
   "outputs": [
    {
     "name": "stdout",
     "output_type": "stream",
     "text": [
      "Number of documents in train set after cleaning: 1443\n",
      "Number of documents in train set after removing empty texts: 1443\n"
     ]
    }
   ],
   "source": [
    "# Clean texts\n",
    "train_df[\"text\"] = train_df[\"text\"].apply(clean_reddit_text)\n",
    "# To lowercase\n",
    "train_df[\"text\"] = train_df[\"text\"].str.lower()\n",
    "print(\"Number of documents in train set after cleaning:\", train_df.shape[0])\n",
    "# Remove empty texts\n",
    "train_df = train_df[train_df[\"text\"].str.strip() != \"\"]\n",
    "print(\"Number of documents in train set after removing empty texts:\", train_df.shape[0])"
   ]
  },
  {
   "cell_type": "code",
   "execution_count": 134,
   "metadata": {},
   "outputs": [
    {
     "data": {
      "text/html": [
       "<div>\n",
       "<style scoped>\n",
       "    .dataframe tbody tr th:only-of-type {\n",
       "        vertical-align: middle;\n",
       "    }\n",
       "\n",
       "    .dataframe tbody tr th {\n",
       "        vertical-align: top;\n",
       "    }\n",
       "\n",
       "    .dataframe thead th {\n",
       "        text-align: right;\n",
       "    }\n",
       "</style>\n",
       "<table border=\"1\" class=\"dataframe\">\n",
       "  <thead>\n",
       "    <tr style=\"text-align: right;\">\n",
       "      <th></th>\n",
       "      <th>id</th>\n",
       "      <th>country</th>\n",
       "      <th>keyword</th>\n",
       "      <th>text</th>\n",
       "      <th>label</th>\n",
       "    </tr>\n",
       "  </thead>\n",
       "  <tbody>\n",
       "    <tr>\n",
       "      <th>0</th>\n",
       "      <td>A2442</td>\n",
       "      <td>Argentina</td>\n",
       "      <td>trans</td>\n",
       "      <td>me tiene los huevos al plato la gente que no q...</td>\n",
       "      <td>1</td>\n",
       "    </tr>\n",
       "    <tr>\n",
       "      <th>1</th>\n",
       "      <td>A0021</td>\n",
       "      <td>Argentina</td>\n",
       "      <td>gay</td>\n",
       "      <td>el che guevara era 100% antigay ¿cuál es tu fu...</td>\n",
       "      <td>1</td>\n",
       "    </tr>\n",
       "    <tr>\n",
       "      <th>2</th>\n",
       "      <td>A2678</td>\n",
       "      <td>Argentina</td>\n",
       "      <td>trans</td>\n",
       "      <td>no seas malo. es `trans` pero hay que dejarlo ...</td>\n",
       "      <td>0</td>\n",
       "    </tr>\n",
       "    <tr>\n",
       "      <th>3</th>\n",
       "      <td>A2016</td>\n",
       "      <td>Argentina</td>\n",
       "      <td>trans</td>\n",
       "      <td>imaginate defender a un tipo que golpea minas ...</td>\n",
       "      <td>1</td>\n",
       "    </tr>\n",
       "    <tr>\n",
       "      <th>4</th>\n",
       "      <td>A1844</td>\n",
       "      <td>Argentina</td>\n",
       "      <td>trans</td>\n",
       "      <td>el no binario es difícil, no viví esa experien...</td>\n",
       "      <td>1</td>\n",
       "    </tr>\n",
       "  </tbody>\n",
       "</table>\n",
       "</div>"
      ],
      "text/plain": [
       "      id    country keyword  \\\n",
       "0  A2442  Argentina   trans   \n",
       "1  A0021  Argentina     gay   \n",
       "2  A2678  Argentina   trans   \n",
       "3  A2016  Argentina   trans   \n",
       "4  A1844  Argentina   trans   \n",
       "\n",
       "                                                text  label  \n",
       "0  me tiene los huevos al plato la gente que no q...      1  \n",
       "1  el che guevara era 100% antigay ¿cuál es tu fu...      1  \n",
       "2  no seas malo. es `trans` pero hay que dejarlo ...      0  \n",
       "3  imaginate defender a un tipo que golpea minas ...      1  \n",
       "4  el no binario es difícil, no viví esa experien...      1  "
      ]
     },
     "execution_count": 134,
     "metadata": {},
     "output_type": "execute_result"
    }
   ],
   "source": [
    "train_df.head()"
   ]
  },
  {
   "cell_type": "code",
   "execution_count": 135,
   "metadata": {},
   "outputs": [
    {
     "data": {
      "text/html": [
       "<div>\n",
       "<style scoped>\n",
       "    .dataframe tbody tr th:only-of-type {\n",
       "        vertical-align: middle;\n",
       "    }\n",
       "\n",
       "    .dataframe tbody tr th {\n",
       "        vertical-align: top;\n",
       "    }\n",
       "\n",
       "    .dataframe thead th {\n",
       "        text-align: right;\n",
       "    }\n",
       "</style>\n",
       "<table border=\"1\" class=\"dataframe\">\n",
       "  <thead>\n",
       "    <tr style=\"text-align: right;\">\n",
       "      <th></th>\n",
       "      <th>id</th>\n",
       "      <th>country</th>\n",
       "      <th>keyword</th>\n",
       "      <th>post content</th>\n",
       "      <th>label</th>\n",
       "    </tr>\n",
       "  </thead>\n",
       "  <tbody>\n",
       "    <tr>\n",
       "      <th>0</th>\n",
       "      <td>A2442</td>\n",
       "      <td>Argentina</td>\n",
       "      <td>trans</td>\n",
       "      <td>me tiene los huevos al plato la gente que no q...</td>\n",
       "      <td>1</td>\n",
       "    </tr>\n",
       "    <tr>\n",
       "      <th>1</th>\n",
       "      <td>A0021</td>\n",
       "      <td>Argentina</td>\n",
       "      <td>gay</td>\n",
       "      <td>el che guevara era 100% antigay ¿cuál es tu fu...</td>\n",
       "      <td>1</td>\n",
       "    </tr>\n",
       "    <tr>\n",
       "      <th>2</th>\n",
       "      <td>A2678</td>\n",
       "      <td>Argentina</td>\n",
       "      <td>trans</td>\n",
       "      <td>no seas malo. es `trans` pero hay que dejarlo ...</td>\n",
       "      <td>0</td>\n",
       "    </tr>\n",
       "    <tr>\n",
       "      <th>3</th>\n",
       "      <td>A2016</td>\n",
       "      <td>Argentina</td>\n",
       "      <td>trans</td>\n",
       "      <td>imaginate defender a un tipo que golpea minas ...</td>\n",
       "      <td>1</td>\n",
       "    </tr>\n",
       "    <tr>\n",
       "      <th>4</th>\n",
       "      <td>A1844</td>\n",
       "      <td>Argentina</td>\n",
       "      <td>trans</td>\n",
       "      <td>el no binario es difícil, no viví esa experien...</td>\n",
       "      <td>1</td>\n",
       "    </tr>\n",
       "  </tbody>\n",
       "</table>\n",
       "</div>"
      ],
      "text/plain": [
       "      id    country keyword  \\\n",
       "0  A2442  Argentina   trans   \n",
       "1  A0021  Argentina     gay   \n",
       "2  A2678  Argentina   trans   \n",
       "3  A2016  Argentina   trans   \n",
       "4  A1844  Argentina   trans   \n",
       "\n",
       "                                        post content  label  \n",
       "0  me tiene los huevos al plato la gente que no q...      1  \n",
       "1  el che guevara era 100% antigay ¿cuál es tu fu...      1  \n",
       "2  no seas malo. es `trans` pero hay que dejarlo ...      0  \n",
       "3  imaginate defender a un tipo que golpea minas ...      1  \n",
       "4  el no binario es difícil, no viví esa experien...      1  "
      ]
     },
     "execution_count": 135,
     "metadata": {},
     "output_type": "execute_result"
    }
   ],
   "source": [
    "train_df.rename(columns={\"text\": \"post content\"}, inplace=True)\n",
    "train_df.head()"
   ]
  },
  {
   "cell_type": "code",
   "execution_count": 136,
   "metadata": {},
   "outputs": [],
   "source": [
    "# Save cleaned data\n",
    "train_df.to_csv(data_path + \"dev_cleaned.csv\", index=False)"
   ]
  },
  {
   "cell_type": "code",
   "execution_count": 86,
   "metadata": {},
   "outputs": [
    {
     "name": "stdout",
     "output_type": "stream",
     "text": [
      "Number of documents in train set: 1010\n",
      "Number of documents in validation set: 433\n"
     ]
    }
   ],
   "source": [
    "from sklearn.model_selection import train_test_split\n",
    "\n",
    "# Split data\n",
    "train_df, val_df = train_test_split(train_df, test_size=0.3, random_state=RANDOM_SEED, stratify=train_df['label'])\n",
    "\n",
    "print(\"Number of documents in train set:\", train_df.shape[0])\n",
    "print(\"Number of documents in validation set:\", val_df.shape[0])"
   ]
  },
  {
   "cell_type": "code",
   "execution_count": 87,
   "metadata": {},
   "outputs": [
    {
     "name": "stdout",
     "output_type": "stream",
     "text": [
      "Class distribution in train set\n",
      "label\n",
      "1    622\n",
      "0    332\n",
      "2     56\n",
      "Name: count, dtype: int64\n",
      "Class distribution in validation set\n",
      "label\n",
      "1    266\n",
      "0    143\n",
      "2     24\n",
      "Name: count, dtype: int64\n",
      "Labels: [1, 0, 2]\n"
     ]
    }
   ],
   "source": [
    "print(\"Class distribution in train set\")\n",
    "counts_train = train_df[\"label\"].value_counts()\n",
    "print(counts_train)\n",
    "print(\"Class distribution in validation set\")\n",
    "counts_val = val_df[\"label\"].value_counts()\n",
    "print(counts_val)\n",
    "\n",
    "LABELS = counts_train.index.to_list()\n",
    "print(\"Labels:\", LABELS)"
   ]
  },
  {
   "cell_type": "code",
   "execution_count": 88,
   "metadata": {},
   "outputs": [
    {
     "data": {
      "image/png": "[encoded data removed]",
      "text/plain": [
       "<Figure size 1000x400 with 2 Axes>"
      ]
     },
     "metadata": {},
     "output_type": "display_data"
    }
   ],
   "source": [
    "fig, (ax_train, ax_val) = plt.subplots(1, 2, figsize=(10, 4))\n",
    "fig.suptitle('Distribución de clases')\n",
    "ax_train.bar(LABELS, counts_train, width=0.4)\n",
    "ax_train.set_title('Conjunto de entrenamiento')\n",
    "ax_train.set_xlabel('Clases')\n",
    "ax_train.set_ylabel('Número de Instancias')\n",
    "ax_train.set_xticks(LABELS)\n",
    "\n",
    "ax_val.bar(LABELS, counts_val, width=0.4)\n",
    "ax_val.set_title('Conjunto de validación')\n",
    "ax_val.set_xlabel('Clases')\n",
    "ax_val.set_xticks(LABELS)\n",
    "\n",
    "plt.show()"
   ]
  },
  {
   "cell_type": "code",
   "execution_count": 89,
   "metadata": {},
   "outputs": [
    {
     "data": {
      "text/plain": [
       "count    1010.000000\n",
       "mean       86.545545\n",
       "std       139.492583\n",
       "min         3.000000\n",
       "25%        23.000000\n",
       "50%        47.000000\n",
       "75%       100.000000\n",
       "90%       186.000000\n",
       "95%       250.550000\n",
       "99%       587.740000\n",
       "max      2249.000000\n",
       "Name: text, dtype: float64"
      ]
     },
     "execution_count": 89,
     "metadata": {},
     "output_type": "execute_result"
    }
   ],
   "source": [
    "length_train=train_df[\"text\"].apply(lambda text: len(text.split()))\n",
    "length_train.describe(percentiles=[0.25, 0.50, 0.75, 0.90, 0.95, 0.99])"
   ]
  },
  {
   "cell_type": "code",
   "execution_count": 90,
   "metadata": {},
   "outputs": [
    {
     "data": {
      "text/plain": [
       "count     433.000000\n",
       "mean       92.281755\n",
       "std       130.209283\n",
       "min         4.000000\n",
       "25%        25.000000\n",
       "50%        53.000000\n",
       "75%       108.000000\n",
       "90%       207.400000\n",
       "95%       311.400000\n",
       "99%       578.760000\n",
       "max      1737.000000\n",
       "Name: text, dtype: float64"
      ]
     },
     "execution_count": 90,
     "metadata": {},
     "output_type": "execute_result"
    }
   ],
   "source": [
    "length_val=val_df[\"text\"].apply(lambda text: len(text.split()))\n",
    "length_val.describe(percentiles=[0.25, 0.50, 0.75, 0.90, 0.95, 0.99])"
   ]
  },
  {
   "cell_type": "code",
   "execution_count": 91,
   "metadata": {},
   "outputs": [
    {
     "data": {
      "image/png": "[encoded data removed]",
      "text/plain": [
       "<Figure size 1000x400 with 2 Axes>"
      ]
     },
     "metadata": {},
     "output_type": "display_data"
    }
   ],
   "source": [
    "fig, (ax_train, ax_val) = plt.subplots(1, 2, figsize=(10, 4))\n",
    "fig.suptitle('Distribución del tamaño de los textos')\n",
    "\n",
    "ax_train.hist(length_train,  color = 'red', edgecolor = 'black',\n",
    "         bins = int(600/50))\n",
    "ax_train.set_title('Conjunto de entrenamiento')\n",
    "ax_train.set_xlabel('Tamaño')\n",
    "ax_train.set_ylabel('Número de Instancias')\n",
    "\n",
    "ax_val.hist(length_val,  color = 'red', edgecolor = 'black',\n",
    "         bins = int(200/15))\n",
    "ax_val.set_title('Conjunto de validación')\n",
    "ax_val.set_xlabel('Tamaño')\n",
    "ax_val.set_ylabel('Número de Instancias')\n",
    "\n",
    "plt.show()"
   ]
  },
  {
   "cell_type": "code",
   "execution_count": 92,
   "metadata": {},
   "outputs": [],
   "source": [
    "# Save data\n",
    "save = False\n",
    "\n",
    "if save:\n",
    "    train_df.to_csv(data_path + \"train.csv\", index=False)\n",
    "    val_df.to_csv(data_path + \"val.csv\", index=False)\n",
    "    print(\"Data saved\")"
   ]
  },
  {
   "cell_type": "code",
   "execution_count": 93,
   "metadata": {},
   "outputs": [
    {
     "data": {
      "text/plain": [
       "Text(0, 0.5, 'Densidad')"
      ]
     },
     "execution_count": 93,
     "metadata": {},
     "output_type": "execute_result"
    },
    {
     "data": {
      "image/png": "[encoded data removed]",
      "text/plain": [
       "<Figure size 640x480 with 1 Axes>"
      ]
     },
     "metadata": {},
     "output_type": "display_data"
    }
   ],
   "source": [
    "import seaborn as sns\n",
    "\n",
    "train_df['Length'] = train_df['text'].apply(lambda text: len(text.split()))\n",
    "sns.kdeplot(data=train_df, x='Length', hue='label')\n",
    "plt.legend(LABELS)\n",
    "plt.title('Densidad con multiples clases')\n",
    "plt.xlabel('Tamaño')\n",
    "plt.ylabel('Densidad')"
   ]
  },
  {
   "cell_type": "code",
   "execution_count": 94,
   "metadata": {},
   "outputs": [
    {
     "ename": "ModuleNotFoundError",
     "evalue": "No module named 'wordcloud'",
     "output_type": "error",
     "traceback": [
      "\u001b[0;31m---------------------------------------------------------------------------\u001b[0m",
      "\u001b[0;31mModuleNotFoundError\u001b[0m                       Traceback (most recent call last)",
      "Cell \u001b[0;32mIn[94], line 1\u001b[0m\n\u001b[0;32m----> 1\u001b[0m \u001b[38;5;28;01mfrom\u001b[39;00m\u001b[38;5;250m \u001b[39m\u001b[38;5;21;01mwordcloud\u001b[39;00m\u001b[38;5;250m \u001b[39m\u001b[38;5;28;01mimport\u001b[39;00m WordCloud\n\u001b[1;32m      2\u001b[0m \u001b[38;5;28;01mfrom\u001b[39;00m\u001b[38;5;250m \u001b[39m\u001b[38;5;21;01mwordcloud\u001b[39;00m\u001b[38;5;250m \u001b[39m\u001b[38;5;28;01mimport\u001b[39;00m STOPWORDS\n\u001b[1;32m      4\u001b[0m \u001b[38;5;66;03m# Wordcloud with positive tweets\u001b[39;00m\n",
      "\u001b[0;31mModuleNotFoundError\u001b[0m: No module named 'wordcloud'"
     ]
    }
   ],
   "source": [
    "from wordcloud import WordCloud\n",
    "from wordcloud import STOPWORDS\n",
    " \n",
    "# Wordcloud with positive tweets\n",
    "positive_tweets = df['tweet'][df[\"sentiment\"] == 'Positive']\n",
    "stop_words = [\"https\", \"co\", \"RT\"] + list(STOPWORDS)\n",
    "positive_wordcloud = WordCloud(max_font_size=50, max_words=50, background_color=\"white\", stopwords = stop_words).generate(str(positive_tweets))\n",
    "plt.figure()\n",
    "plt.title(\"Positive Tweets - Wordcloud\")\n",
    "plt.imshow(positive_wordcloud, interpolation=\"bilinear\")\n",
    "plt.axis(\"off\")\n",
    "plt.show()\n",
    " \n",
    "# Wordcloud with negative tweets\n",
    "negative_tweets = df['tweet'][df[\"sentiment\"] == 'Negative']\n",
    "stop_words = [\"https\", \"co\", \"RT\"] + list(STOPWORDS)\n",
    "negative_wordcloud = WordCloud(max_font_size=50, max_words=50, background_color=\"white\", stopwords = stop_words).generate(str(negative_tweets))\n",
    "plt.figure()\n",
    "plt.title(\"Negative Tweets - Wordcloud\")\n",
    "plt.imshow(negative_wordcloud, interpolation=\"bilinear\")\n",
    "plt.axis(\"off\")\n",
    "plt.show()\n"
   ]
  }
 ],
 "metadata": {
  "kernelspec": {
   "display_name": "iberlef",
   "language": "python",
   "name": "python3"
  },
  "language_info": {
   "codemirror_mode": {
    "name": "ipython",
    "version": 3
   },
   "file_extension": ".py",
   "mimetype": "text/x-python",
   "name": "python",
   "nbconvert_exporter": "python",
   "pygments_lexer": "ipython3",
   "version": "3.10.16"
  }
 },
 "nbformat": 4,
 "nbformat_minor": 2
}
