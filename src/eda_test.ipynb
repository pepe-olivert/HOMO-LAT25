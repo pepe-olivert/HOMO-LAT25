{
 "cells": [
  {
   "cell_type": "code",
   "execution_count": 51,
   "id": "e0b2b501",
   "metadata": {},
   "outputs": [],
   "source": [
    "import numpy as np\n",
    "import matplotlib.pyplot as plt\n",
    "import pandas as pd"
   ]
  },
  {
   "cell_type": "code",
   "execution_count": 52,
   "id": "527a90fc",
   "metadata": {},
   "outputs": [],
   "source": [
    "# Set random seeds for reproducibility\n",
    "RANDOM_SEED = 42\n",
    "np.random.seed(RANDOM_SEED)"
   ]
  },
  {
   "cell_type": "code",
   "execution_count": 53,
   "id": "e647bfb2",
   "metadata": {},
   "outputs": [],
   "source": [
    "data_path = \"../data/dataset_task2.csv\""
   ]
  },
  {
   "cell_type": "code",
   "execution_count": 54,
   "id": "db7879c4",
   "metadata": {},
   "outputs": [
    {
     "name": "stdout",
     "output_type": "stream",
     "text": [
      "Number of documents: 5475\n",
      "Number of features: 4\n"
     ]
    },
    {
     "data": {
      "text/plain": [
       "Index(['id', 'country', 'keyword', 'post content'], dtype='object')"
      ]
     },
     "execution_count": 54,
     "metadata": {},
     "output_type": "execute_result"
    }
   ],
   "source": [
    "test_df = pd.read_csv(data_path)\n",
    "\n",
    "print(\"Number of documents:\", test_df.shape[0])\n",
    "print(\"Number of features:\", test_df.shape[1])\n",
    "\n",
    "test_df.columns"
   ]
  },
  {
   "cell_type": "code",
   "execution_count": 55,
   "id": "e35dce3a",
   "metadata": {},
   "outputs": [
    {
     "data": {
      "text/html": [
       "<div>\n",
       "<style scoped>\n",
       "    .dataframe tbody tr th:only-of-type {\n",
       "        vertical-align: middle;\n",
       "    }\n",
       "\n",
       "    .dataframe tbody tr th {\n",
       "        vertical-align: top;\n",
       "    }\n",
       "\n",
       "    .dataframe thead th {\n",
       "        text-align: right;\n",
       "    }\n",
       "</style>\n",
       "<table border=\"1\" class=\"dataframe\">\n",
       "  <thead>\n",
       "    <tr style=\"text-align: right;\">\n",
       "      <th></th>\n",
       "      <th>id</th>\n",
       "      <th>country</th>\n",
       "      <th>keyword</th>\n",
       "      <th>post content</th>\n",
       "    </tr>\n",
       "  </thead>\n",
       "  <tbody>\n",
       "    <tr>\n",
       "      <th>0</th>\n",
       "      <td>R0000</td>\n",
       "      <td>Uruguay</td>\n",
       "      <td>gay</td>\n",
       "      <td>creo q es esta, la de u r gay y otra más que n...</td>\n",
       "    </tr>\n",
       "    <tr>\n",
       "      <th>1</th>\n",
       "      <td>R0001</td>\n",
       "      <td>Uruguay</td>\n",
       "      <td>transgénero</td>\n",
       "      <td>Que tal peligroso es ser gay/trans?\\nLes tengo...</td>\n",
       "    </tr>\n",
       "    <tr>\n",
       "      <th>2</th>\n",
       "      <td>R0002</td>\n",
       "      <td>Uruguay</td>\n",
       "      <td>transexual</td>\n",
       "      <td>Es un mundo de diferencia entre ser homosexual...</td>\n",
       "    </tr>\n",
       "    <tr>\n",
       "      <th>3</th>\n",
       "      <td>R0003</td>\n",
       "      <td>Uruguay</td>\n",
       "      <td>lesbiana</td>\n",
       "      <td>Te cuento mi perspectiva como lesbiana viviend...</td>\n",
       "    </tr>\n",
       "    <tr>\n",
       "      <th>4</th>\n",
       "      <td>R0004</td>\n",
       "      <td>Uruguay</td>\n",
       "      <td>transexuales</td>\n",
       "      <td>No es peligroso, en general. Pueden sufrir dis...</td>\n",
       "    </tr>\n",
       "  </tbody>\n",
       "</table>\n",
       "</div>"
      ],
      "text/plain": [
       "      id  country       keyword  \\\n",
       "0  R0000  Uruguay           gay   \n",
       "1  R0001  Uruguay   transgénero   \n",
       "2  R0002  Uruguay    transexual   \n",
       "3  R0003  Uruguay      lesbiana   \n",
       "4  R0004  Uruguay  transexuales   \n",
       "\n",
       "                                        post content  \n",
       "0  creo q es esta, la de u r gay y otra más que n...  \n",
       "1  Que tal peligroso es ser gay/trans?\\nLes tengo...  \n",
       "2  Es un mundo de diferencia entre ser homosexual...  \n",
       "3  Te cuento mi perspectiva como lesbiana viviend...  \n",
       "4  No es peligroso, en general. Pueden sufrir dis...  "
      ]
     },
     "execution_count": 55,
     "metadata": {},
     "output_type": "execute_result"
    }
   ],
   "source": [
    "test_df.head()"
   ]
  },
  {
   "cell_type": "code",
   "execution_count": 56,
   "id": "5a3ebd91",
   "metadata": {},
   "outputs": [
    {
     "name": "stdout",
     "output_type": "stream",
     "text": [
      "<class 'pandas.core.frame.DataFrame'>\n",
      "RangeIndex: 5475 entries, 0 to 5474\n",
      "Data columns (total 4 columns):\n",
      " #   Column        Non-Null Count  Dtype \n",
      "---  ------        --------------  ----- \n",
      " 0   id            5475 non-null   object\n",
      " 1   country       5475 non-null   object\n",
      " 2   keyword       5475 non-null   object\n",
      " 3   post content  5475 non-null   object\n",
      "dtypes: object(4)\n",
      "memory usage: 171.2+ KB\n"
     ]
    }
   ],
   "source": [
    "test_df.info()"
   ]
  },
  {
   "cell_type": "code",
   "execution_count": 57,
   "id": "973e0a27",
   "metadata": {},
   "outputs": [
    {
     "data": {
      "text/plain": [
       "country\n",
       "Uruguay                 1770\n",
       "Panama                  1058\n",
       "Peru                     580\n",
       "Paraguay                 541\n",
       "Puerto Rico              378\n",
       "Guatemala                376\n",
       "Venezuela                232\n",
       "Honduras                 154\n",
       "El Salvador              100\n",
       "Republica Dominicana     100\n",
       "Nicaragua                 69\n",
       "Bolivia                   49\n",
       "Ecuador                   46\n",
       "Costa Rica                17\n",
       "Cuba                       5\n",
       "Name: count, dtype: int64"
      ]
     },
     "execution_count": 57,
     "metadata": {},
     "output_type": "execute_result"
    }
   ],
   "source": [
    "# Country values\n",
    "test_df[\"country\"].value_counts()"
   ]
  },
  {
   "cell_type": "code",
   "execution_count": 58,
   "id": "27c892d8",
   "metadata": {},
   "outputs": [
    {
     "data": {
      "text/plain": [
       "keyword\n",
       "trans            1309\n",
       "gay              1177\n",
       "LGBT              860\n",
       "gays              675\n",
       "lgbt              346\n",
       "lesbianas         145\n",
       "lesbiana          144\n",
       "bisexual          128\n",
       "queer              88\n",
       "transexuales       70\n",
       "transgénero        68\n",
       "bisexuales         63\n",
       "transexual         55\n",
       "travestis          52\n",
       "Trans              39\n",
       "travesti           39\n",
       "Gay                33\n",
       "asexual            31\n",
       "pansexual          24\n",
       "transgenero        24\n",
       "intersexual        11\n",
       "Gays               11\n",
       "intersexuales      10\n",
       "Bisexual            8\n",
       "Queer               8\n",
       "pansexuales         7\n",
       "TRANS               7\n",
       "Lgbt                6\n",
       "GAY                 5\n",
       "asexuales           5\n",
       "Asexual             4\n",
       "Travesti            3\n",
       "Transgenero         3\n",
       "Pansexual           3\n",
       "GAYS                2\n",
       "LgBT                2\n",
       "Bisexuales          2\n",
       "queers              1\n",
       "Lesbianas           1\n",
       "Asexuales           1\n",
       "Lesbiana            1\n",
       "Intersexual         1\n",
       "Transexual          1\n",
       "Transexuales        1\n",
       "Transgénero         1\n",
       "Name: count, dtype: int64"
      ]
     },
     "execution_count": 58,
     "metadata": {},
     "output_type": "execute_result"
    }
   ],
   "source": [
    "# Keyword values\n",
    "test_df[\"keyword\"].value_counts()"
   ]
  },
  {
   "cell_type": "markdown",
   "id": "e377eea5",
   "metadata": {},
   "source": [
    "### Text Cleaning"
   ]
  },
  {
   "cell_type": "code",
   "execution_count": 59,
   "id": "38c94b13",
   "metadata": {},
   "outputs": [],
   "source": [
    "import re\n",
    "import html\n",
    "\n",
    "def clean_reddit_text(text):\n",
    "    \"\"\"\n",
    "    Clean and normalize Reddit post text for sentiment analysis\n",
    "    \"\"\"\n",
    "    if not isinstance(text, str):\n",
    "        return \"\"\n",
    "    \n",
    "    # Unescape HTML entities\n",
    "    text = html.unescape(text)\n",
    "    \n",
    "    # Remove URLs\n",
    "    text = re.sub(r'http[s]?://(?:[a-zA-Z]|[0-9]|[$-_@.&+]|[!*\\\\(\\\\),]|(?:%[0-9a-fA-F][0-9a-fA-F]))+', '', text)\n",
    "    \n",
    "    # Remove subreddit references and user mentions\n",
    "    text = re.sub(r'/?[ru]/[A-Za-z0-9_-]+', '', text)\n",
    "    \n",
    "    # Remove markdown formatting\n",
    "    text = re.sub(r'\\*\\*|\\*|~~|__|_|\\[|\\]|\\(|\\)|>', '', text)\n",
    "    \n",
    "    # Handle [deleted] and [removed]\n",
    "    text = re.sub(r'\\[deleted\\]|\\[removed\\]', '', text)\n",
    "    \n",
    "    # Remove edit notes\n",
    "    text = re.sub(r'edit\\s*:', '', text, flags=re.IGNORECASE)\n",
    "    \n",
    "    # Clean up whitespace and newlines\n",
    "    text = re.sub(r'\\s+', ' ', text)\n",
    "    \n",
    "    return text.strip()"
   ]
  },
  {
   "cell_type": "code",
   "execution_count": 60,
   "id": "9b6f9f14",
   "metadata": {},
   "outputs": [
    {
     "name": "stdout",
     "output_type": "stream",
     "text": [
      "Number of documents after cleaning: 5475\n"
     ]
    }
   ],
   "source": [
    "# Clean texts\n",
    "test_df[\"post content\"] = test_df[\"post content\"].apply(clean_reddit_text)\n",
    "# To lowercase\n",
    "test_df[\"post content\"] = test_df[\"post content\"].str.lower()\n",
    "\n",
    "print(\"Number of documents after cleaning:\", test_df.shape[0])"
   ]
  },
  {
   "cell_type": "code",
   "execution_count": 61,
   "id": "3261da40",
   "metadata": {},
   "outputs": [
    {
     "name": "stdout",
     "output_type": "stream",
     "text": [
      "Number of documents after removing empty texts: 5475\n"
     ]
    }
   ],
   "source": [
    "# Remove empty texts\n",
    "test_df = test_df[test_df[\"post content\"].str.strip() != \"\"]\n",
    "print(\"Number of documents after removing empty texts:\", test_df.shape[0])"
   ]
  },
  {
   "cell_type": "code",
   "execution_count": 62,
   "id": "a4e37574",
   "metadata": {},
   "outputs": [
    {
     "data": {
      "text/html": [
       "<div>\n",
       "<style scoped>\n",
       "    .dataframe tbody tr th:only-of-type {\n",
       "        vertical-align: middle;\n",
       "    }\n",
       "\n",
       "    .dataframe tbody tr th {\n",
       "        vertical-align: top;\n",
       "    }\n",
       "\n",
       "    .dataframe thead th {\n",
       "        text-align: right;\n",
       "    }\n",
       "</style>\n",
       "<table border=\"1\" class=\"dataframe\">\n",
       "  <thead>\n",
       "    <tr style=\"text-align: right;\">\n",
       "      <th></th>\n",
       "      <th>id</th>\n",
       "      <th>country</th>\n",
       "      <th>keyword</th>\n",
       "      <th>post content</th>\n",
       "    </tr>\n",
       "  </thead>\n",
       "  <tbody>\n",
       "    <tr>\n",
       "      <th>0</th>\n",
       "      <td>R0000</td>\n",
       "      <td>Uruguay</td>\n",
       "      <td>gay</td>\n",
       "      <td>creo q es esta, la de u r gay y otra más que n...</td>\n",
       "    </tr>\n",
       "    <tr>\n",
       "      <th>1</th>\n",
       "      <td>R0001</td>\n",
       "      <td>Uruguay</td>\n",
       "      <td>transgénero</td>\n",
       "      <td>que tal peligroso es ser gay/trans? les tengo ...</td>\n",
       "    </tr>\n",
       "    <tr>\n",
       "      <th>2</th>\n",
       "      <td>R0002</td>\n",
       "      <td>Uruguay</td>\n",
       "      <td>transexual</td>\n",
       "      <td>es un mundo de diferencia entre ser homosexual...</td>\n",
       "    </tr>\n",
       "    <tr>\n",
       "      <th>3</th>\n",
       "      <td>R0003</td>\n",
       "      <td>Uruguay</td>\n",
       "      <td>lesbiana</td>\n",
       "      <td>te cuento mi perspectiva como lesbiana viviend...</td>\n",
       "    </tr>\n",
       "    <tr>\n",
       "      <th>4</th>\n",
       "      <td>R0004</td>\n",
       "      <td>Uruguay</td>\n",
       "      <td>transexuales</td>\n",
       "      <td>no es peligroso, en general. pueden sufrir dis...</td>\n",
       "    </tr>\n",
       "  </tbody>\n",
       "</table>\n",
       "</div>"
      ],
      "text/plain": [
       "      id  country       keyword  \\\n",
       "0  R0000  Uruguay           gay   \n",
       "1  R0001  Uruguay   transgénero   \n",
       "2  R0002  Uruguay    transexual   \n",
       "3  R0003  Uruguay      lesbiana   \n",
       "4  R0004  Uruguay  transexuales   \n",
       "\n",
       "                                        post content  \n",
       "0  creo q es esta, la de u r gay y otra más que n...  \n",
       "1  que tal peligroso es ser gay/trans? les tengo ...  \n",
       "2  es un mundo de diferencia entre ser homosexual...  \n",
       "3  te cuento mi perspectiva como lesbiana viviend...  \n",
       "4  no es peligroso, en general. pueden sufrir dis...  "
      ]
     },
     "execution_count": 62,
     "metadata": {},
     "output_type": "execute_result"
    }
   ],
   "source": [
    "test_df.head()"
   ]
  },
  {
   "cell_type": "code",
   "execution_count": 63,
   "id": "8e5071c5",
   "metadata": {},
   "outputs": [
    {
     "data": {
      "text/plain": [
       "'creo q es esta, la de u r gay y otra más que no me acuerdo acá hay un articulo sobre todas las menciones de uy en los simpson'"
      ]
     },
     "execution_count": 63,
     "metadata": {},
     "output_type": "execute_result"
    }
   ],
   "source": [
    "test_df[\"post content\"][0]"
   ]
  },
  {
   "cell_type": "code",
   "execution_count": 64,
   "id": "751757d8",
   "metadata": {},
   "outputs": [
    {
     "data": {
      "text/plain": [
       "count    5475.000000\n",
       "mean       97.989041\n",
       "std       147.993694\n",
       "min         1.000000\n",
       "25%        28.000000\n",
       "50%        59.000000\n",
       "75%       115.000000\n",
       "90%       212.000000\n",
       "95%       305.600000\n",
       "99%       621.560000\n",
       "max      4346.000000\n",
       "Name: post content, dtype: float64"
      ]
     },
     "execution_count": 64,
     "metadata": {},
     "output_type": "execute_result"
    }
   ],
   "source": [
    "text_length=test_df[\"post content\"].apply(lambda text: len(text.split()))\n",
    "text_length.describe(percentiles=[0.25, 0.50, 0.75, 0.90, 0.95, 0.99])"
   ]
  },
  {
   "cell_type": "code",
   "execution_count": 65,
   "id": "32e47626",
   "metadata": {},
   "outputs": [],
   "source": [
    "# Save cleaned data\n",
    "test_df.to_csv(\"../data/cleaned_dataset_task2.csv\", index=False)"
   ]
  }
 ],
 "metadata": {
  "kernelspec": {
   "display_name": "iberlef",
   "language": "python",
   "name": "python3"
  },
  "language_info": {
   "codemirror_mode": {
    "name": "ipython",
    "version": 3
   },
   "file_extension": ".py",
   "mimetype": "text/x-python",
   "name": "python",
   "nbconvert_exporter": "python",
   "pygments_lexer": "ipython3",
   "version": "3.10.16"
  }
 },
 "nbformat": 4,
 "nbformat_minor": 5
}
