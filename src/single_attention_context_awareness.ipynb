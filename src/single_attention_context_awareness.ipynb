{
 "cells": [
  {
   "cell_type": "code",
   "execution_count": 1,
   "metadata": {},
   "outputs": [
    {
     "name": "stderr",
     "output_type": "stream",
     "text": [
      "/home/pepe/miniconda3/envs/nlp/lib/python3.10/site-packages/tqdm/auto.py:21: TqdmWarning: IProgress not found. Please update jupyter and ipywidgets. See https://ipywidgets.readthedocs.io/en/stable/user_install.html\n",
      "  from .autonotebook import tqdm as notebook_tqdm\n"
     ]
    }
   ],
   "source": [
    "import pandas as pd\n",
    "import torch\n",
    "from transformers import AutoTokenizer, DataCollatorWithPadding\n",
    "import torch.nn as nn\n",
    "from transformers import AutoModel\n",
    "from sklearn.metrics.pairwise import cosine_similarity\n",
    "import numpy as np\n",
    "from torch.utils.data import Dataset\n",
    "from torch.utils.data import DataLoader\n",
    "from sklearn.utils.class_weight import compute_class_weight\n",
    "import warnings\n",
    "import random\n",
    "import ast\n",
    "import torch.nn.functional as F\n",
    "from sklearn.metrics import classification_report, f1_score, confusion_matrix, ConfusionMatrixDisplay\n",
    "from torch.optim.lr_scheduler import MultiStepLR\n",
    "from sklearn.model_selection import train_test_split\n",
    "import matplotlib.pyplot as plt\n",
    "\n",
    "\n",
    "\n",
    "warnings.filterwarnings('ignore')"
   ]
  },
  {
   "cell_type": "code",
   "execution_count": 2,
   "metadata": {},
   "outputs": [],
   "source": [
    "TOKEN_DIM = 128\n",
    "PROB = 0.3\n",
    "DROPOUT = 0.2\n",
    "EMBED_DIM = 768\n",
    "BATCH_SIZE = 16\n",
    "LR = 1e-5\n",
    "WD = 1e-2\n",
    "EPOCHS = 10\n",
    "ACTIVATION = nn.GELU()\n",
    "DATA_AUG = False\n",
    "\n",
    "language = \"ESP\"\n",
    "\n",
    "if language == \"ENG\":\n",
    "    MODEL_NAME = \"cardiffnlp/twitter-roberta-base-sentiment-latest\"\n",
    "    text_col = \"translation\" \n",
    "    emb_col = \"embeddings_ingles\" \n",
    "    par_col = \"paraphrase\" \n",
    "    par_emb_col_1 = \"embedding_paraphrase1\" \n",
    "    par_emb_col_2 = \"embedding_paraphrase2\" \n",
    "    TOKEN_DIM = TOKEN_DIM\n",
    "\n",
    "\n",
    "else: \n",
    "    MODEL_NAME = \"pysentimiento/robertuito-sentiment-analysis\"\n",
    "    text_col = \"post content\"\n",
    "    emb_col = \"embeddings\"\n",
    "    par_col = \"paraphrase_esp\"\n",
    "    par_emb_col_1 = \"embedding_paraphrase_esp1\"\n",
    "    par_emb_col_2 = \"embedding_paraphrase_esp2\"\n",
    "    TOKEN_DIM = 128\n"
   ]
  },
  {
   "cell_type": "code",
   "execution_count": 3,
   "metadata": {},
   "outputs": [],
   "source": [
    "def load_dataset(path_to_dataset):\n",
    "    return pd.read_csv(path_to_dataset, index_col = 0)\n",
    "\n",
    "def extract_similar_descriptions(e, embeddings, k):\n",
    "    similarities = cosine_similarity([e], embeddings)[0]\n",
    "    top_indices = np.argsort(similarities)[-k:][::-1]\n",
    "    return top_indices\n",
    "    \n",
    "def compute_embeddings_distance(embedding_str, k, df):\n",
    "    #df = load_dataset(path_to_dataset)\n",
    "\n",
    "    # QUitamos del dataset la misma fila con la que estamos trabajando\n",
    "    df = df[df[emb_col]!= embedding_str]\n",
    "\n",
    "    def parse_embedding(embedding_str):\n",
    "        embedding_str = embedding_str.strip(\"[]\")\n",
    "        return np.array(embedding_str.split(), dtype=np.float32)\n",
    "    \n",
    "    embedding = parse_embedding(embedding_str)\n",
    "    df[emb_col] = df[emb_col].apply(lambda x: parse_embedding(x))\n",
    "\n",
    "    df_pos = df[df[\"label\"]==2]\n",
    "    df_neu = df[df[\"label\"]==1]\n",
    "    df_neg = df[df[\"label\"]==0]\n",
    "\n",
    "    pos_description_embeddings = np.vstack(df_pos[emb_col].values)\n",
    "    pos_nearest_descriptions = extract_similar_descriptions(embedding, pos_description_embeddings, k)\n",
    "    pos_result = df_pos.iloc[pos_nearest_descriptions][text_col]\n",
    "\n",
    "    neu_description_embeddings = np.vstack(df_neu[emb_col].values)\n",
    "    neu_nearest_descriptions = extract_similar_descriptions(embedding, neu_description_embeddings, k)\n",
    "    neu_result = df_neu.iloc[neu_nearest_descriptions][text_col]\n",
    "\n",
    "    neg_description_embeddings = np.vstack(df_neg[emb_col].values)\n",
    "    neg_nearest_descriptions = extract_similar_descriptions(embedding, neg_description_embeddings, k)\n",
    "    neg_result = df_neg.iloc[neg_nearest_descriptions][text_col]\n",
    "    \n",
    "\n",
    "    return pos_result.to_list(), neu_result.to_list(), neg_result.to_list()\n",
    "\n",
    "mapping = {\"NEG\":0, \"NEU\":1, \"POS\":2}\n",
    "\n",
    "def label2int(label):\n",
    "    return mapping[label]"
   ]
  },
  {
   "cell_type": "code",
   "execution_count": 4,
   "metadata": {},
   "outputs": [
    {
     "name": "stdout",
     "output_type": "stream",
     "text": [
      "Device count: 1\n",
      "Current device: 0\n",
      "NVIDIA GeForce RTX 4070 Laptop GPU\n"
     ]
    }
   ],
   "source": [
    "import os\n",
    "os.environ[\"CUDA_VISIBLE_DEVICES\"] = \"0\"\n",
    "\n",
    "device = torch.device(\"cuda:0\" if torch.cuda.is_available() else \"cpu\")\n",
    "\n",
    "if torch.cuda.is_available():\n",
    "    print(\"Device count:\", torch.cuda.device_count())\n",
    "    print(\"Current device:\", torch.cuda.current_device())\n",
    "    for i in range(torch.cuda.device_count()):\n",
    "        print(torch.cuda.get_device_name(i))"
   ]
  },
  {
   "cell_type": "code",
   "execution_count": 5,
   "metadata": {},
   "outputs": [],
   "source": [
    "RANDOM_SEED = 42\n",
    "torch.manual_seed(RANDOM_SEED)\n",
    "torch.cuda.manual_seed_all(RANDOM_SEED)\n",
    "np.random.seed(RANDOM_SEED)"
   ]
  },
  {
   "cell_type": "code",
   "execution_count": 6,
   "metadata": {},
   "outputs": [],
   "source": [
    "data = load_dataset(\"../data/data.csv\")"
   ]
  },
  {
   "cell_type": "code",
   "execution_count": 7,
   "metadata": {},
   "outputs": [],
   "source": [
    "# train_df = load_dataset(\"../data/train_paraphrased.csv\")\n",
    "# test_df = load_dataset(\"../data/test_paraphrased.csv\")\n",
    "# val_df = load_dataset(\"../data/val_paraphrased.csv\")\n",
    "# dev_df = load_dataset(\"../data/dev_paraphrased.csv\")\n",
    "# train_df = pd.concat([train_df, dev_df]).reset_index()\n",
    "\n",
    "train_df, test_df = train_test_split(data, test_size=0.2, random_state=RANDOM_SEED, stratify=data['label'])\n",
    "train_df, val_df = train_test_split(train_df, test_size=1/8, random_state=RANDOM_SEED, stratify=train_df['label'])"
   ]
  },
  {
   "cell_type": "code",
   "execution_count": 8,
   "metadata": {},
   "outputs": [],
   "source": [
    "train_labels = train_df[\"label\"]"
   ]
  },
  {
   "cell_type": "code",
   "execution_count": 9,
   "metadata": {},
   "outputs": [
    {
     "name": "stdout",
     "output_type": "stream",
     "text": [
      "Class weights: tensor([0.9873, 0.5916, 3.3694], device='cuda:0')\n"
     ]
    }
   ],
   "source": [
    "class_weights = compute_class_weight(\n",
    "    class_weight='balanced',\n",
    "    classes=np.unique(train_labels),\n",
    "    y=train_labels\n",
    ")\n",
    "class_weights = torch.tensor(class_weights, dtype=torch.float).to(device)\n",
    "print(\"Class weights:\", class_weights)"
   ]
  },
  {
   "cell_type": "code",
   "execution_count": 10,
   "metadata": {},
   "outputs": [],
   "source": [
    "class SentimentDataset(Dataset):\n",
    "    def __init__(self, texts, paraphrases, labels, tokenizer, k, df, type = None, augmentation = False, local_database = train_df):\n",
    "        super().__init__() \n",
    "        self.texts = texts\n",
    "        self.labels = labels\n",
    "        self.tokenizer = tokenizer\n",
    "        self.k = k\n",
    "        self.df = df\n",
    "        self.local_database = local_database\n",
    "        self.paraphrases = paraphrases\n",
    "        self.type = type\n",
    "        self.augmentation = augmentation\n",
    "\n",
    "    def __len__(self):\n",
    "        return len(self.texts)\n",
    "\n",
    "    def __getitem__(self, idx):\n",
    "        text = self.texts[idx]\n",
    "        label = self.labels[idx]\n",
    "\n",
    "        # DATA AUG\n",
    "        if self.type == \"train\" and self.augmentation:\n",
    "            paraphrase = self.paraphrases[idx]\n",
    "            samples = ast.literal_eval(paraphrase)\n",
    "            samples=list(samples)\n",
    "            samples.append(text)\n",
    "            text = random.choice(samples)\n",
    "            index = samples.index(text)\n",
    "\n",
    "\n",
    "            if index == 0:\n",
    "                embedding_str = self.df.loc[self.df[par_col] == paraphrase, par_emb_col_1].values[0]\n",
    "            elif index == 1:\n",
    "                embedding_str = self.df.loc[self.df[par_col] == paraphrase, par_emb_col_2].values[0]\n",
    "            else: \n",
    "                embedding_str = self.df.loc[self.df[text_col] == text, emb_col].values[0]\n",
    "\n",
    "            words = text.split()\n",
    "            if random.random() < PROB:\n",
    "            \n",
    "                if len(words) > 1:\n",
    "                    num_to_remove = max(1, int(0.1 * len(words)))  # Quitar ~10% de las palabras\n",
    "                    indices_to_remove = random.sample(range(len(words)), num_to_remove)\n",
    "                    words = [w for i, w in enumerate(words) if i not in indices_to_remove]\n",
    "                    text = \" \".join(words)\n",
    "\n",
    "                if random.random() < PROB:\n",
    "\n",
    "                    if len(words) > 1:\n",
    "                        random.shuffle(words)\n",
    "                        text = \" \".join(words)\n",
    "\n",
    "        else:\n",
    "            embedding_str = embedding_str = self.df.loc[self.df[text_col] == text, emb_col].values[0]\n",
    "        \n",
    "        # Obtener los textos más similares por clase\n",
    "        pos_texts, neu_texts, neg_texts = compute_embeddings_distance(embedding_str, self.k, self.local_database)\n",
    "        # Tokenizar el texto principal\n",
    "        encoding = self.tokenizer(text, padding=\"max_length\", truncation=True, max_length=TOKEN_DIM, return_tensors=\"pt\")\n",
    "\n",
    "        # Tokenizar los textos más similares\n",
    "        pos_tokens = self.tokenizer(pos_texts, padding=\"max_length\", truncation=True, max_length=TOKEN_DIM, return_tensors=\"pt\")\n",
    "        neu_tokens = self.tokenizer(neu_texts, padding=\"max_length\", truncation=True, max_length=TOKEN_DIM, return_tensors=\"pt\")\n",
    "        neg_tokens = self.tokenizer(neg_texts, padding=\"max_length\", truncation=True, max_length=TOKEN_DIM, return_tensors=\"pt\")\n",
    "        \n",
    "\n",
    "        return {\n",
    "            \"input_ids\": encoding[\"input_ids\"].squeeze(0),\n",
    "            \"attention_mask\": encoding[\"attention_mask\"].squeeze(0),\n",
    "            \"labels\": torch.tensor(label, dtype=torch.long),\n",
    "            \"pos_tokens\": pos_tokens[\"input_ids\"],\n",
    "            \"neu_tokens\": neu_tokens[\"input_ids\"],\n",
    "            \"neg_tokens\": neg_tokens[\"input_ids\"],\n",
    "            \"pos_attention\": pos_tokens[\"attention_mask\"],\n",
    "            \"neu_attention\": neu_tokens[\"attention_mask\"],\n",
    "            \"neg_attention\": neg_tokens[\"attention_mask\"],\n",
    "        }"
   ]
  },
  {
   "cell_type": "code",
   "execution_count": 11,
   "metadata": {},
   "outputs": [],
   "source": [
    "tokenizer = AutoTokenizer.from_pretrained(MODEL_NAME)\n",
    "\n",
    "train_dataset = SentimentDataset(\n",
    "    texts=train_df[text_col].tolist(),\n",
    "    labels=train_df[\"label\"].tolist(),\n",
    "    paraphrases=train_df[par_col].tolist(),\n",
    "    tokenizer=tokenizer,\n",
    "    k=1,  # Número de mensajes similares a recuperar\n",
    "    df = train_df,\n",
    "    type = \"train\",\n",
    "    augmentation=DATA_AUG\n",
    ")\n",
    "\n",
    "val_dataset = SentimentDataset(\n",
    "    texts=val_df[text_col].tolist(),\n",
    "    labels=val_df[\"label\"].tolist(),\n",
    "    paraphrases = [],\n",
    "    tokenizer=tokenizer,\n",
    "    k=1,  # Número de mensajes similares a recuperar\n",
    "    df = val_df\n",
    ")\n",
    "\n",
    "test_dataset = SentimentDataset(\n",
    "    texts=test_df[text_col].tolist(),\n",
    "    labels=test_df[\"label\"].tolist(),\n",
    "    paraphrases = [],\n",
    "    tokenizer=tokenizer,\n",
    "    k=1,  # Número de mensajes similares a recuperar\n",
    "    df = test_df\n",
    ")"
   ]
  },
  {
   "cell_type": "code",
   "execution_count": 12,
   "metadata": {},
   "outputs": [
    {
     "name": "stdout",
     "output_type": "stream",
     "text": [
      "Sample 1:\n",
      "Text: yo he llegado a pensar que el rechazo, en cuanto a preferencia, contra los `trans` tiene relación con el \"uncanny valley\", y por lo tanto, es algo que responde al subconciente de las personas, difícil de explicar, pero no por eso menos presente o poderoso. eso hace más complicado responder al asunto, en el caso del sub , me doy cuenta de que en general se utiliza mucho maquillaje en la versión final, y claro, el poder del maquillaje es grande, y con ello salta la pregunta de ¿a qué te refieres con atractiva? una cosa que me faltó acotar, es que en las imágenes de ese sub se nota también que hay personas que tenian cierta apariencia de un género distinto antes de la transformación, no hay que olvidar que las disforias se pueden causar por factores genéticos también. yo dudo que seguiría adelante, sabiendo que es una persona `trans`. y esto es hablando del caso en que es indistinguible del caso biológico, el motivo es simple pero un poco pacato, creo que nunca he tenido una relación lo suficientemente pasajera como para que no exista la idea subyacente de que se vuelva algo perduradero, lo más lejos que he llegado en ese ámbito ha sido \"andar\" sin pololear. así que seguramente no soy el mejor ejemplo. pero por ese motivo es que simplemente no es algo que tendría con alguien `trans`, para mi por más transformación que tengan, siguen siendo el sexo biológico de nacimiento, así que chocaría con mi propia sexualidad. en un caso donde no fuera indistinguible del caso biológico creo que es de perogrullo, así que no se si me parecería honestamente atractiva. para mi la pregunta más interesante es qué harían si se enamoraran de un o una `trans`, sin saber que lo es, y luego se enteran. hablo de que ya existieran afectos arraigados. la respuesta fácil es \"le dejaría por haberme mentido\", pero incluso en parejas hetero hay mentiras que se perdonan. ¿qué harían?\n",
      "Label: 1\n",
      "Input IDs: tensor([    0,   560,   723,  5772,   412,  2015,   443,   459,  4158,  4838,\n",
      "          452,  3208,   412, 22440,    16,  1086,   497, 20521, 10806,    40,\n",
      "          838,  4176,   461,   459,  7943,   947,  3923,   948,  3981,  1749,\n",
      "          445,   489,   496,  7391,   442,   964,   443,  6213,   492,  1442,\n",
      "          906,  2364,   413,   529,  7600,  2804,   413,  4883,    16,   583,\n",
      "          464,   489,   774,  1038,  4116,   477, 17148,   970,   774,   834,\n",
      "          588, 10282,  5067,   492,  5921,  1150,   452,   459,  2085,   525,\n",
      "         1442,   916,   474,  2971,  1213,   413,   443,   452,  2587,   475,\n",
      "        11173,   971, 13619,   452,   446,  5228,  9385,   445,  5328,   459,\n",
      "         1322,   525, 13619,   442, 10796,   445,   461,  5806, 11673,   446,\n",
      "         2912,   413,  4686,   792,   516, 22302,   461,  3707, 18215,    33,\n",
      "          531,  1841,   443,   474,  9467,  6314,  6967,   442,   443,   452,\n",
      "          529,  5871,   413,   974,  1442,   475,  2153,     2])\n",
      "Attention Mask: tensor([1, 1, 1, 1, 1, 1, 1, 1, 1, 1, 1, 1, 1, 1, 1, 1, 1, 1, 1, 1, 1, 1, 1, 1,\n",
      "        1, 1, 1, 1, 1, 1, 1, 1, 1, 1, 1, 1, 1, 1, 1, 1, 1, 1, 1, 1, 1, 1, 1, 1,\n",
      "        1, 1, 1, 1, 1, 1, 1, 1, 1, 1, 1, 1, 1, 1, 1, 1, 1, 1, 1, 1, 1, 1, 1, 1,\n",
      "        1, 1, 1, 1, 1, 1, 1, 1, 1, 1, 1, 1, 1, 1, 1, 1, 1, 1, 1, 1, 1, 1, 1, 1,\n",
      "        1, 1, 1, 1, 1, 1, 1, 1, 1, 1, 1, 1, 1, 1, 1, 1, 1, 1, 1, 1, 1, 1, 1, 1,\n",
      "        1, 1, 1, 1, 1, 1, 1, 1])\n",
      "Positives: tensor([[    0,   977,   587,  1531,   445,   658,   583,   669,   580, 20031,\n",
      "           468,   464,  1380,   447,  1181,  1380,  1091,  1531,  2496,   774,\n",
      "           464,   442,   648,  3302,   648,  1220,   447,  1181,   461,  5368,\n",
      "           618,   235,   464,   496,  1154,   443,  2381,  1091,   461, 13685,\n",
      "           235,   235,   235,  1531,   445,  4627,   692,  7471,  5285,   648,\n",
      "          3238,   461,   682, 20857,   656,    65,   509,   976,   235,   464,\n",
      "           703,   443, 13452,  1433,   486,   235,  1632,   848, 18203, 18005,\n",
      "           635,   776,   412,   502,  4212,   445,  7877,  7816,   464, 12597,\n",
      "           609,     2,     1,     1,     1,     1,     1,     1,     1,     1,\n",
      "             1,     1,     1,     1,     1,     1,     1,     1,     1,     1,\n",
      "             1,     1,     1,     1,     1,     1,     1,     1,     1,     1,\n",
      "             1,     1,     1,     1,     1,     1,     1,     1,     1,     1,\n",
      "             1,     1,     1,     1,     1,     1,     1,     1]])\n",
      "Neutral: tensor([[    0,  6610,   560,  2381,   496,  2235,   973, 24931,   412,   471,\n",
      "         14424,   485,   464,  1531,   513, 19649,   583,  1477,   593,  2160,\n",
      "           513,  1430,   759,  1141,   475, 24416,   492,   983,   599, 17199,\n",
      "           443,   516,  3204,   669,   848,   489,   497,  3880,   438,   235,\n",
      "           502,   703,  6871,   685,   443,  3304, 13972,  8926,  1070,     2,\n",
      "             1,     1,     1,     1,     1,     1,     1,     1,     1,     1,\n",
      "             1,     1,     1,     1,     1,     1,     1,     1,     1,     1,\n",
      "             1,     1,     1,     1,     1,     1,     1,     1,     1,     1,\n",
      "             1,     1,     1,     1,     1,     1,     1,     1,     1,     1,\n",
      "             1,     1,     1,     1,     1,     1,     1,     1,     1,     1,\n",
      "             1,     1,     1,     1,     1,     1,     1,     1,     1,     1,\n",
      "             1,     1,     1,     1,     1,     1,     1,     1,     1,     1,\n",
      "             1,     1,     1,     1,     1,     1,     1,     1]])\n",
      "Negatives: tensor([[    0,   828,  9110,    61,   865,   974,  9588,   413,   446,   752,\n",
      "           459,  1108,  7576,  1531, 12000,  1835, 12307,   525,  7816,   443,\n",
      "          1215,  3695,  1165,  1842,   529,  1165,   525,  8555,  1531,   446,\n",
      "          1881,    54,   489,   446,  8009,  3695,  1165,  1215,  7816,   520,\n",
      "            54,  2548,   632,   492,  1545,   452,   523,  1186,   509,   601,\n",
      "          1070,   489, 16229,  2952,   477,   489,  2816,  1545,   412,   496,\n",
      "         23364,   235,   235,   445,   461,  5771,   412,   496,   413,   443,\n",
      "          1664,  2267,   471,  1707,  2914,  5587,  3320,   443,   411, 12431,\n",
      "           774,  4482,   489,   459,  1880,   443,  3997,   482,   728,   529,\n",
      "          1165,  1531,   464,  6472, 12796,   413,  1608,  2462,   551,   976,\n",
      "          2921,  7098,  4270,   461,  3591,   413,  1091,   502,   496, 11081,\n",
      "           443,   579,   538, 13482,   442,   443,   529,  5336,  3404,   413,\n",
      "          5747, 18790,   235,   235,   410,   407,   502,     2]])\n",
      "Positives: tensor([[1, 1, 1, 1, 1, 1, 1, 1, 1, 1, 1, 1, 1, 1, 1, 1, 1, 1, 1, 1, 1, 1, 1, 1,\n",
      "         1, 1, 1, 1, 1, 1, 1, 1, 1, 1, 1, 1, 1, 1, 1, 1, 1, 1, 1, 1, 1, 1, 1, 1,\n",
      "         1, 1, 1, 1, 1, 1, 1, 1, 1, 1, 1, 1, 1, 1, 1, 1, 1, 1, 1, 1, 1, 1, 1, 1,\n",
      "         1, 1, 1, 1, 1, 1, 1, 1, 1, 1, 0, 0, 0, 0, 0, 0, 0, 0, 0, 0, 0, 0, 0, 0,\n",
      "         0, 0, 0, 0, 0, 0, 0, 0, 0, 0, 0, 0, 0, 0, 0, 0, 0, 0, 0, 0, 0, 0, 0, 0,\n",
      "         0, 0, 0, 0, 0, 0, 0, 0]])\n",
      "Neutral: tensor([[1, 1, 1, 1, 1, 1, 1, 1, 1, 1, 1, 1, 1, 1, 1, 1, 1, 1, 1, 1, 1, 1, 1, 1,\n",
      "         1, 1, 1, 1, 1, 1, 1, 1, 1, 1, 1, 1, 1, 1, 1, 1, 1, 1, 1, 1, 1, 1, 1, 1,\n",
      "         1, 1, 0, 0, 0, 0, 0, 0, 0, 0, 0, 0, 0, 0, 0, 0, 0, 0, 0, 0, 0, 0, 0, 0,\n",
      "         0, 0, 0, 0, 0, 0, 0, 0, 0, 0, 0, 0, 0, 0, 0, 0, 0, 0, 0, 0, 0, 0, 0, 0,\n",
      "         0, 0, 0, 0, 0, 0, 0, 0, 0, 0, 0, 0, 0, 0, 0, 0, 0, 0, 0, 0, 0, 0, 0, 0,\n",
      "         0, 0, 0, 0, 0, 0, 0, 0]])\n",
      "Negatives: tensor([[1, 1, 1, 1, 1, 1, 1, 1, 1, 1, 1, 1, 1, 1, 1, 1, 1, 1, 1, 1, 1, 1, 1, 1,\n",
      "         1, 1, 1, 1, 1, 1, 1, 1, 1, 1, 1, 1, 1, 1, 1, 1, 1, 1, 1, 1, 1, 1, 1, 1,\n",
      "         1, 1, 1, 1, 1, 1, 1, 1, 1, 1, 1, 1, 1, 1, 1, 1, 1, 1, 1, 1, 1, 1, 1, 1,\n",
      "         1, 1, 1, 1, 1, 1, 1, 1, 1, 1, 1, 1, 1, 1, 1, 1, 1, 1, 1, 1, 1, 1, 1, 1,\n",
      "         1, 1, 1, 1, 1, 1, 1, 1, 1, 1, 1, 1, 1, 1, 1, 1, 1, 1, 1, 1, 1, 1, 1, 1,\n",
      "         1, 1, 1, 1, 1, 1, 1, 1]])\n",
      "\n",
      "----------------------------------------\n",
      "\n"
     ]
    }
   ],
   "source": [
    "for i in range(1):\n",
    "    sample = train_dataset[i]\n",
    "    print(f\"Sample {i + 1}:\")\n",
    "    print(f\"Text: {train_dataset.texts[i]}\")\n",
    "    print(f\"Label: {sample['labels'].item()}\")\n",
    "    print(f\"Input IDs: {sample['input_ids']}\")\n",
    "    print(f\"Attention Mask: {sample['attention_mask']}\")\n",
    "    print(f\"Positives: {sample['pos_tokens']}\")\n",
    "    print(f\"Neutral: {sample['neu_tokens']}\")\n",
    "    print(f\"Negatives: {sample['neg_tokens']}\")\n",
    "    print(f\"Positives: {sample['pos_attention']}\")\n",
    "    print(f\"Neutral: {sample['neu_attention']}\")\n",
    "    print(f\"Negatives: {sample['neg_attention']}\")\n",
    "    print(\"\\n\" + \"-\"*40 + \"\\n\")"
   ]
  },
  {
   "cell_type": "code",
   "execution_count": 13,
   "metadata": {},
   "outputs": [],
   "source": [
    "def scaled_dot_product_attention(Q, K, V, mask=None):\n",
    "    # Compute the dot products between Q and K, then scale by the square root of the key dimension\n",
    "    d_k = Q.size(-1)\n",
    "    scores = torch.matmul(Q, K.transpose(-2, -1)) / torch.sqrt(torch.tensor(d_k, dtype=torch.float32))\n",
    "\n",
    "    # Apply mask if provided (useful for masked self-attention in transformers)\n",
    "    if mask is not None:\n",
    "        scores = scores.masked_fill(mask == 0, float('-inf'))\n",
    "\n",
    "    # Softmax to normalize scores, producing attention weights\n",
    "    attention_weights = F.softmax(scores, dim=-1)\n",
    "    \n",
    "    # Compute the final output as weighted values\n",
    "    output = torch.matmul(attention_weights, V)\n",
    "    return output, attention_weights\n",
    "\n",
    "\n",
    "class SelfAttention(nn.Module):\n",
    "    def __init__(self, embed_size):\n",
    "        super().__init__()\n",
    "        self.embed_size = embed_size\n",
    "        # Define linear transformations for Q, K, V\n",
    "        self.query = nn.Linear(embed_size, embed_size)\n",
    "        self.key = nn.Linear(embed_size, embed_size)\n",
    "        self.value = nn.Linear(embed_size, embed_size)\n",
    "\n",
    "    def forward(self, q, k, v, mask=None):\n",
    "        # Generate Q, K, V matrices\n",
    "        Q = self.query(q)\n",
    "        K = self.key(k)\n",
    "        V = self.value(v)\n",
    "        \n",
    "        # Calculate attention using our scaled dot-product function\n",
    "        out, _ = scaled_dot_product_attention(Q, K, V)\n",
    "        return out"
   ]
  },
  {
   "cell_type": "code",
   "execution_count": 14,
   "metadata": {},
   "outputs": [
    {
     "name": "stderr",
     "output_type": "stream",
     "text": [
      "Some weights of RobertaModel were not initialized from the model checkpoint at pysentimiento/robertuito-sentiment-analysis and are newly initialized: ['pooler.dense.bias', 'pooler.dense.weight']\n",
      "You should probably TRAIN this model on a down-stream task to be able to use it for predictions and inference.\n"
     ]
    }
   ],
   "source": [
    "class SentimentClassifierWithMultiAttention(nn.Module):\n",
    "    def __init__(self, base_model_name, num_labels=3, num_heads=3):\n",
    "        super().__init__()\n",
    "        \n",
    "        self.bert = AutoModel.from_pretrained(base_model_name)\n",
    "\n",
    "        self.attention = nn.MultiheadAttention(embed_dim = EMBED_DIM, num_heads = num_heads)\n",
    "\n",
    "\n",
    "        \"\"\"self.linear_intermediate = nn.Linear(EMBED_DIM * 2, EMBED_DIM)\n",
    "        self.activation = ACTIVATION\n",
    "        self.dropout = nn.Dropout(DROPOUT)\"\"\"\n",
    "        \n",
    "\n",
    "        self.feedforward = nn.Sequential(\n",
    "            nn.Linear(EMBED_DIM * 2, EMBED_DIM),\n",
    "            ACTIVATION,\n",
    "            nn.Dropout(DROPOUT),\n",
    "            nn.Linear(EMBED_DIM, EMBED_DIM // 2),\n",
    "            ACTIVATION,\n",
    "            nn.Dropout(DROPOUT),\n",
    "            nn.Linear(EMBED_DIM // 2, EMBED_DIM // 4),\n",
    "            ACTIVATION,\n",
    "            nn.Dropout(DROPOUT)\n",
    "        )\n",
    "\n",
    "        self.classifier = nn.Linear(EMBED_DIM // 4, num_labels)\n",
    "\n",
    "\n",
    "    def forward(self, input_ids, attention_mask, labels=None, pos_tokens=None, neu_tokens=None, neg_tokens=None, pos_attention=None, neu_attention = None, neg_attention = None):\n",
    "        \n",
    "        outputs = self.bert(input_ids, attention_mask=attention_mask)\n",
    "        cls_embedding = outputs.last_hidden_state[:, 0, :]  # Token CLS\n",
    "        cls_embedding_expanded = cls_embedding.unsqueeze(1)\n",
    "\n",
    "        pos_outputs_0 = self.bert(pos_tokens[:,0,:], attention_mask=pos_attention[:,0,:])\n",
    "        pos_cls_embedding_0 = pos_outputs_0.last_hidden_state[:, 0, :]\n",
    "        pos_cls_embedding_0 = pos_cls_embedding_0.unsqueeze(1)  \n",
    "\n",
    "        pos_cls_embedding = pos_cls_embedding_0\n",
    "\n",
    "        neu_outputs_0 = self.bert(neu_tokens[:,0,:], attention_mask=neu_attention[:,0,:])\n",
    "        neu_cls_embedding_0 = neu_outputs_0.last_hidden_state[:, 0, :]\n",
    "        neu_cls_embedding_0 = neu_cls_embedding_0.unsqueeze(1)  \n",
    "\n",
    "        neu_cls_embedding = neu_cls_embedding_0\n",
    "\n",
    "        neg_outputs_0 = self.bert(neg_tokens[:,0,:], attention_mask=neg_attention[:,0,:])\n",
    "        neg_cls_embedding_0 = neg_outputs_0.last_hidden_state[:, 0, :]\n",
    "        neg_cls_embedding_0 = neg_cls_embedding_0.unsqueeze(1)  \n",
    "\n",
    "        neg_cls_embedding = neg_cls_embedding_0\n",
    "\n",
    "        cls_embedding_expanded = cls_embedding_expanded.float()\n",
    "        pos_cls_embedding = pos_cls_embedding.float()\n",
    "        neg_cls_embedding = neg_cls_embedding.float()\n",
    "        neu_cls_embedding = neu_cls_embedding.float()\n",
    "\n",
    "        \n",
    "        \n",
    "        class_embed = torch.cat([pos_cls_embedding, neg_cls_embedding, neu_cls_embedding])\n",
    "        contextual_emb, _ = self.attention(cls_embedding_expanded, class_embed, class_embed)\n",
    "        contextual_emb = contextual_emb.squeeze(1)\n",
    "\n",
    "        \n",
    "\n",
    "        combined_embedding = torch.cat([\n",
    "            cls_embedding,\n",
    "            contextual_emb\n",
    "        ], dim=-1)\n",
    "        \n",
    "\n",
    "        #logits = self.classifier(self.dropout(self.activation(self.linear_intermediate(combined_embedding))))\n",
    "        logits = self.classifier(self.feedforward(combined_embedding))\n",
    "\n",
    "        return logits\n",
    "\n",
    "\n",
    "\n",
    "model = SentimentClassifierWithMultiAttention(MODEL_NAME, num_labels=3)\n"
   ]
  },
  {
   "cell_type": "markdown",
   "metadata": {},
   "source": [
    "### Congelamos todas las capas menos la última capa de clasificación"
   ]
  },
  {
   "cell_type": "code",
   "execution_count": 15,
   "metadata": {},
   "outputs": [],
   "source": [
    "# for param in list(model.bert.parameters()):\n",
    "#    param.requires_grad = False"
   ]
  },
  {
   "cell_type": "code",
   "execution_count": 16,
   "metadata": {},
   "outputs": [
    {
     "data": {
      "text/plain": [
       "SentimentClassifierWithMultiAttention(\n",
       "  (bert): RobertaModel(\n",
       "    (embeddings): RobertaEmbeddings(\n",
       "      (word_embeddings): Embedding(30002, 768, padding_idx=1)\n",
       "      (position_embeddings): Embedding(130, 768, padding_idx=1)\n",
       "      (token_type_embeddings): Embedding(1, 768)\n",
       "      (LayerNorm): LayerNorm((768,), eps=1e-12, elementwise_affine=True)\n",
       "      (dropout): Dropout(p=0.1, inplace=False)\n",
       "    )\n",
       "    (encoder): RobertaEncoder(\n",
       "      (layer): ModuleList(\n",
       "        (0-11): 12 x RobertaLayer(\n",
       "          (attention): RobertaAttention(\n",
       "            (self): RobertaSdpaSelfAttention(\n",
       "              (query): Linear(in_features=768, out_features=768, bias=True)\n",
       "              (key): Linear(in_features=768, out_features=768, bias=True)\n",
       "              (value): Linear(in_features=768, out_features=768, bias=True)\n",
       "              (dropout): Dropout(p=0.1, inplace=False)\n",
       "            )\n",
       "            (output): RobertaSelfOutput(\n",
       "              (dense): Linear(in_features=768, out_features=768, bias=True)\n",
       "              (LayerNorm): LayerNorm((768,), eps=1e-12, elementwise_affine=True)\n",
       "              (dropout): Dropout(p=0.1, inplace=False)\n",
       "            )\n",
       "          )\n",
       "          (intermediate): RobertaIntermediate(\n",
       "            (dense): Linear(in_features=768, out_features=3072, bias=True)\n",
       "            (intermediate_act_fn): GELUActivation()\n",
       "          )\n",
       "          (output): RobertaOutput(\n",
       "            (dense): Linear(in_features=3072, out_features=768, bias=True)\n",
       "            (LayerNorm): LayerNorm((768,), eps=1e-12, elementwise_affine=True)\n",
       "            (dropout): Dropout(p=0.1, inplace=False)\n",
       "          )\n",
       "        )\n",
       "      )\n",
       "    )\n",
       "    (pooler): RobertaPooler(\n",
       "      (dense): Linear(in_features=768, out_features=768, bias=True)\n",
       "      (activation): Tanh()\n",
       "    )\n",
       "  )\n",
       "  (attention): MultiheadAttention(\n",
       "    (out_proj): NonDynamicallyQuantizableLinear(in_features=768, out_features=768, bias=True)\n",
       "  )\n",
       "  (feedforward): Sequential(\n",
       "    (0): Linear(in_features=1536, out_features=768, bias=True)\n",
       "    (1): GELU(approximate='none')\n",
       "    (2): Dropout(p=0.2, inplace=False)\n",
       "    (3): Linear(in_features=768, out_features=384, bias=True)\n",
       "    (4): GELU(approximate='none')\n",
       "    (5): Dropout(p=0.2, inplace=False)\n",
       "    (6): Linear(in_features=384, out_features=192, bias=True)\n",
       "    (7): GELU(approximate='none')\n",
       "    (8): Dropout(p=0.2, inplace=False)\n",
       "  )\n",
       "  (classifier): Linear(in_features=192, out_features=3, bias=True)\n",
       ")"
      ]
     },
     "execution_count": 16,
     "metadata": {},
     "output_type": "execute_result"
    }
   ],
   "source": [
    "model.to(device)"
   ]
  },
  {
   "cell_type": "code",
   "execution_count": 17,
   "metadata": {},
   "outputs": [],
   "source": [
    "data_collator = DataCollatorWithPadding(tokenizer=tokenizer)\n",
    "train_dataloader = DataLoader(train_dataset, batch_size=BATCH_SIZE, shuffle=True, collate_fn=data_collator)\n",
    "val_dataloader = DataLoader(val_dataset, batch_size=BATCH_SIZE, shuffle=False, collate_fn=data_collator)\n",
    "test_dataloader = DataLoader(test_dataset, batch_size=BATCH_SIZE, shuffle=False, collate_fn=data_collator)"
   ]
  },
  {
   "cell_type": "markdown",
   "metadata": {},
   "source": [
    "### Fine-Tuning Context Awareness Model"
   ]
  },
  {
   "cell_type": "code",
   "execution_count": 18,
   "metadata": {},
   "outputs": [],
   "source": [
    "from torch.optim import AdamW"
   ]
  },
  {
   "cell_type": "code",
   "execution_count": 19,
   "metadata": {},
   "outputs": [
    {
     "name": "stdout",
     "output_type": "stream",
     "text": [
      "3160\n"
     ]
    }
   ],
   "source": [
    "models_path = \"../checkpoints/\"\n",
    "\n",
    "optimizer = AdamW(model.parameters(), lr=LR, weight_decay=WD) #, weight_decay=WD\n",
    "\n",
    "num_epochs = EPOCHS\n",
    "num_training_steps = num_epochs * len(train_dataloader)\n",
    "scheduler = MultiStepLR(optimizer, milestones=[8], gamma=0.1)\n",
    "\n",
    "\n",
    "print(num_training_steps)"
   ]
  },
  {
   "cell_type": "code",
   "execution_count": 20,
   "metadata": {},
   "outputs": [
    {
     "name": "stderr",
     "output_type": "stream",
     "text": [
      " 10%|█         | 316/3160 [34:06<4:24:32,  5.58s/it]"
     ]
    },
    {
     "name": "stdout",
     "output_type": "stream",
     "text": [
      "Epoch 1/10         Train Loss: 1.0532     Val Loss: 1.0385     Macro F1: 0.4398\n"
     ]
    },
    {
     "name": "stderr",
     "output_type": "stream",
     "text": [
      " 20%|██        | 632/3160 [1:14:18<3:49:21,  5.44s/it]"
     ]
    },
    {
     "name": "stdout",
     "output_type": "stream",
     "text": [
      "Epoch 2/10         Train Loss: 0.9153     Val Loss: 1.0221     Macro F1: 0.4771\n"
     ]
    },
    {
     "name": "stderr",
     "output_type": "stream",
     "text": [
      " 30%|███       | 948/3160 [1:55:56<4:05:04,  6.65s/it] "
     ]
    },
    {
     "name": "stdout",
     "output_type": "stream",
     "text": [
      "Epoch 3/10         Train Loss: 0.7445     Val Loss: 1.1781     Macro F1: 0.5067\n"
     ]
    },
    {
     "name": "stderr",
     "output_type": "stream",
     "text": [
      " 40%|████      | 1264/3160 [2:38:09<2:40:55,  5.09s/it] "
     ]
    },
    {
     "name": "stdout",
     "output_type": "stream",
     "text": [
      "Epoch 4/10         Train Loss: 0.5941     Val Loss: 1.2040     Macro F1: 0.4837\n"
     ]
    },
    {
     "name": "stderr",
     "output_type": "stream",
     "text": [
      " 50%|█████     | 1580/3160 [3:17:19<2:17:24,  5.22s/it] "
     ]
    },
    {
     "name": "stdout",
     "output_type": "stream",
     "text": [
      "Epoch 5/10         Train Loss: 0.4473     Val Loss: 1.4512     Macro F1: 0.4901\n"
     ]
    },
    {
     "name": "stderr",
     "output_type": "stream",
     "text": [
      " 60%|██████    | 1896/3160 [3:57:04<1:37:44,  4.64s/it] "
     ]
    },
    {
     "name": "stdout",
     "output_type": "stream",
     "text": [
      "Epoch 6/10         Train Loss: 0.3271     Val Loss: 1.6678     Macro F1: 0.4852\n"
     ]
    },
    {
     "name": "stderr",
     "output_type": "stream",
     "text": [
      " 70%|███████   | 2212/3160 [4:35:10<1:21:12,  5.14s/it] "
     ]
    },
    {
     "name": "stdout",
     "output_type": "stream",
     "text": [
      "Epoch 7/10         Train Loss: 0.2127     Val Loss: 1.9862     Macro F1: 0.4614\n"
     ]
    },
    {
     "name": "stderr",
     "output_type": "stream",
     "text": [
      " 80%|████████  | 2528/3160 [5:12:29<48:59,  4.65s/it]   "
     ]
    },
    {
     "name": "stdout",
     "output_type": "stream",
     "text": [
      "Epoch 8/10         Train Loss: 0.1627     Val Loss: 2.2409     Macro F1: 0.4782\n"
     ]
    },
    {
     "name": "stderr",
     "output_type": "stream",
     "text": [
      " 90%|█████████ | 2844/3160 [5:49:52<28:43,  5.45s/it]   "
     ]
    },
    {
     "name": "stdout",
     "output_type": "stream",
     "text": [
      "Epoch 9/10         Train Loss: 0.1191     Val Loss: 2.4985     Macro F1: 0.4788\n"
     ]
    },
    {
     "name": "stderr",
     "output_type": "stream",
     "text": [
      "100%|██████████| 3160/3160 [6:26:38<00:00,  4.74s/it]  "
     ]
    },
    {
     "name": "stdout",
     "output_type": "stream",
     "text": [
      "Epoch 10/10         Train Loss: 0.0775     Val Loss: 2.7453     Macro F1: 0.4675\n"
     ]
    }
   ],
   "source": [
    "from tqdm.auto import tqdm\n",
    "\n",
    "train_losses = []\n",
    "val_losses = []\n",
    "lfunct = nn.CrossEntropyLoss(weight=class_weights)\n",
    "\n",
    "progress_bar = tqdm(range(num_training_steps))\n",
    "\n",
    "for epoch in range(num_epochs):\n",
    "    model.train()\n",
    "    epoch_train_loss = 0 \n",
    "    num_train_batches = 0\n",
    "\n",
    "    for batch in train_dataloader:\n",
    "        batch = {k: v.to(device) for k, v in batch.items()}\n",
    "        \n",
    "        outputs = model(**batch)  # Logits\n",
    "        y_true = batch[\"labels\"]\n",
    "        \n",
    "        loss = lfunct(outputs, y_true)\n",
    "\n",
    "        loss.backward()\n",
    "\n",
    "        optimizer.step()\n",
    "        #scheduler.step()\n",
    "\n",
    "        optimizer.zero_grad()\n",
    "        \n",
    "        # Accumulate loss\n",
    "        epoch_train_loss += loss.item()\n",
    "        num_train_batches += 1\n",
    "\n",
    "        progress_bar.update(1)\n",
    "\n",
    "    # Compute average training loss for the epoch\n",
    "    avg_train_loss = epoch_train_loss / num_train_batches\n",
    "    train_losses.append(avg_train_loss)\n",
    "    \n",
    "    # Run validation\n",
    "    model.eval()\n",
    "    epoch_val_loss = 0\n",
    "    num_val_batches = 0\n",
    "\n",
    "    y_preds_val = []\n",
    "    y_trues_val = []\n",
    "\n",
    "    with torch.no_grad():\n",
    "        for batch in val_dataloader:\n",
    "            batch = {k: v.to(device) for k, v in batch.items()}\n",
    "            outputs = model(**batch)\n",
    "            y_true = batch[\"labels\"]\n",
    "\n",
    "            loss = lfunct(outputs, y_true)\n",
    "            epoch_val_loss += loss.item()\n",
    "            num_val_batches += 1\n",
    "\n",
    "            y_preds_val.extend(torch.argmax(outputs, dim=-1).cpu().tolist())\n",
    "            y_trues_val.extend(batch[\"labels\"].cpu().tolist())\n",
    "\n",
    "    y_preds_val = np.array(y_preds_val)\n",
    "    y_trues_val = np.array(y_trues_val)\n",
    "    f1_val = f1_score(y_trues_val, y_preds_val, average='macro')\n",
    "\n",
    "    avg_val_loss = epoch_val_loss / num_val_batches\n",
    "    val_losses.append(avg_val_loss)\n",
    "    print(f\"Epoch {epoch + 1}/{num_epochs:<10} Train Loss: {avg_train_loss:<10.4f} Val Loss: {avg_val_loss:<10.4f} Macro F1: {f1_val:.4f}\")\n",
    "\n",
    "    torch.save(model.state_dict(), f\"../checkpoints/{epoch + 1}_context.pth\")\n",
    "    # torch.save(model, f\"../checkpoints/{epoch + 1}_full_context_model.pth\")"
   ]
  },
  {
   "cell_type": "code",
   "execution_count": 21,
   "metadata": {},
   "outputs": [
    {
     "data": {
      "image/png": "[encoded data removed]",
      "text/plain": [
       "<Figure size 800x400 with 1 Axes>"
      ]
     },
     "metadata": {},
     "output_type": "display_data"
    }
   ],
   "source": [
    "import matplotlib.pyplot as plt\n",
    "# Plot Training vs Validation Loss\n",
    "plt.figure(figsize=(8, 4))\n",
    "plt.plot(train_losses, label=\"Training Loss\", color=\"blue\", alpha=0.7)\n",
    "plt.plot(val_losses, label=\"Validation Loss\", color=\"red\", alpha=0.7)\n",
    "plt.xlabel(\"Training Steps\")\n",
    "plt.ylabel(\"Loss\")\n",
    "plt.title(\"Training vs Validation Loss\")\n",
    "plt.legend()\n",
    "plt.show()"
   ]
  },
  {
   "cell_type": "markdown",
   "metadata": {},
   "source": [
    "### Validation"
   ]
  },
  {
   "cell_type": "code",
   "execution_count": 22,
   "metadata": {},
   "outputs": [
    {
     "name": "stdout",
     "output_type": "stream",
     "text": [
      "(721,) (721,)\n",
      "              precision    recall  f1-score   support\n",
      "\n",
      "         NEG       0.50      0.52      0.51       244\n",
      "         NEU       0.65      0.67      0.66       406\n",
      "         POS       0.28      0.20      0.23        71\n",
      "\n",
      "    accuracy                           0.57       721\n",
      "   macro avg       0.48      0.46      0.47       721\n",
      "weighted avg       0.56      0.57      0.57       721\n",
      "\n"
     ]
    }
   ],
   "source": [
    "\n",
    "model.eval()\n",
    "\n",
    "y_pred_val = []\n",
    "y_true_val = []\n",
    "with torch.no_grad(): \n",
    "    for batch in val_dataloader:\n",
    "        batch = {k: v.to(device) for k, v in batch.items()}\n",
    "        outputs = model(**batch)\n",
    "        y_pred_val.extend(torch.argmax(outputs, dim=-1).tolist())\n",
    "        y_true_val.extend(batch[\"labels\"].tolist())\n",
    "\n",
    "y_pred_val = np.array(y_pred_val)\n",
    "y_true_val = np.array(y_true_val)\n",
    "print(y_pred_val.shape, y_true_val.shape)\n",
    "print(classification_report(y_true_val, y_pred_val, target_names=mapping.keys()))"
   ]
  },
  {
   "cell_type": "markdown",
   "metadata": {},
   "source": [
    "### Test"
   ]
  },
  {
   "cell_type": "code",
   "execution_count": 23,
   "metadata": {},
   "outputs": [
    {
     "name": "stdout",
     "output_type": "stream",
     "text": [
      "(1442,) (1442,)\n",
      "              precision    recall  f1-score   support\n",
      "\n",
      "         NEG       0.52      0.53      0.53       487\n",
      "         NEU       0.66      0.68      0.67       812\n",
      "         POS       0.36      0.27      0.31       143\n",
      "\n",
      "    accuracy                           0.59      1442\n",
      "   macro avg       0.52      0.50      0.50      1442\n",
      "weighted avg       0.58      0.59      0.59      1442\n",
      "\n"
     ]
    }
   ],
   "source": [
    "\n",
    "model.eval()\n",
    "\n",
    "y_pred_test = []\n",
    "y_true_test = []\n",
    "with torch.no_grad(): \n",
    "    for batch in test_dataloader:\n",
    "        batch = {k: v.to(device) for k, v in batch.items()}\n",
    "        outputs = model(**batch)\n",
    "        y_pred_test.extend(torch.argmax(outputs, dim=-1).tolist())\n",
    "        y_true_test.extend(batch[\"labels\"].tolist())\n",
    "\n",
    "y_pred_test = np.array(y_pred_test)\n",
    "y_true_test = np.array(y_true_test)\n",
    "print(y_pred_test.shape, y_true_test.shape)\n",
    "print(classification_report(y_true_test, y_pred_test, target_names=mapping.keys()))"
   ]
  },
  {
   "cell_type": "code",
   "execution_count": 24,
   "metadata": {},
   "outputs": [
    {
     "name": "stderr",
     "output_type": "stream",
     "text": [
      "Some weights of RobertaModel were not initialized from the model checkpoint at pysentimiento/robertuito-sentiment-analysis and are newly initialized: ['pooler.dense.bias', 'pooler.dense.weight']\n",
      "You should probably TRAIN this model on a down-stream task to be able to use it for predictions and inference.\n"
     ]
    },
    {
     "data": {
      "text/plain": [
       "SentimentClassifierWithMultiAttention(\n",
       "  (bert): RobertaModel(\n",
       "    (embeddings): RobertaEmbeddings(\n",
       "      (word_embeddings): Embedding(30002, 768, padding_idx=1)\n",
       "      (position_embeddings): Embedding(130, 768, padding_idx=1)\n",
       "      (token_type_embeddings): Embedding(1, 768)\n",
       "      (LayerNorm): LayerNorm((768,), eps=1e-12, elementwise_affine=True)\n",
       "      (dropout): Dropout(p=0.1, inplace=False)\n",
       "    )\n",
       "    (encoder): RobertaEncoder(\n",
       "      (layer): ModuleList(\n",
       "        (0-11): 12 x RobertaLayer(\n",
       "          (attention): RobertaAttention(\n",
       "            (self): RobertaSdpaSelfAttention(\n",
       "              (query): Linear(in_features=768, out_features=768, bias=True)\n",
       "              (key): Linear(in_features=768, out_features=768, bias=True)\n",
       "              (value): Linear(in_features=768, out_features=768, bias=True)\n",
       "              (dropout): Dropout(p=0.1, inplace=False)\n",
       "            )\n",
       "            (output): RobertaSelfOutput(\n",
       "              (dense): Linear(in_features=768, out_features=768, bias=True)\n",
       "              (LayerNorm): LayerNorm((768,), eps=1e-12, elementwise_affine=True)\n",
       "              (dropout): Dropout(p=0.1, inplace=False)\n",
       "            )\n",
       "          )\n",
       "          (intermediate): RobertaIntermediate(\n",
       "            (dense): Linear(in_features=768, out_features=3072, bias=True)\n",
       "            (intermediate_act_fn): GELUActivation()\n",
       "          )\n",
       "          (output): RobertaOutput(\n",
       "            (dense): Linear(in_features=3072, out_features=768, bias=True)\n",
       "            (LayerNorm): LayerNorm((768,), eps=1e-12, elementwise_affine=True)\n",
       "            (dropout): Dropout(p=0.1, inplace=False)\n",
       "          )\n",
       "        )\n",
       "      )\n",
       "    )\n",
       "    (pooler): RobertaPooler(\n",
       "      (dense): Linear(in_features=768, out_features=768, bias=True)\n",
       "      (activation): Tanh()\n",
       "    )\n",
       "  )\n",
       "  (attention): MultiheadAttention(\n",
       "    (out_proj): NonDynamicallyQuantizableLinear(in_features=768, out_features=768, bias=True)\n",
       "  )\n",
       "  (feedforward): Sequential(\n",
       "    (0): Linear(in_features=1536, out_features=768, bias=True)\n",
       "    (1): GELU(approximate='none')\n",
       "    (2): Dropout(p=0.2, inplace=False)\n",
       "    (3): Linear(in_features=768, out_features=384, bias=True)\n",
       "    (4): GELU(approximate='none')\n",
       "    (5): Dropout(p=0.2, inplace=False)\n",
       "    (6): Linear(in_features=384, out_features=192, bias=True)\n",
       "    (7): GELU(approximate='none')\n",
       "    (8): Dropout(p=0.2, inplace=False)\n",
       "  )\n",
       "  (classifier): Linear(in_features=192, out_features=3, bias=True)\n",
       ")"
      ]
     },
     "execution_count": 24,
     "metadata": {},
     "output_type": "execute_result"
    }
   ],
   "source": [
    "state_dict = torch.load(\"../checkpoints/4_context.pth\", map_location=torch.device(device)) \n",
    "model = SentimentClassifierWithMultiAttention(MODEL_NAME, num_labels=3)\n",
    "model.load_state_dict(state_dict)\n",
    "model.to(device)"
   ]
  },
  {
   "cell_type": "code",
   "execution_count": 25,
   "metadata": {},
   "outputs": [],
   "source": [
    "def predict_sample(model, tokenizer, sample_text, label, embedding_str):\n",
    "    \"\"\"\n",
    "    Predict the sentiment of a sample text\n",
    "    \"\"\"\n",
    "\n",
    "    pos_texts, neu_texts, neg_texts = compute_embeddings_distance(embedding_str, 1, train_df)\n",
    "    encoding = tokenizer(sample_text, padding=\"max_length\", truncation=True, max_length=TOKEN_DIM, return_tensors=\"pt\")\n",
    "\n",
    "    # Tokenizar los textos más similares\n",
    "    pos_tokens = tokenizer(pos_texts, padding=\"max_length\", truncation=True, max_length=TOKEN_DIM, return_tensors=\"pt\")\n",
    "    neu_tokens = tokenizer(neu_texts, padding=\"max_length\", truncation=True, max_length=TOKEN_DIM, return_tensors=\"pt\")\n",
    "    neg_tokens = tokenizer(neg_texts, padding=\"max_length\", truncation=True, max_length=TOKEN_DIM, return_tensors=\"pt\")\n",
    "    \n",
    "\n",
    "    inputs = {\n",
    "        \"input_ids\": encoding[\"input_ids\"],\n",
    "        \"attention_mask\": encoding[\"attention_mask\"],\n",
    "        \"labels\": torch.tensor(label, dtype=torch.long),\n",
    "        \"pos_tokens\": pos_tokens[\"input_ids\"].unsqueeze(1),\n",
    "        \"neu_tokens\": neu_tokens[\"input_ids\"].unsqueeze(1),\n",
    "        \"neg_tokens\": neg_tokens[\"input_ids\"].unsqueeze(1),\n",
    "        \"pos_attention\": pos_tokens[\"attention_mask\"].unsqueeze(1),\n",
    "        \"neu_attention\": neu_tokens[\"attention_mask\"].unsqueeze(1),\n",
    "        \"neg_attention\": neg_tokens[\"attention_mask\"].unsqueeze(1),\n",
    "    }\n",
    "    \n",
    "    inputs = {k: v.to(device) for k, v in inputs.items()}\n",
    "    \n",
    "    with torch.no_grad():\n",
    "        outputs = model(**inputs)\n",
    "    \n",
    "    logits = outputs\n",
    "    probabilities = torch.softmax(logits, dim=-1)\n",
    "    \n",
    "    predicted_class = torch.argmax(probabilities, dim=-1).item()\n",
    "    \n",
    "    \n",
    "    return predicted_class, probabilities[0].cpu().numpy()"
   ]
  },
  {
   "cell_type": "markdown",
   "metadata": {},
   "source": [
    "### Validation"
   ]
  },
  {
   "cell_type": "code",
   "execution_count": 26,
   "metadata": {},
   "outputs": [
    {
     "name": "stdout",
     "output_type": "stream",
     "text": [
      "(721,) (721,)\n",
      "              precision    recall  f1-score   support\n",
      "\n",
      "         NEG       0.54      0.55      0.55       244\n",
      "         NEU       0.68      0.61      0.64       406\n",
      "         POS       0.21      0.34      0.26        71\n",
      "\n",
      "    accuracy                           0.56       721\n",
      "   macro avg       0.48      0.50      0.48       721\n",
      "weighted avg       0.59      0.56      0.57       721\n",
      "\n"
     ]
    }
   ],
   "source": [
    "model.eval()\n",
    "\n",
    "y_pred_val = []\n",
    "y_true_val = []\n",
    "with torch.no_grad(): \n",
    "    for batch in val_dataloader:\n",
    "        batch = {k: v.to(device) for k, v in batch.items()}\n",
    "        outputs = model(**batch)\n",
    "        y_pred_val.extend(torch.argmax(outputs, dim=-1).tolist())\n",
    "        y_true_val.extend(batch[\"labels\"].tolist())\n",
    "\n",
    "y_pred_val = np.array(y_pred_val)\n",
    "y_true_val = np.array(y_true_val)\n",
    "print(y_pred_val.shape, y_true_val.shape)\n",
    "print(classification_report(y_true_val, y_pred_val, target_names=mapping.keys()))"
   ]
  },
  {
   "cell_type": "markdown",
   "metadata": {},
   "source": [
    "### Test"
   ]
  },
  {
   "cell_type": "code",
   "execution_count": 27,
   "metadata": {},
   "outputs": [
    {
     "name": "stdout",
     "output_type": "stream",
     "text": [
      "(1442,) (1442,)\n",
      "              precision    recall  f1-score   support\n",
      "\n",
      "         NEG       0.54      0.53      0.54       487\n",
      "         NEU       0.69      0.61      0.65       812\n",
      "         POS       0.28      0.48      0.36       143\n",
      "\n",
      "    accuracy                           0.57      1442\n",
      "   macro avg       0.50      0.54      0.51      1442\n",
      "weighted avg       0.60      0.57      0.58      1442\n",
      "\n"
     ]
    }
   ],
   "source": [
    "model.eval()\n",
    "\n",
    "y_pred_test = []\n",
    "y_true_test = []\n",
    "with torch.no_grad(): \n",
    "    for batch in test_dataloader:\n",
    "        batch = {k: v.to(device) for k, v in batch.items()}\n",
    "        outputs = model(**batch)\n",
    "        y_pred_test.extend(torch.argmax(outputs, dim=-1).tolist())\n",
    "        y_true_test.extend(batch[\"labels\"].tolist())\n",
    "\n",
    "y_pred_test = np.array(y_pred_test)\n",
    "y_true_test = np.array(y_true_test)\n",
    "print(y_pred_test.shape, y_true_test.shape)\n",
    "print(classification_report(y_true_test, y_pred_test, target_names=mapping.keys()))"
   ]
  },
  {
   "cell_type": "code",
   "execution_count": 28,
   "metadata": {},
   "outputs": [
    {
     "ename": "ValueError",
     "evalue": "Incompatible dimension for X and Y matrices: X.shape[1] == 384 while Y.shape[1] == 512",
     "output_type": "error",
     "traceback": [
      "\u001b[0;31m---------------------------------------------------------------------------\u001b[0m",
      "\u001b[0;31mValueError\u001b[0m                                Traceback (most recent call last)",
      "Cell \u001b[0;32mIn[28], line 18\u001b[0m\n\u001b[1;32m     14\u001b[0m input_emb_p2 \u001b[38;5;241m=\u001b[39m test_df[\u001b[38;5;124m\"\u001b[39m\u001b[38;5;124membedding_paraphrase2\u001b[39m\u001b[38;5;124m\"\u001b[39m][i]\n\u001b[1;32m     16\u001b[0m real_label \u001b[38;5;241m=\u001b[39m test_df[\u001b[38;5;124m'\u001b[39m\u001b[38;5;124mlabel\u001b[39m\u001b[38;5;124m'\u001b[39m][i]\n\u001b[0;32m---> 18\u001b[0m predicted_label, probabilities \u001b[38;5;241m=\u001b[39m \u001b[43mpredict_sample\u001b[49m\u001b[43m(\u001b[49m\u001b[43mmodel\u001b[49m\u001b[43m,\u001b[49m\u001b[43m \u001b[49m\u001b[43mtokenizer\u001b[49m\u001b[43m,\u001b[49m\u001b[43m \u001b[49m\u001b[43minput_text\u001b[49m\u001b[43m,\u001b[49m\u001b[43m \u001b[49m\u001b[43minput_label\u001b[49m\u001b[43m,\u001b[49m\u001b[43m \u001b[49m\u001b[43minput_embedding\u001b[49m\u001b[43m)\u001b[49m\n\u001b[1;32m     19\u001b[0m predicted_label1, probabilities1 \u001b[38;5;241m=\u001b[39m predict_sample(model, tokenizer, paraphrase_text1, input_label, input_emb_p1)\n\u001b[1;32m     20\u001b[0m predicted_label2, probabilities2 \u001b[38;5;241m=\u001b[39m predict_sample(model, tokenizer, paraphrase_text2, input_label, input_emb_p2)\n",
      "Cell \u001b[0;32mIn[25], line 6\u001b[0m, in \u001b[0;36mpredict_sample\u001b[0;34m(model, tokenizer, sample_text, label, embedding_str)\u001b[0m\n\u001b[1;32m      1\u001b[0m \u001b[38;5;28;01mdef\u001b[39;00m\u001b[38;5;250m \u001b[39m\u001b[38;5;21mpredict_sample\u001b[39m(model, tokenizer, sample_text, label, embedding_str):\n\u001b[1;32m      2\u001b[0m \u001b[38;5;250m    \u001b[39m\u001b[38;5;124;03m\"\"\"\u001b[39;00m\n\u001b[1;32m      3\u001b[0m \u001b[38;5;124;03m    Predict the sentiment of a sample text\u001b[39;00m\n\u001b[1;32m      4\u001b[0m \u001b[38;5;124;03m    \"\"\"\u001b[39;00m\n\u001b[0;32m----> 6\u001b[0m     pos_texts, neu_texts, neg_texts \u001b[38;5;241m=\u001b[39m \u001b[43mcompute_embeddings_distance\u001b[49m\u001b[43m(\u001b[49m\u001b[43membedding_str\u001b[49m\u001b[43m,\u001b[49m\u001b[43m \u001b[49m\u001b[38;5;241;43m1\u001b[39;49m\u001b[43m,\u001b[49m\u001b[43m \u001b[49m\u001b[43mtrain_df\u001b[49m\u001b[43m)\u001b[49m\n\u001b[1;32m      7\u001b[0m     encoding \u001b[38;5;241m=\u001b[39m tokenizer(sample_text, padding\u001b[38;5;241m=\u001b[39m\u001b[38;5;124m\"\u001b[39m\u001b[38;5;124mmax_length\u001b[39m\u001b[38;5;124m\"\u001b[39m, truncation\u001b[38;5;241m=\u001b[39m\u001b[38;5;28;01mTrue\u001b[39;00m, max_length\u001b[38;5;241m=\u001b[39mTOKEN_DIM, return_tensors\u001b[38;5;241m=\u001b[39m\u001b[38;5;124m\"\u001b[39m\u001b[38;5;124mpt\u001b[39m\u001b[38;5;124m\"\u001b[39m)\n\u001b[1;32m      9\u001b[0m     \u001b[38;5;66;03m# Tokenizar los textos más similares\u001b[39;00m\n",
      "Cell \u001b[0;32mIn[3], line 27\u001b[0m, in \u001b[0;36mcompute_embeddings_distance\u001b[0;34m(embedding_str, k, df)\u001b[0m\n\u001b[1;32m     24\u001b[0m df_neg \u001b[38;5;241m=\u001b[39m df[df[\u001b[38;5;124m\"\u001b[39m\u001b[38;5;124mlabel\u001b[39m\u001b[38;5;124m\"\u001b[39m]\u001b[38;5;241m==\u001b[39m\u001b[38;5;241m0\u001b[39m]\n\u001b[1;32m     26\u001b[0m pos_description_embeddings \u001b[38;5;241m=\u001b[39m np\u001b[38;5;241m.\u001b[39mvstack(df_pos[emb_col]\u001b[38;5;241m.\u001b[39mvalues)\n\u001b[0;32m---> 27\u001b[0m pos_nearest_descriptions \u001b[38;5;241m=\u001b[39m \u001b[43mextract_similar_descriptions\u001b[49m\u001b[43m(\u001b[49m\u001b[43membedding\u001b[49m\u001b[43m,\u001b[49m\u001b[43m \u001b[49m\u001b[43mpos_description_embeddings\u001b[49m\u001b[43m,\u001b[49m\u001b[43m \u001b[49m\u001b[43mk\u001b[49m\u001b[43m)\u001b[49m\n\u001b[1;32m     28\u001b[0m pos_result \u001b[38;5;241m=\u001b[39m df_pos\u001b[38;5;241m.\u001b[39miloc[pos_nearest_descriptions][text_col]\n\u001b[1;32m     30\u001b[0m neu_description_embeddings \u001b[38;5;241m=\u001b[39m np\u001b[38;5;241m.\u001b[39mvstack(df_neu[emb_col]\u001b[38;5;241m.\u001b[39mvalues)\n",
      "Cell \u001b[0;32mIn[3], line 5\u001b[0m, in \u001b[0;36mextract_similar_descriptions\u001b[0;34m(e, embeddings, k)\u001b[0m\n\u001b[1;32m      4\u001b[0m \u001b[38;5;28;01mdef\u001b[39;00m\u001b[38;5;250m \u001b[39m\u001b[38;5;21mextract_similar_descriptions\u001b[39m(e, embeddings, k):\n\u001b[0;32m----> 5\u001b[0m     similarities \u001b[38;5;241m=\u001b[39m \u001b[43mcosine_similarity\u001b[49m\u001b[43m(\u001b[49m\u001b[43m[\u001b[49m\u001b[43me\u001b[49m\u001b[43m]\u001b[49m\u001b[43m,\u001b[49m\u001b[43m \u001b[49m\u001b[43membeddings\u001b[49m\u001b[43m)\u001b[49m[\u001b[38;5;241m0\u001b[39m]\n\u001b[1;32m      6\u001b[0m     top_indices \u001b[38;5;241m=\u001b[39m np\u001b[38;5;241m.\u001b[39margsort(similarities)[\u001b[38;5;241m-\u001b[39mk:][::\u001b[38;5;241m-\u001b[39m\u001b[38;5;241m1\u001b[39m]\n\u001b[1;32m      7\u001b[0m     \u001b[38;5;28;01mreturn\u001b[39;00m top_indices\n",
      "File \u001b[0;32m~/miniconda3/envs/nlp/lib/python3.10/site-packages/sklearn/utils/_param_validation.py:216\u001b[0m, in \u001b[0;36mvalidate_params.<locals>.decorator.<locals>.wrapper\u001b[0;34m(*args, **kwargs)\u001b[0m\n\u001b[1;32m    210\u001b[0m \u001b[38;5;28;01mtry\u001b[39;00m:\n\u001b[1;32m    211\u001b[0m     \u001b[38;5;28;01mwith\u001b[39;00m config_context(\n\u001b[1;32m    212\u001b[0m         skip_parameter_validation\u001b[38;5;241m=\u001b[39m(\n\u001b[1;32m    213\u001b[0m             prefer_skip_nested_validation \u001b[38;5;129;01mor\u001b[39;00m global_skip_validation\n\u001b[1;32m    214\u001b[0m         )\n\u001b[1;32m    215\u001b[0m     ):\n\u001b[0;32m--> 216\u001b[0m         \u001b[38;5;28;01mreturn\u001b[39;00m \u001b[43mfunc\u001b[49m\u001b[43m(\u001b[49m\u001b[38;5;241;43m*\u001b[39;49m\u001b[43margs\u001b[49m\u001b[43m,\u001b[49m\u001b[43m \u001b[49m\u001b[38;5;241;43m*\u001b[39;49m\u001b[38;5;241;43m*\u001b[39;49m\u001b[43mkwargs\u001b[49m\u001b[43m)\u001b[49m\n\u001b[1;32m    217\u001b[0m \u001b[38;5;28;01mexcept\u001b[39;00m InvalidParameterError \u001b[38;5;28;01mas\u001b[39;00m e:\n\u001b[1;32m    218\u001b[0m     \u001b[38;5;66;03m# When the function is just a wrapper around an estimator, we allow\u001b[39;00m\n\u001b[1;32m    219\u001b[0m     \u001b[38;5;66;03m# the function to delegate validation to the estimator, but we replace\u001b[39;00m\n\u001b[1;32m    220\u001b[0m     \u001b[38;5;66;03m# the name of the estimator by the name of the function in the error\u001b[39;00m\n\u001b[1;32m    221\u001b[0m     \u001b[38;5;66;03m# message to avoid confusion.\u001b[39;00m\n\u001b[1;32m    222\u001b[0m     msg \u001b[38;5;241m=\u001b[39m re\u001b[38;5;241m.\u001b[39msub(\n\u001b[1;32m    223\u001b[0m         \u001b[38;5;124mr\u001b[39m\u001b[38;5;124m\"\u001b[39m\u001b[38;5;124mparameter of \u001b[39m\u001b[38;5;124m\\\u001b[39m\u001b[38;5;124mw+ must be\u001b[39m\u001b[38;5;124m\"\u001b[39m,\n\u001b[1;32m    224\u001b[0m         \u001b[38;5;124mf\u001b[39m\u001b[38;5;124m\"\u001b[39m\u001b[38;5;124mparameter of \u001b[39m\u001b[38;5;132;01m{\u001b[39;00mfunc\u001b[38;5;241m.\u001b[39m\u001b[38;5;18m__qualname__\u001b[39m\u001b[38;5;132;01m}\u001b[39;00m\u001b[38;5;124m must be\u001b[39m\u001b[38;5;124m\"\u001b[39m,\n\u001b[1;32m    225\u001b[0m         \u001b[38;5;28mstr\u001b[39m(e),\n\u001b[1;32m    226\u001b[0m     )\n",
      "File \u001b[0;32m~/miniconda3/envs/nlp/lib/python3.10/site-packages/sklearn/metrics/pairwise.py:1741\u001b[0m, in \u001b[0;36mcosine_similarity\u001b[0;34m(X, Y, dense_output)\u001b[0m\n\u001b[1;32m   1695\u001b[0m \u001b[38;5;250m\u001b[39m\u001b[38;5;124;03m\"\"\"Compute cosine similarity between samples in X and Y.\u001b[39;00m\n\u001b[1;32m   1696\u001b[0m \n\u001b[1;32m   1697\u001b[0m \u001b[38;5;124;03mCosine similarity, or the cosine kernel, computes similarity as the\u001b[39;00m\n\u001b[0;32m   (...)\u001b[0m\n\u001b[1;32m   1737\u001b[0m \u001b[38;5;124;03m       [0.57..., 0.81...]])\u001b[39;00m\n\u001b[1;32m   1738\u001b[0m \u001b[38;5;124;03m\"\"\"\u001b[39;00m\n\u001b[1;32m   1739\u001b[0m \u001b[38;5;66;03m# to avoid recursive import\u001b[39;00m\n\u001b[0;32m-> 1741\u001b[0m X, Y \u001b[38;5;241m=\u001b[39m \u001b[43mcheck_pairwise_arrays\u001b[49m\u001b[43m(\u001b[49m\u001b[43mX\u001b[49m\u001b[43m,\u001b[49m\u001b[43m \u001b[49m\u001b[43mY\u001b[49m\u001b[43m)\u001b[49m\n\u001b[1;32m   1743\u001b[0m X_normalized \u001b[38;5;241m=\u001b[39m normalize(X, copy\u001b[38;5;241m=\u001b[39m\u001b[38;5;28;01mTrue\u001b[39;00m)\n\u001b[1;32m   1744\u001b[0m \u001b[38;5;28;01mif\u001b[39;00m X \u001b[38;5;129;01mis\u001b[39;00m Y:\n",
      "File \u001b[0;32m~/miniconda3/envs/nlp/lib/python3.10/site-packages/sklearn/metrics/pairwise.py:229\u001b[0m, in \u001b[0;36mcheck_pairwise_arrays\u001b[0;34m(X, Y, precomputed, dtype, accept_sparse, force_all_finite, ensure_all_finite, ensure_2d, copy)\u001b[0m\n\u001b[1;32m    221\u001b[0m         \u001b[38;5;28;01mraise\u001b[39;00m \u001b[38;5;167;01mValueError\u001b[39;00m(\n\u001b[1;32m    222\u001b[0m             \u001b[38;5;124m\"\u001b[39m\u001b[38;5;124mPrecomputed metric requires shape \u001b[39m\u001b[38;5;124m\"\u001b[39m\n\u001b[1;32m    223\u001b[0m             \u001b[38;5;124m\"\u001b[39m\u001b[38;5;124m(n_queries, n_indexed). Got (\u001b[39m\u001b[38;5;132;01m%d\u001b[39;00m\u001b[38;5;124m, \u001b[39m\u001b[38;5;132;01m%d\u001b[39;00m\u001b[38;5;124m) \u001b[39m\u001b[38;5;124m\"\u001b[39m\n\u001b[1;32m    224\u001b[0m             \u001b[38;5;124m\"\u001b[39m\u001b[38;5;124mfor \u001b[39m\u001b[38;5;132;01m%d\u001b[39;00m\u001b[38;5;124m indexed.\u001b[39m\u001b[38;5;124m\"\u001b[39m \u001b[38;5;241m%\u001b[39m (X\u001b[38;5;241m.\u001b[39mshape[\u001b[38;5;241m0\u001b[39m], X\u001b[38;5;241m.\u001b[39mshape[\u001b[38;5;241m1\u001b[39m], Y\u001b[38;5;241m.\u001b[39mshape[\u001b[38;5;241m0\u001b[39m])\n\u001b[1;32m    225\u001b[0m         )\n\u001b[1;32m    226\u001b[0m \u001b[38;5;28;01melif\u001b[39;00m ensure_2d \u001b[38;5;129;01mand\u001b[39;00m X\u001b[38;5;241m.\u001b[39mshape[\u001b[38;5;241m1\u001b[39m] \u001b[38;5;241m!=\u001b[39m Y\u001b[38;5;241m.\u001b[39mshape[\u001b[38;5;241m1\u001b[39m]:\n\u001b[1;32m    227\u001b[0m     \u001b[38;5;66;03m# Only check the number of features if 2d arrays are enforced. Otherwise,\u001b[39;00m\n\u001b[1;32m    228\u001b[0m     \u001b[38;5;66;03m# validation is left to the user for custom metrics.\u001b[39;00m\n\u001b[0;32m--> 229\u001b[0m     \u001b[38;5;28;01mraise\u001b[39;00m \u001b[38;5;167;01mValueError\u001b[39;00m(\n\u001b[1;32m    230\u001b[0m         \u001b[38;5;124m\"\u001b[39m\u001b[38;5;124mIncompatible dimension for X and Y matrices: \u001b[39m\u001b[38;5;124m\"\u001b[39m\n\u001b[1;32m    231\u001b[0m         \u001b[38;5;124m\"\u001b[39m\u001b[38;5;124mX.shape[1] == \u001b[39m\u001b[38;5;132;01m%d\u001b[39;00m\u001b[38;5;124m while Y.shape[1] == \u001b[39m\u001b[38;5;132;01m%d\u001b[39;00m\u001b[38;5;124m\"\u001b[39m \u001b[38;5;241m%\u001b[39m (X\u001b[38;5;241m.\u001b[39mshape[\u001b[38;5;241m1\u001b[39m], Y\u001b[38;5;241m.\u001b[39mshape[\u001b[38;5;241m1\u001b[39m])\n\u001b[1;32m    232\u001b[0m     )\n\u001b[1;32m    234\u001b[0m \u001b[38;5;28;01mreturn\u001b[39;00m X, Y\n",
      "\u001b[0;31mValueError\u001b[0m: Incompatible dimension for X and Y matrices: X.shape[1] == 384 while Y.shape[1] == 512"
     ]
    }
   ],
   "source": [
    "y_pred_test = []\n",
    "y_true_test = []\n",
    "\n",
    "for i in range(len(test_df)):\n",
    "    input_text = test_df[\"translation\"][i]\n",
    "    input_label = test_df[\"label\"][i]\n",
    "    input_embedding = test_df[\"embeddings_ingles\"][i]    \n",
    "    # Get paraphrased samples\n",
    "    samples = ast.literal_eval(test_df[\"paraphrase\"][i])\n",
    "    samples=list(samples)\n",
    "    paraphrase_text1 = samples[0]\n",
    "    paraphrase_text2 = samples[1]\n",
    "    input_emb_p1 = test_df[\"embedding_paraphrase1\"][i]\n",
    "    input_emb_p2 = test_df[\"embedding_paraphrase2\"][i]\n",
    "\n",
    "    real_label = test_df['label'][i]\n",
    "\n",
    "    predicted_label, probabilities = predict_sample(model, tokenizer, input_text, input_label, input_embedding)\n",
    "    predicted_label1, probabilities1 = predict_sample(model, tokenizer, paraphrase_text1, input_label, input_emb_p1)\n",
    "    predicted_label2, probabilities2 = predict_sample(model, tokenizer, paraphrase_text2, input_label, input_emb_p2)\n",
    "\n",
    "    if predicted_label != predicted_label1 and predicted_label != predicted_label2 and predicted_label1 != predicted_label2:\n",
    "        labels = [predicted_label, predicted_label1, predicted_label2]\n",
    "        label1_score = max(probabilities)\n",
    "        label2_score = max(probabilities1)\n",
    "        label3_score = max(probabilities2)\n",
    "        scores = {label1_score: predicted_label, label2_score: predicted_label1, label3_score: predicted_label2}\n",
    "        final_label = max(scores.keys())\n",
    "        predicted_label = scores[final_label]\n",
    "    else:\n",
    "        # Get the most frequent label\n",
    "        predicted_label = max(predicted_label, predicted_label1, predicted_label2, key=[predicted_label, predicted_label1, predicted_label2].count)\n",
    "        \n",
    "    y_pred_test.append(predicted_label)\n",
    "    y_true_test.append(real_label)\n",
    "\n",
    "y_pred_test = np.array(y_pred_test)\n",
    "y_true_test = np.array(y_true_test)\n",
    "\n",
    "print(classification_report(y_true_test, y_pred_test, target_names=mapping.keys()))\n",
    "# Confusion matrix\n",
    "cm = confusion_matrix(y_true_test, y_pred_test)\n",
    "disp = ConfusionMatrixDisplay(confusion_matrix=cm, display_labels=mapping.keys())\n",
    "disp.plot(cmap=plt.cm.Blues)"
   ]
  }
 ],
 "metadata": {
  "kernelspec": {
   "display_name": "nlp",
   "language": "python",
   "name": "python3"
  },
  "language_info": {
   "codemirror_mode": {
    "name": "ipython",
    "version": 3
   },
   "file_extension": ".py",
   "mimetype": "text/x-python",
   "name": "python",
   "nbconvert_exporter": "python",
   "pygments_lexer": "ipython3",
   "version": "3.10.16"
  }
 },
 "nbformat": 4,
 "nbformat_minor": 2
}
